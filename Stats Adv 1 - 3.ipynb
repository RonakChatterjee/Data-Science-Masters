{
 "cells": [
  {
   "cell_type": "code",
   "execution_count": null,
   "id": "b8da3269-467c-4f92-b7f1-695f26c76a4e",
   "metadata": {},
   "outputs": [],
   "source": [
    "'''\n",
    "Q1: What is Estimation Statistics? Explain point estimate and interval estimate.\n",
    "'''"
   ]
  },
  {
   "cell_type": "code",
   "execution_count": null,
   "id": "2febd078-b2c8-4742-8a1b-b5a2ccc58502",
   "metadata": {},
   "outputs": [],
   "source": [
    "#Ans 1:\n",
    "'''\n",
    "Estimation Statistics is that branch of statistics which provides us a specified observed numerical value to estimate an unknown\n",
    "population parameter.\n",
    "\n",
    "Point Estimate: It is a single numerical value used to estimate unknown population parameter. Example- Sample mean is used to estimate\n",
    "the population mean.\n",
    "\n",
    "Interval estimate: It is a range of values used to estimate an unknown population parameter.\n",
    "'''"
   ]
  },
  {
   "cell_type": "code",
   "execution_count": null,
   "id": "630f4d36-02c1-4969-bb5f-b05f0c91ac48",
   "metadata": {},
   "outputs": [],
   "source": [
    "'''\n",
    "Q2. Write a Python function to estimate the population mean using a sample mean and standard\n",
    "deviation.\n",
    "'''"
   ]
  },
  {
   "cell_type": "code",
   "execution_count": 4,
   "id": "d818ded6-e85f-44bb-94f8-23c6c0195a59",
   "metadata": {},
   "outputs": [],
   "source": [
    "#Ans 2:\n",
    "import scipy.stats as stat\n",
    "import numpy as np\n",
    "import math"
   ]
  },
  {
   "cell_type": "code",
   "execution_count": 13,
   "id": "d06f5ba1-ab2c-431d-b722-3101d436d26c",
   "metadata": {},
   "outputs": [],
   "source": [
    "#As we don't have standard deviation of population, we are going to use t table here.\n",
    "\n",
    "def estimate_population_mean(sample_mean,sample_std,sample_size,alpha,confidence_interval):\n",
    "    degree_of_freedom = sample_size - 1\n",
    "    t_critical = abs(stat.t.ppf(alpha/2, degree_of_freedom))\n",
    "    \n",
    "    margin_of_error = (t_critical)*(sample_std/math.sqrt(sample_size))\n",
    "    \n",
    "    lower_bound = sample_mean - margin_of_error\n",
    "    upper_bound = sample_mean + margin_of_error\n",
    "    \n",
    "    return (lower_bound,upper_bound)\n"
   ]
  },
  {
   "cell_type": "code",
   "execution_count": 14,
   "id": "f3e21b1b-16e9-4d10-97cd-a2b64ed9e84c",
   "metadata": {},
   "outputs": [
    {
     "data": {
      "text/plain": [
       "(18.5063754529676, 21.4936245470324)"
      ]
     },
     "execution_count": 14,
     "metadata": {},
     "output_type": "execute_result"
    }
   ],
   "source": [
    "estimate_population_mean(20,4,30,0.05,0.95)"
   ]
  },
  {
   "cell_type": "code",
   "execution_count": null,
   "id": "b6deb965-0d9e-476a-bceb-61f6d5b8c06e",
   "metadata": {},
   "outputs": [],
   "source": [
    "'''The population mean will lie between this two values'''"
   ]
  },
  {
   "cell_type": "code",
   "execution_count": null,
   "id": "acc96a5d-d93b-4236-ae07-d6cbca10e7d7",
   "metadata": {},
   "outputs": [],
   "source": [
    "'''\n",
    "Q3: What is Hypothesis testing? Why is it used? State the importance of Hypothesis testing.\n",
    "'''"
   ]
  },
  {
   "cell_type": "code",
   "execution_count": null,
   "id": "607c303c-88a9-40fb-944c-35d655fbe746",
   "metadata": {},
   "outputs": [],
   "source": [
    "#Ans 3:\n",
    "'''\n",
    "The purpose of hypothesis testing is to test whether the null hypothesis (there is no difference, no effect) can be rejected or \n",
    "approved. If the null hypothesis is rejected, then the research hypothesis can be accepted. If the null hypothesis is accepted, \n",
    "then the research hypothesis is rejected.\n",
    "\n",
    "Hypothesis testing is used to assess the plausibility of a hypothesis by using sample data. The test provides evidence concerning the \n",
    "plausibility of the hypothesis, given the data. Statistical analysts test a hypothesis by measuring and examining a random sample of \n",
    "the population being analyzed.\n",
    "\n",
    "Having the entire data of population and analysing it can be time consuming. Due to that we take various samples from the \n",
    "population and try to conclude the parameters for population. For this we use various statistical tests like Z test, t test etc.\n",
    "\n",
    "'''"
   ]
  },
  {
   "cell_type": "code",
   "execution_count": null,
   "id": "a2852291-496a-4854-9fb9-fe7823305193",
   "metadata": {},
   "outputs": [],
   "source": [
    "'''\n",
    "Q4. Create a hypothesis that states whether the average weight of male college students is greater than \n",
    "the average weight of female college students.\n",
    "'''"
   ]
  },
  {
   "cell_type": "code",
   "execution_count": null,
   "id": "99852176-6a4d-4bff-b906-1947633537e2",
   "metadata": {},
   "outputs": [],
   "source": [
    "#Ans 4:\n",
    "'''\n",
    "Hypothesis:\n",
    "\n",
    "Null Hypothesis (H0): The average weight of male college students is equal to the average weight of female college students.\n",
    "\n",
    "Alternative Hypothesis (H1): The average weight of male college students is greater than the average weight of female college students.\n",
    "'''"
   ]
  },
  {
   "cell_type": "code",
   "execution_count": null,
   "id": "f750400c-874b-491b-9205-b7d8c6d42c52",
   "metadata": {},
   "outputs": [],
   "source": [
    "'''\n",
    "Q5. Write a Python script to conduct a hypothesis test on the difference between two population means, \n",
    "given a sample from each population.\n",
    "'''"
   ]
  },
  {
   "cell_type": "code",
   "execution_count": 7,
   "id": "bab6540c-f379-4578-a822-4a809b4a80ce",
   "metadata": {},
   "outputs": [
    {
     "name": "stdout",
     "output_type": "stream",
     "text": [
      "Reject the null hypothesis.\n"
     ]
    }
   ],
   "source": [
    "#Ans 5:\n",
    "import scipy.stats as stats\n",
    "\n",
    "# Define sample data for two populations\n",
    "male_weights = [75, 80, 82, 78, 76]\n",
    "female_weights = [62, 68, 70, 65, 67]\n",
    "\n",
    "# Define hypotheses\n",
    "null_hypothesis = \"The average weight of male and female students is equal.\"\n",
    "alternative_hypothesis = \"The average weight of male students is greater than female students.\"\n",
    "\n",
    "# Perform hypothesis test (assuming equal variances)\n",
    "t_statistic, p_value = stats.ttest_ind(male_weights, female_weights)\n",
    "\n",
    "# Evaluate results\n",
    "alpha = 0.05  # Significance level\n",
    "\n",
    "if p_value < alpha:\n",
    "    print(f\"Reject the null hypothesis.\")\n",
    "else:\n",
    "    print(f\"Fail to reject the null hypothesis.\")"
   ]
  },
  {
   "cell_type": "code",
   "execution_count": null,
   "id": "c7b83171-e4ca-4c76-9060-28c331d71bfd",
   "metadata": {},
   "outputs": [],
   "source": [
    "'''\n",
    "Q6: What is a null and alternative hypothesis? Give some examples.\n",
    "'''"
   ]
  },
  {
   "cell_type": "code",
   "execution_count": null,
   "id": "dac88d7c-baa2-4573-9fb0-d7c858511504",
   "metadata": {},
   "outputs": [],
   "source": [
    "#Ans 6:\n",
    "'''\n",
    "In statistics, null and alternative hypotheses are the two pillars of hypothesis testing. They form the framework for investigating a research \n",
    "question by proposing opposing statements about the population parameter of interest.\n",
    "\n",
    "Null hypothesis (H0):\n",
    "-->The statement claiming no difference or no effect, often representing the status quo.\n",
    "-->It's the initial assumption we aim to reject using statistical evidence.\n",
    "\n",
    "Alternative hypothesis (Ha):\n",
    "-->The statement proposing a specific difference or effect we expect to find.\n",
    "-->It's the research question translated into a statistical statement. We aim to support it with evidence.\n",
    "\n",
    "Examples:\n",
    "\n",
    "1. Education and Income:\n",
    "\n",
    "H0: There is no difference in average income between college graduates and non-graduates.\n",
    "H1: College graduates have a higher average income than non-graduates.\n",
    "\n",
    "2. Drug Effectiveness:\n",
    "\n",
    "H0: A new drug has no effect on reducing symptoms in patients with a specific disease.\n",
    "Ha: The new drug is effective in reducing symptoms in patients with the disease.\n",
    "'''"
   ]
  },
  {
   "cell_type": "code",
   "execution_count": null,
   "id": "992d0c5d-e569-463e-9bc7-6709efe7f974",
   "metadata": {},
   "outputs": [],
   "source": [
    "'''\n",
    "Q7: Write down the steps involved in hypothesis testing.\n",
    "'''"
   ]
  },
  {
   "cell_type": "code",
   "execution_count": null,
   "id": "23a9c778-ee4c-4012-aefe-f90e2506d0a2",
   "metadata": {},
   "outputs": [],
   "source": [
    "#Ans 7:\n",
    "'''\n",
    "Steps Involved in Hypothesis Testing:\n",
    "\n",
    "1.State your research question: This defines the area of inquiry and guides the hypothesis formulation.\n",
    "\n",
    "2.Formulate your hypotheses:\n",
    "Null hypothesis (H0): Proposes no difference or effect, representing the status quo.\n",
    "Alternative hypothesis (Ha): States the specific difference or effect you expect to find, reflecting your research question.\n",
    "\n",
    "3.Collect data: Gather a representative sample from the population of interest.\n",
    "\n",
    "4.Choose a statistical test: Select the appropriate test based on your data type, hypotheses, and assumptions.\n",
    "\n",
    "5.Perform the statistical test: Apply the chosen test to your data and obtain statistical results (e.g., p-value, test statistic).\n",
    "\n",
    "6.Interpret the results: Compare the test statistic or p-value to a pre-defined significance level (e.g., 0.05).\n",
    "\n",
    "7.Reject the null hypothesis: If the p-value is less than the significance level, there's strong evidence to support the alternative hypothesis and \n",
    "reject the initial assumption.\n",
    "\n",
    "Fail to reject the null hypothesis: If the p-value is greater than the significance level, there's insufficient evidence to reject the null \n",
    "hypothesis.\n",
    "\n",
    "8.Draw conclusions: Based on the results, interpret the findings and draw conclusions about the research question.\n",
    "\n",
    "9.Communicate your findings: Clearly report the hypotheses, data, analysis, and conclusions in a way that is understandable to your audience.\n",
    "'''"
   ]
  },
  {
   "cell_type": "code",
   "execution_count": null,
   "id": "cc311607-1151-4782-a598-9c7f0da2eebd",
   "metadata": {},
   "outputs": [],
   "source": [
    "'''\n",
    "Q8. Define p-value and explain its significance in hypothesis testing.\n",
    "'''"
   ]
  },
  {
   "cell_type": "code",
   "execution_count": null,
   "id": "85149a95-398f-4719-b58a-ec77ad6bbb0d",
   "metadata": {},
   "outputs": [],
   "source": [
    "#Ans 8:\n",
    "'''\n",
    "Imagine you conduct a study and observe a difference between two groups (e.g., average weight of male vs. female students). The p-value tells you \n",
    "how likely it is to observe such a difference, or even more extreme, if the null hypothesis were actually true.\n",
    "\n",
    "Significance in Hypothesis Testing:\n",
    "\n",
    "--> Quantitative measure of evidence: The p-value is a numerical value between 0 and 1. Lower values indicate stronger evidence against the null \n",
    "hypothesis.\n",
    "\n",
    "--> Decision-making tool: We pre-define a significance level (e.g., 0.05). If the p-value is less than the significance level, we reject the null \n",
    "hypothesis, concluding that the observed difference is unlikely to be due to chance and likely reflects a true effect.\n",
    "\n",
    "--> Not a binary switch: A p-value doesn't definitively prove or disprove the null hypothesis. It provides a degree of certainty based on the \n",
    "observed data and the chosen significance level.\n",
    "\n",
    "--> Misinterpretations: A high p-value (e.g., > 0.05) doesn't necessarily mean the null hypothesis is true, it just indicates insufficient evidence\n",
    "to reject it.\n",
    "'''"
   ]
  },
  {
   "cell_type": "code",
   "execution_count": null,
   "id": "1fd54086-96c0-4615-ad1f-cba1cc871406",
   "metadata": {},
   "outputs": [],
   "source": [
    "'''\n",
    "Q9. Generate a Student's t-distribution plot using Python's matplotlib library, with the degrees of freedom \n",
    "parameter set to 10.\n",
    "'''"
   ]
  },
  {
   "cell_type": "code",
   "execution_count": 6,
   "id": "19f3724c-ca32-4fe0-bbd0-773f69b1a189",
   "metadata": {},
   "outputs": [
    {
     "data": {
      "image/png": "[encoded data removed]",
      "text/plain": [
       "<Figure size 800x600 with 1 Axes>"
      ]
     },
     "metadata": {},
     "output_type": "display_data"
    }
   ],
   "source": [
    "#Ans 9:\n",
    "import matplotlib.pyplot as plt\n",
    "import numpy as np\n",
    "from scipy.stats import t\n",
    "\n",
    "# Define parameters\n",
    "df = 10  # Degrees of freedom\n",
    "x = np.linspace(-5, 5, 1000)  # Range of x-axis\n",
    "\n",
    "# Calculate probability density function (PDF)\n",
    "y_t = t.pdf(x, df)\n",
    "\n",
    "# Create and customize the plot\n",
    "plt.figure(figsize=(8, 6))\n",
    "plt.plot(x, y_t, label=f\"Student's t-distribution (df={df})\")\n",
    "plt.xlabel(\"x\")\n",
    "plt.ylabel(\"PDF\")\n",
    "plt.title(\"Student's t-distribution with df=10\")\n",
    "plt.grid(True)\n",
    "plt.legend()\n",
    "plt.show()\n"
   ]
  },
  {
   "cell_type": "code",
   "execution_count": null,
   "id": "9f6b7926-e3e8-4896-bb99-d65ea4bed716",
   "metadata": {},
   "outputs": [],
   "source": [
    "'''\n",
    "Q10. Write a Python program to calculate the two-sample t-test for independent samples, given two \n",
    "random samples of equal size and a null hypothesis that the population means are equal.\n",
    "'''"
   ]
  },
  {
   "cell_type": "code",
   "execution_count": 60,
   "id": "fb42ce07-a1fc-4881-ac3e-8161495bb2a1",
   "metadata": {},
   "outputs": [],
   "source": [
    "#Ans 10:\n",
    "import scipy.stats as stats\n",
    "import numpy as np"
   ]
  },
  {
   "cell_type": "code",
   "execution_count": 61,
   "id": "e82f525c-a483-444a-b57c-4c17428dc5a7",
   "metadata": {},
   "outputs": [],
   "source": [
    "#Samples from male and female population\n",
    "male_ages = np.random.randint(10,50,25)\n",
    "female_ages = np.random.randint(10,50,25)\n",
    "\n",
    "#Null Hypothesis: The Population means are equal\n",
    "#Alternate Hypothesis: The Population means are not equal"
   ]
  },
  {
   "cell_type": "code",
   "execution_count": 62,
   "id": "ec4c3b82-2ebf-486d-977b-506a208704fa",
   "metadata": {},
   "outputs": [],
   "source": [
    "alpha = 0.05"
   ]
  },
  {
   "cell_type": "code",
   "execution_count": 63,
   "id": "9c8eec26-44d5-4268-b0f1-9040c9f3e756",
   "metadata": {},
   "outputs": [],
   "source": [
    "t_value, p_value = stats.ttest_ind(male_ages,female_ages)"
   ]
  },
  {
   "cell_type": "code",
   "execution_count": 64,
   "id": "53743723-9bd1-4973-a8a6-a050718fde7f",
   "metadata": {},
   "outputs": [
    {
     "name": "stdout",
     "output_type": "stream",
     "text": [
      "-0.9982801104334958 0.32314965748503865\n"
     ]
    }
   ],
   "source": [
    "print(t_value, p_value)"
   ]
  },
  {
   "cell_type": "code",
   "execution_count": 97,
   "id": "4a757f8e-8598-4081-9be4-6e5ae22c4af6",
   "metadata": {},
   "outputs": [
    {
     "name": "stdout",
     "output_type": "stream",
     "text": [
      "Fail to reject the null hypothesis\n"
     ]
    }
   ],
   "source": [
    "if p_value < alpha:\n",
    "    print(f\"Reject the null hypothesis\")\n",
    "else:\n",
    "    print(f\"Fail to reject the null hypothesis\")"
   ]
  },
  {
   "cell_type": "code",
   "execution_count": null,
   "id": "1ba9b408-daa5-412c-914f-7247465aff96",
   "metadata": {},
   "outputs": [],
   "source": [
    "'''\n",
    "Q11: What is Student’s t distribution? When to use the t-Distribution.\n",
    "'''"
   ]
  },
  {
   "cell_type": "code",
   "execution_count": null,
   "id": "8e6923c8-9777-4363-8b5f-070f221be1cc",
   "metadata": {},
   "outputs": [],
   "source": [
    "#Ans 11:\n",
    "'''\n",
    "The Student's t-distribution, also known simply as the t-distribution, is a bell-shaped probability distribution similar to the normal distribution,\n",
    "but with some key differences:\n",
    "\n",
    "Similarities:\n",
    "-->Both are bell-shaped and symmetric around the mean.\n",
    "-->Both have a peak at the mean and decreasing probability as you move away from the mean.\n",
    "\n",
    "Differences:\n",
    "-->Heavy Tails: The t-distribution has \"heavier tails\" than the normal distribution. This means it allows for more extreme values in the data.\n",
    "-->Degrees of Freedom: The t-distribution has an additional parameter called the \"degrees of freedom,\" which controls the shape of the tails. \n",
    "Lower degrees of freedom lead to heavier tails and more spread in the distribution.\n",
    "\n",
    "When to use the t-distribution:\n",
    "-->Small sample sizes: When dealing with small sample sizes (less than 30), the population standard deviation is often unknown and needs to be \n",
    "estimated from the sample. The t-distribution accounts for this uncertainty, making it a more reliable choice than the normal distribution for \n",
    "hypothesis testing and confidence intervals.\n",
    "-->Unknown population variance: Even with large sample sizes, if the population variance is unknown, the t-distribution can be used as a \n",
    "conservative alternative to the normal distribution.\n",
    "-->Outliers: When data is prone to outliers, the t-distribution's heavier tails can help reduce their impact on statistical analysis.\n",
    "'''"
   ]
  },
  {
   "cell_type": "code",
   "execution_count": null,
   "id": "f2d4ddbb-f364-4b30-a9ea-0761a3c7848e",
   "metadata": {},
   "outputs": [],
   "source": [
    "'''\n",
    "Q12: What is t-statistic? State the formula for t-statistic.\n",
    "'''"
   ]
  },
  {
   "cell_type": "code",
   "execution_count": null,
   "id": "8e9c66f2-526b-4ffd-8eac-83c51831a20a",
   "metadata": {},
   "outputs": [],
   "source": [
    "#Ans 12:\n",
    "'''\n",
    "The t-statistic is the statistical value which helps us to decide whether we should accept or reject the null hypothesis while\n",
    "performimg t-test, which is done when we need to get an idea of population mean, when the sample size is less and population \n",
    "variance is not provided.\n",
    "\n",
    "The formula is as follows:\n",
    "\n",
    "t-value = (speculated mean - population mean)/(sample standard deviation)/Sqrt(sample size)\n",
    "\n",
    "Based on the significance value if the t-value does not lie in the confidence interval then we will reject the null hypothesis,\n",
    "else will accept it.\n",
    "'''"
   ]
  },
  {
   "cell_type": "code",
   "execution_count": null,
   "id": "55384845-7f1a-436b-b3a4-63a1b567d3ee",
   "metadata": {},
   "outputs": [],
   "source": [
    "'''\n",
    "Q13. A coffee shop owner wants to estimate the average daily revenue for their shop. They take a random\n",
    "sample of 50 days and find the sample mean revenue to be $500 with a standard deviation of $50.\n",
    "Estimate the population mean revenue with a 95% confidence interval.\n",
    "'''"
   ]
  },
  {
   "cell_type": "code",
   "execution_count": 95,
   "id": "77f7d256-16a8-4ed9-b5ea-106720ea903c",
   "metadata": {},
   "outputs": [],
   "source": [
    "#Ans 13:\n",
    "import scipy.stats as stat\n",
    "import numpy as np\n",
    "import math\n",
    "\n",
    "sample_size = 50\n",
    "sample_mean = 500\n",
    "sample_std = 50\n",
    "dof = 49 # 50 - 1 is the degree of freedom"
   ]
  },
  {
   "cell_type": "code",
   "execution_count": 96,
   "id": "810f8054-0cbf-4ec2-ab57-a250a8639df2",
   "metadata": {},
   "outputs": [],
   "source": [
    "#Confidence interval and Significance Value\n",
    "alpha = 0.05\n",
    "\n",
    "t_value = abs(stat.t.ppf((alpha/2),dof))"
   ]
  },
  {
   "cell_type": "code",
   "execution_count": 97,
   "id": "ac4eec70-8927-42ee-9aa9-429c2384b583",
   "metadata": {},
   "outputs": [],
   "source": [
    "#Margin of error\n",
    "margin = (t_value)*(sample_std)/math.sqrt(sample_size)"
   ]
  },
  {
   "cell_type": "code",
   "execution_count": 98,
   "id": "7214125d-9462-4849-81dc-97463d4c8217",
   "metadata": {},
   "outputs": [],
   "source": [
    "#bounds\n",
    "lower_bound = sample_mean - margin\n",
    "upper_bound = sample_mean + margin"
   ]
  },
  {
   "cell_type": "code",
   "execution_count": 99,
   "id": "a3ef5f81-afb7-448b-bc50-66e53d14e43d",
   "metadata": {},
   "outputs": [
    {
     "name": "stdout",
     "output_type": "stream",
     "text": [
      "Population mean will lie between 485.7901572438813 and 514.2098427561186\n"
     ]
    }
   ],
   "source": [
    "print(f\"Population mean will lie between {lower_bound} and {upper_bound}\")"
   ]
  },
  {
   "cell_type": "code",
   "execution_count": null,
   "id": "d630c4f3-caee-4880-b13e-b56acdba669d",
   "metadata": {},
   "outputs": [],
   "source": [
    "'''\n",
    "Q14. A researcher hypothesizes that a new drug will decrease blood pressure by 10 mmHg. They conduct a\n",
    "clinical trial with 100 patients and find that the sample mean decrease in blood pressure is 8 mmHg with a\n",
    "standard deviation of 3 mmHg. Test the hypothesis with a significance level of 0.05.\n",
    "'''"
   ]
  },
  {
   "cell_type": "code",
   "execution_count": null,
   "id": "a3030341-7602-4a6e-ad37-56118deece1c",
   "metadata": {},
   "outputs": [],
   "source": [
    "#Ans 14:\n",
    "'''\n",
    "It is a left one tail test.\n",
    "\n",
    "H0: There is no effect in blood pressure\n",
    "H1: There is an effect in blood pressure\n",
    "\n",
    "Confidence interval: 0.95\n",
    "alpha(Significance value): 0.05\n",
    "degree of freedom: 99\n",
    "\n",
    "Here population standard deviation is not provided. Hence we will do the hypothesis testing with the t-test.\n",
    "\n",
    "'''"
   ]
  },
  {
   "cell_type": "code",
   "execution_count": 100,
   "id": "644dd661-b244-4afe-83a5-a43397a3bc3c",
   "metadata": {},
   "outputs": [],
   "source": [
    "import scipy.stats as stats\n",
    "\n",
    "sample_mean = 8\n",
    "sample_std_dev = 3\n",
    "sample_size = 100\n",
    "hypothesized_mean = 10\n",
    "significance_level = 0.05"
   ]
  },
  {
   "cell_type": "code",
   "execution_count": 101,
   "id": "5c5c6580-6e15-482f-bc7d-9790ede6161f",
   "metadata": {},
   "outputs": [],
   "source": [
    "t_statistic = (sample_mean - hypothesized_mean) / (sample_std_dev / (sample_size ** 0.5))"
   ]
  },
  {
   "cell_type": "code",
   "execution_count": 102,
   "id": "31714a9d-39d7-4bd4-83e1-4e60daa1d3f7",
   "metadata": {},
   "outputs": [
    {
     "data": {
      "text/plain": [
       "-6.666666666666667"
      ]
     },
     "execution_count": 102,
     "metadata": {},
     "output_type": "execute_result"
    }
   ],
   "source": [
    "t_statistic"
   ]
  },
  {
   "cell_type": "code",
   "execution_count": 103,
   "id": "38bb20b6-6237-4dbc-ab73-e0d3b71b13d8",
   "metadata": {},
   "outputs": [
    {
     "data": {
      "text/plain": [
       "1.5012289009970215e-09"
      ]
     },
     "execution_count": 103,
     "metadata": {},
     "output_type": "execute_result"
    }
   ],
   "source": [
    "p_value = 2*(stats.t.cdf(t_statistic,99))\n",
    "p_value"
   ]
  },
  {
   "cell_type": "code",
   "execution_count": 47,
   "id": "bf9644b9-9449-494c-96a0-794a6919d8e4",
   "metadata": {},
   "outputs": [
    {
     "name": "stdout",
     "output_type": "stream",
     "text": [
      "Reject null hypothesis\n"
     ]
    }
   ],
   "source": [
    "if p_value < significance_level:\n",
    "    print(\"Reject null hypothesis\")\n",
    "else:\n",
    "    print(\"Failed to reject null hypothesis\")"
   ]
  },
  {
   "cell_type": "code",
   "execution_count": 48,
   "id": "4b7c90e8-3309-4dcf-9bd6-c08a51c7c4f2",
   "metadata": {},
   "outputs": [
    {
     "data": {
      "text/plain": [
       "-1.6603911559963902"
      ]
     },
     "execution_count": 48,
     "metadata": {},
     "output_type": "execute_result"
    }
   ],
   "source": [
    "#t-value\n",
    "stats.t.ppf(0.05,99)"
   ]
  },
  {
   "cell_type": "code",
   "execution_count": null,
   "id": "d9be9abe-5f41-4af3-b8ed-b697e27da665",
   "metadata": {},
   "outputs": [],
   "source": [
    "'''\n",
    "t-statistic is also less than t-value, hence it does not lie within the confidence interval. So we have to reject the null\n",
    "hypothesis\n",
    "'''"
   ]
  },
  {
   "cell_type": "code",
   "execution_count": null,
   "id": "39404dd7-2e3a-47de-9295-f159d90b792a",
   "metadata": {},
   "outputs": [],
   "source": [
    "'''\n",
    "Q15. An electronics company produces a certain type of product with a mean weight of 5 pounds and a\n",
    "standard deviation of 0.5 pounds. A random sample of 25 products is taken, and the sample mean weight\n",
    "is found to be 4.8 pounds. Test the hypothesis that the true mean weight of the products is less than 5\n",
    "pounds with a significance level of 0.01.\n",
    "'''"
   ]
  },
  {
   "cell_type": "code",
   "execution_count": 50,
   "id": "57357c81-a836-4ce5-b17a-0dcd980ae108",
   "metadata": {},
   "outputs": [
    {
     "data": {
      "text/plain": [
       "'\\nThis is a left tail test. As population mean and standard deviation is provided we will use Z test.\\n\\nH0: The mean weight of the produuct is 5\\nH1: The mean weight is less than 5\\n\\nConfidence interval is 0.99 and significance level is 0.01.\\n\\n'"
      ]
     },
     "execution_count": 50,
     "metadata": {},
     "output_type": "execute_result"
    }
   ],
   "source": [
    "#Ans 15:\n",
    "population_mean = 5\n",
    "population_std = 0.5\n",
    "sample_size = 25\n",
    "sample_mean = 4.8\n",
    "significance_value = 0.01 #alpha\n",
    "\n",
    "'''\n",
    "This is a left tail test. As population mean and standard deviation is provided we will use Z test.\n",
    "\n",
    "H0: The mean weight of the produuct is 5\n",
    "H1: The mean weight is less than 5\n",
    "\n",
    "Confidence interval is 0.99 and significance level is 0.01.\n",
    "\n",
    "'''"
   ]
  },
  {
   "cell_type": "code",
   "execution_count": 51,
   "id": "1a2f8f26-53be-4c1a-8140-15f9bcfdae0f",
   "metadata": {},
   "outputs": [
    {
     "data": {
      "text/plain": [
       "-2.0000000000000018"
      ]
     },
     "execution_count": 51,
     "metadata": {},
     "output_type": "execute_result"
    }
   ],
   "source": [
    "#Z-test\n",
    "z_test = (sample_mean - population_mean) / (population_std / (sample_size ** 0.5 ))\n",
    "z_test"
   ]
  },
  {
   "cell_type": "code",
   "execution_count": 52,
   "id": "69975752-8b22-414f-b209-71c800352e04",
   "metadata": {},
   "outputs": [],
   "source": [
    "import scipy.stats as stats"
   ]
  },
  {
   "cell_type": "code",
   "execution_count": 53,
   "id": "a433395b-7cdb-4f14-9c2b-d405783f391a",
   "metadata": {},
   "outputs": [
    {
     "data": {
      "text/plain": [
       "0.0455002638963582"
      ]
     },
     "execution_count": 53,
     "metadata": {},
     "output_type": "execute_result"
    }
   ],
   "source": [
    "p_value = 2*(stats.norm.cdf(z_test))\n",
    "p_value"
   ]
  },
  {
   "cell_type": "code",
   "execution_count": 54,
   "id": "bddc8997-6b85-4ec6-8fed-ee0c2f80d0a7",
   "metadata": {},
   "outputs": [
    {
     "data": {
      "text/plain": [
       "-2.3263478740408408"
      ]
     },
     "execution_count": 54,
     "metadata": {},
     "output_type": "execute_result"
    }
   ],
   "source": [
    "z_value = stats.norm.ppf(0.01)\n",
    "z_value"
   ]
  },
  {
   "cell_type": "code",
   "execution_count": null,
   "id": "c09d51b7-312e-4904-a8e1-0a8dd5ef6056",
   "metadata": {},
   "outputs": [],
   "source": [
    "'''\n",
    "Now z_test is greater than z_value, hence it lies in the confidence interval\n",
    "'''"
   ]
  },
  {
   "cell_type": "code",
   "execution_count": 56,
   "id": "fb0fb47b-f6a3-416e-98a7-0ba0db5cfaaa",
   "metadata": {},
   "outputs": [
    {
     "name": "stdout",
     "output_type": "stream",
     "text": [
      "Failed to reject null hypothesis\n"
     ]
    }
   ],
   "source": [
    "if p_value < significance_value:\n",
    "    print(\"Reject null hypothesis\")\n",
    "else:\n",
    "    print(\"Failed to reject null hypothesis\")"
   ]
  },
  {
   "cell_type": "code",
   "execution_count": null,
   "id": "69aeb743-4fde-4b84-a456-3a089a750332",
   "metadata": {},
   "outputs": [],
   "source": [
    "'''\n",
    "Q16. Two groups of students are given different study materials to prepare for a test. The first group (n1 =\n",
    "30) has a mean score of 80 with a standard deviation of 10, and the second group (n2 = 40) has a mean\n",
    "score of 75 with a standard deviation of 8. Test the hypothesis that the population means for the two\n",
    "groups are equal with a significance level of 0.01.\n",
    "'''"
   ]
  },
  {
   "cell_type": "code",
   "execution_count": 63,
   "id": "b093e1e6-cdaf-4573-909f-efb479874a4d",
   "metadata": {},
   "outputs": [],
   "source": [
    "#Ans 16:\n",
    "#As we have two groups here, we will use two sample t test\n",
    "\n",
    "mean1 = 80\n",
    "std1 = 10\n",
    "size1 = 30\n",
    "mean2 = 75\n",
    "std2 = 8\n",
    "size2 = 40\n",
    "\n",
    "significance_level = 0.01"
   ]
  },
  {
   "cell_type": "code",
   "execution_count": 64,
   "id": "f217f80a-c100-47af-9fe1-f2b73075418e",
   "metadata": {},
   "outputs": [],
   "source": [
    "import scipy.stats as stat"
   ]
  },
  {
   "cell_type": "code",
   "execution_count": 65,
   "id": "eb9cb4cd-b9f9-4903-8aa1-7507fa34fa42",
   "metadata": {},
   "outputs": [],
   "source": [
    "t_value, p_value = stat.ttest_ind_from_stats(mean1,std1,size1,mean2,std2,size2)"
   ]
  },
  {
   "cell_type": "code",
   "execution_count": 66,
   "id": "a03ac423-8a58-4d44-b2c0-46ffc364c0f3",
   "metadata": {},
   "outputs": [
    {
     "name": "stdout",
     "output_type": "stream",
     "text": [
      "The t_statistic is 2.323967729699292 and p_value is 0.02312301341372599\n"
     ]
    }
   ],
   "source": [
    "print(f\"The t_statistic is {t_value} and p_value is {p_value}\")"
   ]
  },
  {
   "cell_type": "code",
   "execution_count": 68,
   "id": "376cfe1a-4385-49d8-b684-76514e1714d1",
   "metadata": {},
   "outputs": [
    {
     "name": "stdout",
     "output_type": "stream",
     "text": [
      "Failed to reject null hypothesis\n"
     ]
    }
   ],
   "source": [
    "if p_value < significance_level:\n",
    "    print(\"Reject null hypothesis\")\n",
    "else:\n",
    "    print(\"Failed to reject null hypothesis\")"
   ]
  },
  {
   "cell_type": "code",
   "execution_count": null,
   "id": "7f90f46f-f38a-46aa-8556-2937ffa71ca1",
   "metadata": {},
   "outputs": [],
   "source": [
    "'''\n",
    "Q17. A marketing company wants to estimate the average number of ads watched by viewers during a TV\n",
    "program. They take a random sample of 50 viewers and find that the sample mean is 4 with a standard\n",
    "deviation of 1.5. Estimate the population mean with a 99% confidence interval.\n",
    "'''"
   ]
  },
  {
   "cell_type": "code",
   "execution_count": 82,
   "id": "b670d37e-e5cb-4c56-b21f-d42e910b54c4",
   "metadata": {},
   "outputs": [],
   "source": [
    "#Ans 17:\n",
    "sample_size = 50\n",
    "sample_mean = 4\n",
    "sample_std = 1.5\n",
    "dof = 49 #Degree of freedom 50 - 1 = 49\n",
    "#Confidence interval is 99%\n",
    "significance_level = 0.01"
   ]
  },
  {
   "cell_type": "code",
   "execution_count": 83,
   "id": "b0b70bd1-54fe-4926-af3f-78951bad7e2b",
   "metadata": {},
   "outputs": [],
   "source": [
    "import scipy.stats as stat"
   ]
  },
  {
   "cell_type": "code",
   "execution_count": 84,
   "id": "7d7f933d-d46a-4eb0-ac92-a33291db180d",
   "metadata": {},
   "outputs": [],
   "source": [
    "t_value = abs(stat.t.ppf((significance_level/2),dof))"
   ]
  },
  {
   "cell_type": "code",
   "execution_count": 85,
   "id": "5df92ffc-a67f-41f6-8d1d-5040e8fff472",
   "metadata": {},
   "outputs": [],
   "source": [
    "#margin of error\n",
    "margin = (t_value) * ((sample_std)/(sample_size ** 0.5))"
   ]
  },
  {
   "cell_type": "code",
   "execution_count": 86,
   "id": "1ad1f3b9-a4d8-49e4-a216-cbea8e013d74",
   "metadata": {},
   "outputs": [],
   "source": [
    "#bounds\n",
    "lower_bound = sample_mean - margin\n",
    "upper_bound = sample_mean + margin"
   ]
  },
  {
   "cell_type": "code",
   "execution_count": 87,
   "id": "7f7c4fcf-2a98-455b-8e5d-64716d5a9563",
   "metadata": {},
   "outputs": [
    {
     "name": "stdout",
     "output_type": "stream",
     "text": [
      "The population mean will lie between 3.4314963358572577 and 4.568503664142742\n"
     ]
    }
   ],
   "source": [
    "print(f\"The population mean will lie between {lower_bound} and {upper_bound}\")"
   ]
  }
 ],
 "metadata": {
  "kernelspec": {
   "display_name": "Python 3 (ipykernel)",
   "language": "python",
   "name": "python3"
  },
  "language_info": {
   "codemirror_mode": {
    "name": "ipython",
    "version": 3
   },
   "file_extension": ".py",
   "mimetype": "text/x-python",
   "name": "python",
   "nbconvert_exporter": "python",
   "pygments_lexer": "ipython3",
   "version": "3.10.8"
  }
 },
 "nbformat": 4,
 "nbformat_minor": 5
}
