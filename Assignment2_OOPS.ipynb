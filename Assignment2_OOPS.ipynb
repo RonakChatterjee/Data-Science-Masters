{
 "cells": [
  {
   "cell_type": "code",
   "execution_count": null,
   "id": "ecb68c27-cacb-4ff5-9880-9185a599ec5a",
   "metadata": {},
   "outputs": [],
   "source": [
    "#Q1\n",
    "\"\"\"\n",
    "Q1, Create a vehicle class with an init method having instance variables as name_of_vehicle, max_speed \n",
    "and average_of_vehicle. \n",
    "\"\"\""
   ]
  },
  {
   "cell_type": "code",
   "execution_count": 1,
   "id": "01c7b548-04cf-4492-b909-a97aaf53134b",
   "metadata": {},
   "outputs": [],
   "source": [
    "class vehicle():\n",
    "    \n",
    "    def __init__(self,name_of_vehicle, max_speed,average_of_vehicle):\n",
    "        self.name_of_vehicle = name_of_vehicle\n",
    "        self.max_speed = max_speed\n",
    "        self.average_of_vehicle = average_of_vehicle\n",
    "\n",
    "car1 = vehicle('Alto' , 100 , 40)"
   ]
  },
  {
   "cell_type": "code",
   "execution_count": 2,
   "id": "657bf700-c8a0-4219-b418-d11ea9d22261",
   "metadata": {},
   "outputs": [
    {
     "data": {
      "text/plain": [
       "'Alto'"
      ]
     },
     "execution_count": 2,
     "metadata": {},
     "output_type": "execute_result"
    }
   ],
   "source": [
    "car1.name_of_vehicle"
   ]
  },
  {
   "cell_type": "code",
   "execution_count": 3,
   "id": "79dd8f78-b421-4775-ab0c-4d67df164b77",
   "metadata": {},
   "outputs": [
    {
     "data": {
      "text/plain": [
       "100"
      ]
     },
     "execution_count": 3,
     "metadata": {},
     "output_type": "execute_result"
    }
   ],
   "source": [
    "car1.max_speed"
   ]
  },
  {
   "cell_type": "code",
   "execution_count": 4,
   "id": "4a6b049f-6ede-471e-9864-43a635d32621",
   "metadata": {},
   "outputs": [
    {
     "data": {
      "text/plain": [
       "40"
      ]
     },
     "execution_count": 4,
     "metadata": {},
     "output_type": "execute_result"
    }
   ],
   "source": [
    "car1.average_of_vehicle"
   ]
  },
  {
   "cell_type": "code",
   "execution_count": null,
   "id": "54cea7f0-801b-476a-94c8-f3f8ee98ec36",
   "metadata": {},
   "outputs": [],
   "source": [
    "#Q2\n",
    "\"\"\"\n",
    "Q2. Create a child class car from the vehicle class created in Que 1, which will inherit the vehicle class. \n",
    "Create a method named seating_capacity which takes capacity as an argument and returns the name of \n",
    "the vehicle and its seating capacity.\n",
    "\"\"\""
   ]
  },
  {
   "cell_type": "code",
   "execution_count": 32,
   "id": "e4ecd77b-f410-49c3-bb6d-0899270c3e95",
   "metadata": {},
   "outputs": [
    {
     "data": {
      "text/plain": [
       "'Thar has a capacity of 20'"
      ]
     },
     "execution_count": 32,
     "metadata": {},
     "output_type": "execute_result"
    }
   ],
   "source": [
    "class vehicle():\n",
    "    \n",
    "    def __init__(self,name_of_vehicle, max_speed,average_of_vehicle):\n",
    "        self.name_of_vehicle = name_of_vehicle\n",
    "        self.max_speed = max_speed\n",
    "        self.average_of_vehicle = average_of_vehicle\n",
    "\n",
    "class car(vehicle):\n",
    "    \n",
    "    def seating_capacity(self,capacity):\n",
    "        return f\"{self.name_of_vehicle} has a capacity of {capacity}\"\n",
    "    \n",
    "car2 = car('Thar',140,80)\n",
    "\n",
    "car2.seating_capacity(20)"
   ]
  },
  {
   "cell_type": "code",
   "execution_count": null,
   "id": "66f7b7a8-8cf7-466a-a3dc-69fb713d0ff0",
   "metadata": {},
   "outputs": [],
   "source": [
    "#Q3\n",
    "\"\"\"\n",
    "Q3. What is multiple inheritance? Write a python code to demonstrate multiple inheritance.\n",
    "\n",
    "Ans:\n",
    "When a class can be derived from more than one base class this type of inheritance is called multiple inheritances.\n",
    "In multiple inheritances, all the features of the base classes are inherited into the derived class.\n",
    "\n",
    "\"\"\""
   ]
  },
  {
   "cell_type": "code",
   "execution_count": 42,
   "id": "53f723dd-3978-464c-958d-3a2ad7a970f5",
   "metadata": {},
   "outputs": [
    {
     "name": "stdout",
     "output_type": "stream",
     "text": [
      "father\n",
      "mother\n",
      "Father name is : father\n",
      "Mother name is : mother\n",
      "Father name is : Papa\n",
      "Mother name is : Mummy\n",
      "Father name is : father\n",
      "Mother name is : mother\n"
     ]
    }
   ],
   "source": [
    "class Mother:\n",
    "    mothername = \"mother\"\n",
    " \n",
    "    def mother(self):\n",
    "        print(self.mothername)\n",
    " \n",
    " \n",
    "class Father:\n",
    "    fathername = \"father\"\n",
    " \n",
    "    def father(self):\n",
    "        print(self.fathername)\n",
    " \n",
    " \n",
    "class Son(Mother, Father):\n",
    "    def parents(self):\n",
    "        print(\"Father name is :\", self.fathername)\n",
    "        print(\"Mother name is :\", self.mothername)\n",
    "\n",
    "s1 = Son()\n",
    "s2 = Son()\n",
    "\n",
    "s1.father()\n",
    "s1.mother()\n",
    "s1.parents()\n",
    "\n",
    "s1.fathername = \"Papa\"\n",
    "s1.mothername = \"Mummy\"\n",
    "\n",
    "s1.parents()\n",
    "s2.parents()"
   ]
  },
  {
   "cell_type": "code",
   "execution_count": null,
   "id": "54ac03a8-82a5-4d83-9f57-11414bb9eb84",
   "metadata": {},
   "outputs": [],
   "source": [
    "#Q4.\n",
    "\"\"\"\n",
    "Q4. What are getter and setter in python? Create a class and create a getter and a setter method in this \n",
    "class\n",
    "\"\"\""
   ]
  },
  {
   "cell_type": "code",
   "execution_count": null,
   "id": "38121bf0-7a14-4c12-9a4f-ffefa083aed0",
   "metadata": {},
   "outputs": [],
   "source": [
    "\"\"\"\n",
    "Ans4: In a scenario when we don't want the outside users to directly get the value of any attribute in our class or directly change it we use this \n",
    "getter and setter.\n",
    "\n",
    "For this we use the property decorator that helps to expose the class property to the outside world.\n",
    "\n",
    "Let's understand with an example below:\n",
    "\n",
    "\"\"\""
   ]
  },
  {
   "cell_type": "code",
   "execution_count": 43,
   "id": "b2b22e9e-cd8f-4711-9698-3d19b0fe83de",
   "metadata": {},
   "outputs": [],
   "source": [
    "class Student():\n",
    "    \n",
    "    def __init__(self, student_name, student_marks):\n",
    "        self.student_name = student_name\n",
    "        self.__student_marks = student_marks\n",
    "        \n",
    "#getter\n",
    "    @property\n",
    "    def get_marks(self):\n",
    "        return self.__student_marks\n",
    "\n",
    "#setter\n",
    "    @get_marks.setter\n",
    "    def set_marks(self,marks):\n",
    "        self.__student_marks = marks\n",
    "        \n",
    "student1 = Student('Ronak' , 300)"
   ]
  },
  {
   "cell_type": "code",
   "execution_count": 44,
   "id": "31a687d3-6949-4a6d-bc1f-79dd6923ffb6",
   "metadata": {},
   "outputs": [
    {
     "data": {
      "text/plain": [
       "'Ronak'"
      ]
     },
     "execution_count": 44,
     "metadata": {},
     "output_type": "execute_result"
    }
   ],
   "source": [
    "student1.student_name"
   ]
  },
  {
   "cell_type": "code",
   "execution_count": 45,
   "id": "27463233-3e84-47a9-96f3-90fcf73619c3",
   "metadata": {},
   "outputs": [
    {
     "data": {
      "text/plain": [
       "300"
      ]
     },
     "execution_count": 45,
     "metadata": {},
     "output_type": "execute_result"
    }
   ],
   "source": [
    "student1._Student__student_marks #Cannot directly access"
   ]
  },
  {
   "cell_type": "code",
   "execution_count": 47,
   "id": "88d36b5c-06fd-4b41-b6e4-0883d817f4fe",
   "metadata": {},
   "outputs": [
    {
     "data": {
      "text/plain": [
       "300"
      ]
     },
     "execution_count": 47,
     "metadata": {},
     "output_type": "execute_result"
    }
   ],
   "source": [
    "student1.get_marks"
   ]
  },
  {
   "cell_type": "code",
   "execution_count": 49,
   "id": "3f5f99a6-6dd1-4f00-a71d-08ba9996f107",
   "metadata": {},
   "outputs": [
    {
     "data": {
      "text/plain": [
       "400"
      ]
     },
     "execution_count": 49,
     "metadata": {},
     "output_type": "execute_result"
    }
   ],
   "source": [
    "student1.set_marks = 400\n",
    "student1.get_marks"
   ]
  },
  {
   "cell_type": "code",
   "execution_count": null,
   "id": "efa1025d-227b-4fbf-84f3-45ce096abfe6",
   "metadata": {},
   "outputs": [],
   "source": [
    "#Q5\n",
    "\"\"\"\n",
    "Q5.What is method overriding in python? Write a python code to demonstrate method overriding.\n",
    "\"\"\""
   ]
  },
  {
   "cell_type": "code",
   "execution_count": null,
   "id": "523cffeb-6791-43d0-bdf9-6487e19d4700",
   "metadata": {},
   "outputs": [],
   "source": [
    "\"\"\"\n",
    "Ans5: Method Overriding is nothing but redefining a parent class method in a child class during inheritance.\n",
    "\n",
    "Example is mentioned below:\n",
    "\n",
    "\"\"\""
   ]
  },
  {
   "cell_type": "code",
   "execution_count": 51,
   "id": "7a6807c3-6b38-43b8-8137-4cf226bbe218",
   "metadata": {},
   "outputs": [
    {
     "data": {
      "text/plain": [
       "6"
      ]
     },
     "execution_count": 51,
     "metadata": {},
     "output_type": "execute_result"
    }
   ],
   "source": [
    "class Parent():\n",
    "    \n",
    "    def my_sum(self,a,b):\n",
    "        return a+b\n",
    "    \n",
    "class Child(Parent):\n",
    "    \n",
    "    def my_sum(self,a,b,c):\n",
    "        return a+b+c\n",
    "    \n",
    "c1 = Child()\n",
    "c1.my_sum(1,2,3)\n",
    "\n",
    "#Here we overrided the my_sum method/function of parent class that takes 2 arguments"
   ]
  }
 ],
 "metadata": {
  "kernelspec": {
   "display_name": "Python 3 (ipykernel)",
   "language": "python",
   "name": "python3"
  },
  "language_info": {
   "codemirror_mode": {
    "name": "ipython",
    "version": 3
   },
   "file_extension": ".py",
   "mimetype": "text/x-python",
   "name": "python",
   "nbconvert_exporter": "python",
   "pygments_lexer": "ipython3",
   "version": "3.10.8"
  }
 },
 "nbformat": 4,
 "nbformat_minor": 5
}
