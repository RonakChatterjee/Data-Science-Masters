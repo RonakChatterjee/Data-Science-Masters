{
 "cells": [
  {
   "cell_type": "code",
   "execution_count": null,
   "id": "ad127ebd-8b05-4aaa-9bf9-4d3976183d00",
   "metadata": {},
   "outputs": [],
   "source": [
    "'''\n",
    "Q1. What is the Probability density function?\n",
    "'''"
   ]
  },
  {
   "cell_type": "code",
   "execution_count": null,
   "id": "82a82b00-a10a-408e-a2c5-06c07ec4e781",
   "metadata": {},
   "outputs": [],
   "source": [
    "#Ans 1:\n",
    "'''\n",
    "Probability density function (pdf) is a mathematical function used in probability theory and statistics to describe the \n",
    "likelihood of a continuous random variable taking on a particular value.The area under the curve represents the total probability\n",
    "of the variable falling within a certain range.It can also be considered as the gradient descent of a cdf. Each point gives us the\n",
    "slope of the variable in cdf.\n",
    "'''"
   ]
  },
  {
   "cell_type": "code",
   "execution_count": null,
   "id": "87faad27-3e3a-4379-8577-d7a3ddfa0e9f",
   "metadata": {},
   "outputs": [],
   "source": [
    "'''\n",
    "Q2. What are the types of Probability distribution?\n",
    "'''"
   ]
  },
  {
   "cell_type": "code",
   "execution_count": null,
   "id": "387b8fd7-5c3d-425c-84d8-85674c4f3dce",
   "metadata": {},
   "outputs": [],
   "source": [
    "#Ans 2:\n",
    "'''\n",
    "The types of Probability Distribution are Bernoulli, Uniform, Binomial, Normal, Poisson,Log Normal.\n",
    "\n",
    "'''"
   ]
  },
  {
   "cell_type": "code",
   "execution_count": null,
   "id": "6690dcb2-de91-48bd-bfa0-5568135bfb7e",
   "metadata": {},
   "outputs": [],
   "source": [
    "'''\n",
    "Q3. Write a Python function to calculate the probability density function of a normal distribution with\n",
    "given mean and standard deviation at a given point.\n",
    "'''"
   ]
  },
  {
   "cell_type": "code",
   "execution_count": 22,
   "id": "530621bb-1287-4087-9f7f-942ad14d8368",
   "metadata": {},
   "outputs": [],
   "source": [
    "#Ans 3:\n",
    "import numpy as np\n",
    "import seaborn as sns\n",
    "from scipy.stats import norm"
   ]
  },
  {
   "cell_type": "code",
   "execution_count": 55,
   "id": "306069ca-63c9-43cc-8c12-e39d98cf5b02",
   "metadata": {},
   "outputs": [],
   "source": [
    "data = np.random.normal(4,2,20)"
   ]
  },
  {
   "cell_type": "code",
   "execution_count": 56,
   "id": "a24715df-7536-4ad4-b3eb-4cb9c2970115",
   "metadata": {},
   "outputs": [
    {
     "data": {
      "text/plain": [
       "array([ 7.11863824,  0.76928757,  5.18373099,  2.78109279,  4.54683527,\n",
       "        3.56563607, -0.31062665,  4.5952394 ,  1.61931002,  6.08548884,\n",
       "        2.64024966,  4.39423256,  5.51239417,  2.5432955 ,  5.99039792,\n",
       "        3.62500527,  1.8307125 ,  6.09497547,  3.51551011,  3.17573219])"
      ]
     },
     "execution_count": 56,
     "metadata": {},
     "output_type": "execute_result"
    }
   ],
   "source": [
    "data"
   ]
  },
  {
   "cell_type": "code",
   "execution_count": 57,
   "id": "4f850cc3-7c9d-4039-b44d-5e32bc4a4a9a",
   "metadata": {},
   "outputs": [],
   "source": [
    "mean = data.mean()"
   ]
  },
  {
   "cell_type": "code",
   "execution_count": 58,
   "id": "5231abcf-920e-442b-b4b3-62227515bbc8",
   "metadata": {},
   "outputs": [
    {
     "data": {
      "text/plain": [
       "3.763856893788892"
      ]
     },
     "execution_count": 58,
     "metadata": {},
     "output_type": "execute_result"
    }
   ],
   "source": [
    "mean"
   ]
  },
  {
   "cell_type": "code",
   "execution_count": 59,
   "id": "917b96e7-f9d0-49c0-ac26-71f5b6b4e277",
   "metadata": {},
   "outputs": [],
   "source": [
    "std = data.std()"
   ]
  },
  {
   "cell_type": "code",
   "execution_count": 60,
   "id": "3800c148-9de3-4b01-ab94-f0eababd1932",
   "metadata": {},
   "outputs": [
    {
     "data": {
      "text/plain": [
       "1.89605378284867"
      ]
     },
     "execution_count": 60,
     "metadata": {},
     "output_type": "execute_result"
    }
   ],
   "source": [
    "std"
   ]
  },
  {
   "cell_type": "code",
   "execution_count": 61,
   "id": "fe8d1335-f95a-42dc-89a1-b6280e0343bd",
   "metadata": {},
   "outputs": [
    {
     "data": {
      "text/plain": [
       "<AxesSubplot: ylabel='Count'>"
      ]
     },
     "execution_count": 61,
     "metadata": {},
     "output_type": "execute_result"
    },
    {
     "data": {
      "image/png": "[encoded data removed]",
      "text/plain": [
       "<Figure size 640x480 with 1 Axes>"
      ]
     },
     "metadata": {},
     "output_type": "display_data"
    }
   ],
   "source": [
    "sns.histplot(data,kde = True)"
   ]
  },
  {
   "cell_type": "code",
   "execution_count": 62,
   "id": "90ed0112-d36a-4572-a65a-c9f64ec3aab8",
   "metadata": {},
   "outputs": [
    {
     "data": {
      "text/plain": [
       "0.06971897474054277"
      ]
     },
     "execution_count": 62,
     "metadata": {},
     "output_type": "execute_result"
    }
   ],
   "source": [
    "#pdf value\n",
    "norm.pdf(mean,std)"
   ]
  },
  {
   "cell_type": "code",
   "execution_count": null,
   "id": "90743052-0266-42c2-a957-e2defbfca63f",
   "metadata": {},
   "outputs": [],
   "source": [
    "'''\n",
    "Q4. What are the properties of Binomial distribution? Give two examples of events where binomial\n",
    "distribution can be applied.\n",
    "'''"
   ]
  },
  {
   "cell_type": "code",
   "execution_count": null,
   "id": "799739dc-0a0b-4bc1-b9e4-f24c1ae72d1c",
   "metadata": {},
   "outputs": [],
   "source": [
    "#Ans 4:\n",
    "'''\n",
    "The properties are as follows:\n",
    "\n",
    "\n",
    "1: The number of observations n is fixed. \n",
    "2: Each observation is independent. \n",
    "3: Each observation represents one of two outcomes (\"success\" or \"failure\"). \n",
    "4: The probability of \"success\" p is the same for each outcome.\n",
    "\n",
    "The examples are:\n",
    "1: If we toss a coin, there could be only two possible outcomes: heads or tails, and if any test is taken, then there could be only two results: pass or fail.\n",
    "2: If another drug is known to treat an infection, it either cures the illness (it is effective) or does not cure the illness (it is ineffective).\n",
    "'''"
   ]
  },
  {
   "cell_type": "code",
   "execution_count": null,
   "id": "f8651038-6208-44fb-9726-9420e5d43fb1",
   "metadata": {},
   "outputs": [],
   "source": [
    "'''\n",
    "Q5. Generate a random sample of size 1000 from a binomial distribution with probability of success 0.4\n",
    "and plot a histogram of the results using matplotlib.\n",
    "'''"
   ]
  },
  {
   "cell_type": "code",
   "execution_count": 1,
   "id": "a98a7460-faec-4046-a502-3d4de63fc09c",
   "metadata": {},
   "outputs": [],
   "source": [
    "#Ans 5:\n",
    "import numpy as np\n",
    "import matplotlib.pyplot as plt\n",
    "\n",
    "n = 1000\n",
    "p = 0.4"
   ]
  },
  {
   "cell_type": "code",
   "execution_count": 2,
   "id": "b4c5a902-c12f-4225-9303-ee189a0a8da3",
   "metadata": {},
   "outputs": [],
   "source": [
    "sample = np.random.binomial(1,p,n)"
   ]
  },
  {
   "cell_type": "code",
   "execution_count": 3,
   "id": "2746f291-0750-4fa1-813c-941832cb525b",
   "metadata": {},
   "outputs": [
    {
     "data": {
      "text/plain": [
       "array([0, 0, 0, 0, 1, 0, 0, 1, 0, 1, 1, 1, 0, 0, 0, 0, 0, 0, 1, 0, 1, 1,\n",
       "       0, 1, 1, 0, 0, 1, 0, 0, 1, 1, 0, 0, 0, 1, 1, 0, 1, 1, 0, 1, 0, 0,\n",
       "       0, 1, 0, 1, 1, 0, 0, 1, 1, 1, 1, 0, 1, 0, 0, 1, 1, 1, 1, 1, 1, 1,\n",
       "       0, 0, 1, 1, 1, 0, 1, 0, 0, 1, 0, 0, 1, 1, 0, 0, 1, 0, 1, 0, 0, 0,\n",
       "       0, 1, 0, 0, 0, 0, 0, 0, 0, 0, 0, 1, 1, 0, 0, 0, 1, 1, 0, 0, 1, 0,\n",
       "       1, 0, 0, 0, 1, 0, 1, 0, 1, 1, 1, 0, 1, 0, 0, 0, 0, 0, 0, 1, 0, 1,\n",
       "       0, 0, 1, 0, 0, 0, 0, 0, 0, 1, 1, 0, 1, 0, 0, 1, 0, 0, 0, 0, 1, 0,\n",
       "       0, 1, 0, 0, 0, 0, 1, 0, 0, 1, 1, 0, 1, 0, 1, 1, 0, 0, 0, 1, 0, 1,\n",
       "       1, 1, 1, 0, 0, 0, 0, 0, 0, 0, 0, 0, 0, 0, 1, 0, 0, 0, 0, 0, 0, 0,\n",
       "       0, 1, 0, 0, 1, 0, 0, 1, 0, 1, 1, 1, 0, 0, 0, 0, 0, 1, 0, 1, 1, 1,\n",
       "       1, 1, 0, 0, 1, 0, 0, 0, 0, 0, 1, 1, 0, 0, 1, 1, 0, 0, 0, 0, 0, 0,\n",
       "       0, 1, 0, 0, 0, 1, 0, 0, 0, 1, 0, 0, 0, 0, 0, 1, 0, 1, 1, 1, 1, 0,\n",
       "       0, 0, 0, 0, 0, 0, 0, 1, 1, 1, 0, 0, 0, 1, 0, 1, 0, 0, 1, 0, 1, 0,\n",
       "       0, 1, 0, 1, 1, 1, 0, 0, 1, 0, 1, 1, 0, 0, 0, 0, 0, 0, 0, 1, 0, 0,\n",
       "       0, 0, 0, 0, 1, 1, 0, 0, 0, 0, 0, 0, 1, 1, 0, 1, 1, 1, 0, 0, 1, 0,\n",
       "       1, 1, 0, 0, 1, 1, 0, 0, 1, 0, 1, 0, 1, 0, 1, 0, 0, 1, 1, 0, 1, 1,\n",
       "       0, 1, 0, 0, 0, 0, 0, 0, 1, 0, 0, 0, 0, 1, 1, 0, 1, 0, 0, 1, 1, 1,\n",
       "       0, 0, 1, 1, 1, 0, 1, 0, 0, 1, 0, 1, 1, 0, 1, 1, 0, 0, 0, 0, 0, 1,\n",
       "       1, 0, 1, 0, 1, 0, 1, 0, 0, 0, 1, 1, 1, 0, 0, 0, 0, 1, 0, 0, 0, 0,\n",
       "       1, 0, 1, 1, 0, 0, 1, 0, 0, 0, 0, 0, 0, 1, 0, 0, 1, 0, 1, 1, 1, 1,\n",
       "       0, 0, 1, 0, 0, 0, 0, 1, 0, 0, 0, 1, 1, 0, 0, 1, 1, 1, 0, 0, 0, 1,\n",
       "       1, 0, 1, 1, 0, 1, 1, 0, 0, 0, 1, 0, 0, 0, 0, 0, 1, 0, 0, 0, 0, 1,\n",
       "       0, 0, 0, 1, 0, 0, 1, 0, 0, 0, 0, 0, 1, 0, 0, 0, 0, 1, 0, 0, 1, 0,\n",
       "       0, 1, 0, 1, 0, 1, 1, 0, 0, 0, 0, 0, 1, 1, 0, 0, 1, 1, 1, 0, 0, 0,\n",
       "       0, 0, 1, 0, 0, 0, 0, 1, 0, 1, 1, 0, 0, 0, 0, 0, 0, 0, 1, 0, 0, 0,\n",
       "       0, 1, 1, 0, 0, 0, 0, 0, 1, 0, 1, 0, 1, 0, 0, 1, 1, 0, 1, 1, 1, 0,\n",
       "       0, 0, 1, 1, 0, 0, 0, 0, 0, 0, 0, 1, 0, 1, 0, 1, 0, 0, 0, 1, 0, 1,\n",
       "       1, 1, 1, 1, 1, 1, 1, 0, 0, 0, 0, 1, 0, 1, 1, 0, 0, 0, 1, 1, 0, 1,\n",
       "       1, 1, 1, 1, 1, 1, 0, 0, 1, 0, 1, 0, 1, 0, 0, 0, 1, 0, 0, 1, 1, 0,\n",
       "       0, 0, 1, 0, 0, 0, 0, 1, 0, 1, 0, 1, 0, 0, 0, 0, 0, 0, 1, 1, 1, 1,\n",
       "       0, 0, 0, 0, 0, 0, 0, 0, 0, 0, 1, 0, 0, 0, 0, 0, 1, 0, 1, 0, 0, 1,\n",
       "       0, 1, 1, 0, 1, 0, 0, 0, 0, 1, 1, 0, 0, 1, 1, 0, 0, 0, 1, 0, 0, 1,\n",
       "       0, 0, 1, 1, 0, 1, 0, 1, 0, 1, 1, 0, 0, 1, 1, 0, 0, 0, 1, 0, 0, 1,\n",
       "       1, 0, 1, 0, 1, 0, 0, 0, 0, 1, 0, 1, 1, 0, 0, 0, 1, 0, 1, 0, 1, 1,\n",
       "       1, 1, 1, 0, 0, 1, 0, 0, 0, 0, 1, 0, 1, 0, 0, 0, 1, 0, 0, 0, 0, 1,\n",
       "       0, 0, 1, 1, 1, 1, 0, 0, 0, 1, 1, 0, 0, 1, 1, 1, 1, 0, 0, 0, 1, 0,\n",
       "       0, 0, 0, 1, 1, 0, 0, 1, 1, 0, 1, 1, 0, 0, 1, 0, 0, 0, 1, 0, 0, 0,\n",
       "       0, 0, 0, 0, 0, 0, 0, 1, 1, 1, 0, 0, 1, 0, 1, 0, 0, 1, 0, 1, 0, 0,\n",
       "       0, 1, 0, 0, 0, 1, 1, 1, 1, 1, 1, 0, 0, 0, 0, 1, 1, 1, 0, 0, 1, 0,\n",
       "       0, 0, 0, 1, 0, 0, 0, 1, 1, 1, 1, 1, 0, 1, 0, 1, 1, 0, 1, 0, 0, 0,\n",
       "       0, 1, 0, 0, 0, 0, 0, 1, 1, 0, 1, 1, 0, 1, 0, 1, 1, 1, 0, 0, 1, 0,\n",
       "       0, 1, 0, 0, 0, 0, 1, 0, 0, 1, 0, 1, 1, 1, 1, 0, 0, 1, 1, 1, 1, 0,\n",
       "       0, 0, 1, 0, 1, 1, 0, 1, 1, 1, 0, 1, 0, 0, 0, 1, 0, 0, 1, 1, 0, 1,\n",
       "       0, 0, 0, 0, 0, 0, 0, 0, 0, 1, 0, 0, 0, 0, 0, 0, 0, 0, 0, 1, 0, 1,\n",
       "       0, 1, 0, 1, 1, 0, 1, 1, 1, 0, 1, 1, 0, 0, 1, 1, 1, 0, 1, 0, 0, 0,\n",
       "       0, 1, 0, 1, 0, 1, 0, 0, 0, 0])"
      ]
     },
     "execution_count": 3,
     "metadata": {},
     "output_type": "execute_result"
    }
   ],
   "source": [
    "sample"
   ]
  },
  {
   "cell_type": "code",
   "execution_count": 7,
   "id": "f075b523-5e5b-42c7-a74d-45172c65d46c",
   "metadata": {},
   "outputs": [
    {
     "data": {
      "text/plain": [
       "Text(0.5, 1.0, 'Histogram')"
      ]
     },
     "execution_count": 7,
     "metadata": {},
     "output_type": "execute_result"
    },
    {
     "data": {
      "image/png": "[encoded data removed]",
      "text/plain": [
       "<Figure size 640x480 with 1 Axes>"
      ]
     },
     "metadata": {},
     "output_type": "display_data"
    }
   ],
   "source": [
    "plt.hist(sample)\n",
    "plt.xticks([0,1])\n",
    "plt.xlabel('Success and failure')\n",
    "plt.ylabel('Frequency')\n",
    "plt.title('Histogram')"
   ]
  },
  {
   "cell_type": "code",
   "execution_count": null,
   "id": "2c0fd35e-6aaf-451f-8690-03e09f7936ba",
   "metadata": {},
   "outputs": [],
   "source": [
    "'''\n",
    "Q6. Write a Python function to calculate the cumulative distribution function of a Poisson distribution\n",
    "with given mean at a given point.\n",
    "'''"
   ]
  },
  {
   "cell_type": "code",
   "execution_count": 54,
   "id": "4a274198-fa0a-4e1b-a8ab-5c1068ff9553",
   "metadata": {},
   "outputs": [],
   "source": [
    "#Ans 6:\n",
    "from scipy.stats import poisson"
   ]
  },
  {
   "cell_type": "code",
   "execution_count": 59,
   "id": "7afa1c81-a4fa-4c4c-8dbf-97f6836b2940",
   "metadata": {},
   "outputs": [],
   "source": [
    "def cdf_value(mean,point):\n",
    "    cdf = poisson.cdf(mean,point)\n",
    "    return cdf"
   ]
  },
  {
   "cell_type": "code",
   "execution_count": 60,
   "id": "1a4951c0-f19a-4f03-85c7-deeccb30c852",
   "metadata": {},
   "outputs": [],
   "source": [
    "mean = 5\n",
    "point = 2\n",
    "cdf_poisson = cdf_value(mean,point)"
   ]
  },
  {
   "cell_type": "code",
   "execution_count": 61,
   "id": "eccbf3f9-849f-4318-94d9-0f74ce06730f",
   "metadata": {},
   "outputs": [
    {
     "data": {
      "text/plain": [
       "0.9834363915193856"
      ]
     },
     "execution_count": 61,
     "metadata": {},
     "output_type": "execute_result"
    }
   ],
   "source": [
    "cdf_poisson"
   ]
  },
  {
   "cell_type": "code",
   "execution_count": null,
   "id": "8dc24573-e3d3-441d-aa95-b4585912ccb4",
   "metadata": {},
   "outputs": [],
   "source": [
    "'''\n",
    "Q7. How Binomial distribution different from Poisson distribution?\n",
    "'''"
   ]
  },
  {
   "cell_type": "code",
   "execution_count": null,
   "id": "ddda8deb-7a0e-4cae-9dc7-91842596fb84",
   "metadata": {},
   "outputs": [],
   "source": [
    "#Ans 7:\n",
    "'''\n",
    "In a binomial distribution there are fixed number of independent trails with two possible outcomes. The number of trails are fixed with a fixed \n",
    "success probability. Example: Number of defective items in a batch.\n",
    "\n",
    "In a poisson distribution it is modelled after the number of events occuring in a particular time interval. Example: Number of calls in a call\n",
    "center every hour."
   ]
  },
  {
   "cell_type": "code",
   "execution_count": null,
   "id": "28240ef5-f874-4a35-b7dd-5f1298b4c886",
   "metadata": {},
   "outputs": [],
   "source": [
    "'''\n",
    "Q8. Generate a random sample of size 1000 from a Poisson distribution with mean 5 and calculate the\n",
    "sample mean and variance.\n",
    "'''"
   ]
  },
  {
   "cell_type": "code",
   "execution_count": 15,
   "id": "11b716e2-6c3c-4991-9b35-5bd0a02c5ba8",
   "metadata": {},
   "outputs": [],
   "source": [
    "#Ans 8:\n",
    "import numpy as np"
   ]
  },
  {
   "cell_type": "code",
   "execution_count": 16,
   "id": "b636b838-3a18-4ddf-aee5-0c348ef62cff",
   "metadata": {},
   "outputs": [],
   "source": [
    "data = np.random.poisson(5, size = 1000)"
   ]
  },
  {
   "cell_type": "code",
   "execution_count": 17,
   "id": "01c99d89-dbde-40c3-bee8-bca19822e70a",
   "metadata": {},
   "outputs": [
    {
     "data": {
      "text/plain": [
       "5.116"
      ]
     },
     "execution_count": 17,
     "metadata": {},
     "output_type": "execute_result"
    }
   ],
   "source": [
    "data.mean()"
   ]
  },
  {
   "cell_type": "code",
   "execution_count": 18,
   "id": "c8a2f22c-96b4-4239-b51c-a4174b3a94a5",
   "metadata": {},
   "outputs": [
    {
     "data": {
      "text/plain": [
       "4.878544"
      ]
     },
     "execution_count": 18,
     "metadata": {},
     "output_type": "execute_result"
    }
   ],
   "source": [
    "data.var()"
   ]
  },
  {
   "cell_type": "code",
   "execution_count": null,
   "id": "c720cb16-4a5e-484d-b8a2-4ffe538da98a",
   "metadata": {},
   "outputs": [],
   "source": [
    "np.random.poisson()"
   ]
  },
  {
   "cell_type": "code",
   "execution_count": null,
   "id": "805d83e7-3c73-4704-9bc3-aefcaf5e8e3e",
   "metadata": {},
   "outputs": [],
   "source": [
    "'''\n",
    "Q9. How mean and variance are related in Binomial distribution and Poisson distribution?\n",
    "'''"
   ]
  },
  {
   "cell_type": "code",
   "execution_count": null,
   "id": "ddf2c297-edaf-4781-87b6-c4a0f92f22bf",
   "metadata": {},
   "outputs": [],
   "source": [
    "#Ans 9:\n",
    "'''\n",
    "In Binomial Distribution mean value is np and variance is np(1-p). So variance and mean are directly proportional to each other. In Binomial Distribution\n",
    "the mean and variance depend on both n(number of trails) and p(probability of success).\n",
    "\n",
    "Whereas in Poisson Distribution, the mean and variance are equal to λ. Here the mean and variance are solely dependent on λ.\n",
    "'''"
   ]
  },
  {
   "cell_type": "code",
   "execution_count": null,
   "id": "f5e20e6c-e2f2-4309-9221-ac80faabf277",
   "metadata": {},
   "outputs": [],
   "source": [
    "Q'''\n",
    "10. In normal distribution with respect to mean position, where does the least frequent data appear?\n",
    "'''"
   ]
  },
  {
   "cell_type": "code",
   "execution_count": null,
   "id": "e32be7a8-1534-41b2-9fa1-73270bed3412",
   "metadata": {},
   "outputs": [],
   "source": [
    "'''\n",
    "In a normal distribution, which is symmetric and bell-shaped, the least frequent data points appear in the tails of the distributio nwhich are\n",
    "located farthest from the mean\n",
    "'''"
   ]
  }
 ],
 "metadata": {
  "kernelspec": {
   "display_name": "Python 3 (ipykernel)",
   "language": "python",
   "name": "python3"
  },
  "language_info": {
   "codemirror_mode": {
    "name": "ipython",
    "version": 3
   },
   "file_extension": ".py",
   "mimetype": "text/x-python",
   "name": "python",
   "nbconvert_exporter": "python",
   "pygments_lexer": "ipython3",
   "version": "3.10.8"
  }
 },
 "nbformat": 4,
 "nbformat_minor": 5
}
