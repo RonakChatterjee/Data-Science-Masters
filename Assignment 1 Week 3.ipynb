{
 "cells": [
  {
   "cell_type": "code",
   "execution_count": null,
   "id": "f5443ad9-5ece-4c29-9175-64a11429761c",
   "metadata": {},
   "outputs": [],
   "source": [
    "\"\"\"\n",
    "Q1. Which keyword is used to create a function? Create a function to return a list of odd numbers in the \n",
    "range of 1 to 25.\n",
    "\"\"\""
   ]
  },
  {
   "cell_type": "code",
   "execution_count": null,
   "id": "20364fe8-1b31-4edb-93c5-6f40e408aa7a",
   "metadata": {},
   "outputs": [],
   "source": [
    "#Answer 1:\n",
    "\"\"\" \n",
    "def keyword is used to create a function.\n",
    "Syntax: \n",
    "def test():\n",
    "    pass\n",
    "\"\"\""
   ]
  },
  {
   "cell_type": "code",
   "execution_count": 7,
   "id": "9c90f6ec-12cd-4f2e-adb3-8df878e4701a",
   "metadata": {},
   "outputs": [
    {
     "name": "stdout",
     "output_type": "stream",
     "text": [
      "[1, 3, 5, 7, 9, 11, 13, 15, 17, 19, 21, 23, 25]\n"
     ]
    }
   ],
   "source": [
    "#Solution 1:\n",
    "def lst_odd():\n",
    "    l_odd = []\n",
    "    l = list(range(1,26))\n",
    "    for i in l:\n",
    "        if i % 2 != 0:\n",
    "            l_odd.append(i)\n",
    "    return l_odd\n",
    "\n",
    "print(lst_odd())"
   ]
  },
  {
   "cell_type": "code",
   "execution_count": 8,
   "id": "3276bbc2-6606-4bdf-907c-8756179cd74b",
   "metadata": {},
   "outputs": [
    {
     "name": "stdout",
     "output_type": "stream",
     "text": [
      "[1, 3, 5, 7, 9, 11, 13, 15, 17, 19, 21, 23, 25]\n"
     ]
    }
   ],
   "source": [
    "#Solution 2:\n",
    "def lst_odd1():\n",
    "    l = list(range(1,26))\n",
    "    l_odd_new = list(filter(lambda x: x%2 != 0 , l))\n",
    "    return l_odd_new\n",
    "\n",
    "print(lst_odd1())"
   ]
  },
  {
   "cell_type": "code",
   "execution_count": null,
   "id": "7b96fb12-e80a-4d9a-b01d-adb035a7fb29",
   "metadata": {},
   "outputs": [],
   "source": [
    "\"\"\"\n",
    "Q2. Why *args and **kwargs is used in some functions? Create a function each for *args and **kwargs to \n",
    "demonstrate their use.\n",
    "\"\"\""
   ]
  },
  {
   "cell_type": "code",
   "execution_count": null,
   "id": "bd9babfe-1603-4c0a-8eb2-27f0f5be8345",
   "metadata": {},
   "outputs": [],
   "source": [
    "#Answer 2\n",
    "\"\"\"\n",
    "*args --> It is used to pass multiple arguments in a function at the same time as per the requirement. It is stored in the form of Tuples.\n",
    "**Kwargs --> It is used to pass multiple keyword arguments in a function at the same time as per requirement. It is stored in the form of Dictionary.\n",
    "\"\"\""
   ]
  },
  {
   "cell_type": "code",
   "execution_count": 3,
   "id": "78b1bb76-bb14-4129-ab64-3fd9f133a4bf",
   "metadata": {},
   "outputs": [
    {
     "name": "stdout",
     "output_type": "stream",
     "text": [
      "((1, 2, 3, 4, 5), {'name': 'Ronak', 'course': 'Data Science'})\n"
     ]
    }
   ],
   "source": [
    "def test(*args,**kwargs):\n",
    "    return args , kwargs\n",
    "\n",
    "print(test(1,2,3,4,5,name = 'Ronak', course = 'Data Science'))"
   ]
  },
  {
   "cell_type": "code",
   "execution_count": 4,
   "id": "ebbc2906-1de6-4030-a6ff-73f77f796799",
   "metadata": {},
   "outputs": [
    {
     "ename": "TypeError",
     "evalue": "test1() takes 2 positional arguments but 3 were given",
     "output_type": "error",
     "traceback": [
      "\u001b[0;31m---------------------------------------------------------------------------\u001b[0m",
      "\u001b[0;31mTypeError\u001b[0m                                 Traceback (most recent call last)",
      "Cell \u001b[0;32mIn[4], line 4\u001b[0m\n\u001b[1;32m      1\u001b[0m \u001b[38;5;28;01mdef\u001b[39;00m \u001b[38;5;21mtest1\u001b[39m(a,b):\n\u001b[1;32m      2\u001b[0m     \u001b[38;5;28;01mreturn\u001b[39;00m a\u001b[38;5;241m+\u001b[39mb\n\u001b[0;32m----> 4\u001b[0m \u001b[43mtest1\u001b[49m\u001b[43m(\u001b[49m\u001b[38;5;241;43m1\u001b[39;49m\u001b[43m,\u001b[49m\u001b[38;5;241;43m2\u001b[39;49m\u001b[43m,\u001b[49m\u001b[38;5;241;43m3\u001b[39;49m\u001b[43m)\u001b[49m\n",
      "\u001b[0;31mTypeError\u001b[0m: test1() takes 2 positional arguments but 3 were given"
     ]
    }
   ],
   "source": [
    "def test1(a,b):\n",
    "    return a+b\n",
    "\n",
    "test1(1,2,3) #If we don't use the *args or **kwargs then the number of positional argument gets fixed"
   ]
  },
  {
   "cell_type": "code",
   "execution_count": null,
   "id": "c3a2b2d4-707c-40c7-a502-a1de709e944d",
   "metadata": {},
   "outputs": [],
   "source": [
    "\"\"\"\n",
    "Q3.  What is an iterator in python? Name the method used to initialise the iterator object and the method \n",
    "used for iteration. Use these methods to print the first five elements of the given list [2, 4, 6, 8, 10, 12, 14, 16, \n",
    "18, 20]\n",
    "\"\"\""
   ]
  },
  {
   "cell_type": "code",
   "execution_count": null,
   "id": "7dc0258b-9bdc-428c-8eb8-6a3caf6b5ae0",
   "metadata": {},
   "outputs": [],
   "source": [
    "#Answer 3:"
   ]
  },
  {
   "cell_type": "code",
   "execution_count": null,
   "id": "42e1b2ff-a208-4f3c-ba81-a8bf1c6a3851",
   "metadata": {},
   "outputs": [],
   "source": [
    "\"\"\"\n",
    "An iterator is an object that allows you to traverse through a collection of elements, such as a list, tuple, or dictionary, one element at a time.\n",
    "It provides a way to access the elements sequentially without exposing the underlying implementation details.\n",
    "\n",
    "To create an iterator object, you can use the iter() function. The iter() function takes an iterable as an argument and returns an iterator object.\n",
    "For example, you can create an iterator object for a list using the iter() function like this:\n",
    "\n",
    "my_list = [2, 4, 6, 8, 10, 12, 14, 16, 18, 20]\n",
    "my_iterator = iter(my_list)\n",
    "Once you have the iterator object, you can use the next() function to retrieve the next element in the sequence. \n",
    "The next() function returns the next item from the iterator. By repeatedly calling next(), you can iterate through all the elements in the collection.\n",
    "\"\"\""
   ]
  },
  {
   "cell_type": "code",
   "execution_count": 5,
   "id": "039f5d1d-da89-4229-8488-0cfd8e1c9aa7",
   "metadata": {},
   "outputs": [
    {
     "name": "stdout",
     "output_type": "stream",
     "text": [
      "2\n",
      "4\n",
      "6\n",
      "8\n",
      "10\n"
     ]
    }
   ],
   "source": [
    "my_list = [2, 4, 6, 8, 10, 12, 14, 16, 18, 20]\n",
    "my_iterator = iter(my_list)\n",
    "\n",
    "for _ in range(5):\n",
    "    element = next(my_iterator)\n",
    "    print(element)"
   ]
  },
  {
   "cell_type": "code",
   "execution_count": null,
   "id": "b9d0277c-9610-4332-88b5-0ac29007c0f9",
   "metadata": {},
   "outputs": [],
   "source": [
    "\"\"\"\n",
    "Q4.  What is a generator function in python? Why yield keyword is used? Give an example of a generator \n",
    "function.\n",
    "\"\"\""
   ]
  },
  {
   "cell_type": "code",
   "execution_count": null,
   "id": "7178263f-191f-4db2-91ba-542c534146c5",
   "metadata": {},
   "outputs": [],
   "source": [
    "#Answer 4"
   ]
  },
  {
   "cell_type": "code",
   "execution_count": null,
   "id": "ade55bc1-a96d-489f-a8b2-85351033d6ee",
   "metadata": {},
   "outputs": [],
   "source": [
    "\"\"\"\n",
    "A generator is a function that returns an iterator that produces a sequence of values when iterated over. \n",
    "Generators are useful when we want to produce a large sequence of values, but we don't want to store all of them in memory at once.\n",
    "\n",
    "Yield --> The yield statement returns a generator object to the one who calls the function which contains yield, instead of simply returning a value.\n",
    "Yield gives us value one at a time. Whereas, return gives us the entire range of value and allocates memory for it. But yield, does not hold entire\n",
    "memory and gives one value only. If we iterate over then we get the next value.\n",
    "\n",
    "An example of generator is range().\n",
    "\n",
    "\"\"\""
   ]
  },
  {
   "cell_type": "code",
   "execution_count": null,
   "id": "cb529fb5-9915-4780-b7f7-e0d938964818",
   "metadata": {},
   "outputs": [],
   "source": [
    "\"\"\"\n",
    "Q5. Create a generator function for prime numbers less than 1000. Use the next() method to print the \n",
    "first 20 prime numbers.\n",
    "\"\"\""
   ]
  },
  {
   "cell_type": "code",
   "execution_count": null,
   "id": "3855879a-9540-432c-8005-742bb8ee4545",
   "metadata": {},
   "outputs": [],
   "source": [
    "#Answer 5"
   ]
  },
  {
   "cell_type": "code",
   "execution_count": 14,
   "id": "e9e99a36-ea94-4275-9192-f609ebc79320",
   "metadata": {},
   "outputs": [
    {
     "data": {
      "text/plain": [
       "[2,\n",
       " 3,\n",
       " 5,\n",
       " 7,\n",
       " 11,\n",
       " 13,\n",
       " 17,\n",
       " 19,\n",
       " 23,\n",
       " 29,\n",
       " 31,\n",
       " 37,\n",
       " 41,\n",
       " 43,\n",
       " 47,\n",
       " 53,\n",
       " 59,\n",
       " 61,\n",
       " 67,\n",
       " 71,\n",
       " 73,\n",
       " 79,\n",
       " 83,\n",
       " 89,\n",
       " 97,\n",
       " 101,\n",
       " 103,\n",
       " 107,\n",
       " 109,\n",
       " 113,\n",
       " 127,\n",
       " 131,\n",
       " 137,\n",
       " 139,\n",
       " 149,\n",
       " 151,\n",
       " 157,\n",
       " 163,\n",
       " 167,\n",
       " 173,\n",
       " 179,\n",
       " 181,\n",
       " 191,\n",
       " 193,\n",
       " 197,\n",
       " 199,\n",
       " 211,\n",
       " 223,\n",
       " 227,\n",
       " 229,\n",
       " 233,\n",
       " 239,\n",
       " 241,\n",
       " 251,\n",
       " 257,\n",
       " 263,\n",
       " 269,\n",
       " 271,\n",
       " 277,\n",
       " 281,\n",
       " 283,\n",
       " 293,\n",
       " 307,\n",
       " 311,\n",
       " 313,\n",
       " 317,\n",
       " 331,\n",
       " 337,\n",
       " 347,\n",
       " 349,\n",
       " 353,\n",
       " 359,\n",
       " 367,\n",
       " 373,\n",
       " 379,\n",
       " 383,\n",
       " 389,\n",
       " 397,\n",
       " 401,\n",
       " 409,\n",
       " 419,\n",
       " 421,\n",
       " 431,\n",
       " 433,\n",
       " 439,\n",
       " 443,\n",
       " 449,\n",
       " 457,\n",
       " 461,\n",
       " 463,\n",
       " 467,\n",
       " 479,\n",
       " 487,\n",
       " 491,\n",
       " 499,\n",
       " 503,\n",
       " 509,\n",
       " 521,\n",
       " 523,\n",
       " 541,\n",
       " 547,\n",
       " 557,\n",
       " 563,\n",
       " 569,\n",
       " 571,\n",
       " 577,\n",
       " 587,\n",
       " 593,\n",
       " 599,\n",
       " 601,\n",
       " 607,\n",
       " 613,\n",
       " 617,\n",
       " 619,\n",
       " 631,\n",
       " 641,\n",
       " 643,\n",
       " 647,\n",
       " 653,\n",
       " 659,\n",
       " 661,\n",
       " 673,\n",
       " 677,\n",
       " 683,\n",
       " 691,\n",
       " 701,\n",
       " 709,\n",
       " 719,\n",
       " 727,\n",
       " 733,\n",
       " 739,\n",
       " 743,\n",
       " 751,\n",
       " 757,\n",
       " 761,\n",
       " 769,\n",
       " 773,\n",
       " 787,\n",
       " 797,\n",
       " 809,\n",
       " 811,\n",
       " 821,\n",
       " 823,\n",
       " 827,\n",
       " 829,\n",
       " 839,\n",
       " 853,\n",
       " 857,\n",
       " 859,\n",
       " 863,\n",
       " 877,\n",
       " 881,\n",
       " 883,\n",
       " 887,\n",
       " 907,\n",
       " 911,\n",
       " 919,\n",
       " 929,\n",
       " 937,\n",
       " 941,\n",
       " 947,\n",
       " 953,\n",
       " 967,\n",
       " 971,\n",
       " 977,\n",
       " 983,\n",
       " 991,\n",
       " 997]"
      ]
     },
     "execution_count": 14,
     "metadata": {},
     "output_type": "execute_result"
    }
   ],
   "source": [
    "from sympy import isprime\n",
    "\n",
    "def generate_primes():\n",
    "    for p in range(2,1000):\n",
    "        if isprime(p):\n",
    "            yield p\n",
    "\n",
    "list(generate_primes())"
   ]
  },
  {
   "cell_type": "code",
   "execution_count": 18,
   "id": "13fd9608-a60b-45ee-9ce0-9bfc836b45f9",
   "metadata": {},
   "outputs": [
    {
     "name": "stdout",
     "output_type": "stream",
     "text": [
      "2\n",
      "3\n",
      "5\n",
      "7\n",
      "11\n",
      "13\n",
      "17\n",
      "19\n",
      "23\n",
      "29\n",
      "31\n",
      "37\n",
      "41\n",
      "43\n",
      "47\n",
      "53\n",
      "59\n",
      "61\n",
      "67\n",
      "71\n",
      "73\n"
     ]
    }
   ],
   "source": [
    "prime_generator = iter(generate_primes())\n",
    "\n",
    "for _ in range(21):\n",
    "    prime = next(prime_generator)\n",
    "    print(prime)"
   ]
  },
  {
   "cell_type": "code",
   "execution_count": null,
   "id": "90613a56-14e6-4814-a847-9e3109cc4412",
   "metadata": {},
   "outputs": [],
   "source": []
  }
 ],
 "metadata": {
  "kernelspec": {
   "display_name": "Python 3 (ipykernel)",
   "language": "python",
   "name": "python3"
  },
  "language_info": {
   "codemirror_mode": {
    "name": "ipython",
    "version": 3
   },
   "file_extension": ".py",
   "mimetype": "text/x-python",
   "name": "python",
   "nbconvert_exporter": "python",
   "pygments_lexer": "ipython3",
   "version": "3.10.8"
  }
 },
 "nbformat": 4,
 "nbformat_minor": 5
}
