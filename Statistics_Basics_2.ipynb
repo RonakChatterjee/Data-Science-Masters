{
 "cells": [
  {
   "cell_type": "code",
   "execution_count": null,
   "metadata": {},
   "outputs": [],
   "source": [
    "'''Q1. What are the three measures of central tendency?'''"
   ]
  },
  {
   "cell_type": "code",
   "execution_count": null,
   "metadata": {},
   "outputs": [],
   "source": [
    "#Ans 1:\n",
    "'''\n",
    "The three measures of central tendency are Mean,Median and Mode.\n",
    "'''"
   ]
  },
  {
   "cell_type": "code",
   "execution_count": null,
   "metadata": {},
   "outputs": [],
   "source": [
    "'''Q2. What is the difference between the mean, median, and mode? How are they used to measure the \n",
    "central tendency of a dataset?'''"
   ]
  },
  {
   "cell_type": "code",
   "execution_count": null,
   "metadata": {},
   "outputs": [],
   "source": [
    "#Ans 2:\n",
    "'''\n",
    "Mean is the average of all the values present in the dataset. It is affected by outliers.\n",
    "\n",
    "Median is the middle most value of the dataset when arranged in ascending order. It is not affected by outliers.\n",
    "\n",
    "Mode helps us to identify the most frequent element in the dataset.\n",
    "\n",
    "These measures of Central tendency talks about the central part of the data set where most of the dataset elements are present.\n",
    "'''"
   ]
  },
  {
   "cell_type": "code",
   "execution_count": null,
   "metadata": {},
   "outputs": [],
   "source": [
    "'''Q3. Measure the three measures of central tendency for the given height data:\n",
    "\n",
    " [178,177,176,177,178.2,178,175,179,180,175,178.9,176.2,177,172.5,178,176.5]\n",
    " '''"
   ]
  },
  {
   "cell_type": "code",
   "execution_count": 1,
   "metadata": {},
   "outputs": [],
   "source": [
    "#Ans 3:\n",
    "import numpy as np\n",
    "import statistics as s"
   ]
  },
  {
   "cell_type": "code",
   "execution_count": 2,
   "metadata": {},
   "outputs": [
    {
     "data": {
      "text/plain": [
       "array([178. , 177. , 176. , 177. , 178.2, 178. , 175. , 179. , 180. ,\n",
       "       175. , 178.9, 176.2, 177. , 172.5, 178. , 176.5])"
      ]
     },
     "execution_count": 2,
     "metadata": {},
     "output_type": "execute_result"
    }
   ],
   "source": [
    "l = [178,177,176,177,178.2,178,175,179,180,175,178.9,176.2,177,172.5,178,176.5]\n",
    "arr = np.array(l)\n",
    "arr"
   ]
  },
  {
   "cell_type": "code",
   "execution_count": 3,
   "metadata": {},
   "outputs": [
    {
     "data": {
      "text/plain": [
       "177.01875"
      ]
     },
     "execution_count": 3,
     "metadata": {},
     "output_type": "execute_result"
    }
   ],
   "source": [
    "#Mean\n",
    "arr.mean()"
   ]
  },
  {
   "cell_type": "code",
   "execution_count": 4,
   "metadata": {},
   "outputs": [
    {
     "data": {
      "text/plain": [
       "177.0"
      ]
     },
     "execution_count": 4,
     "metadata": {},
     "output_type": "execute_result"
    }
   ],
   "source": [
    "#Median\n",
    "np.median(arr)"
   ]
  },
  {
   "cell_type": "code",
   "execution_count": 5,
   "metadata": {},
   "outputs": [
    {
     "data": {
      "text/plain": [
       "178.0"
      ]
     },
     "execution_count": 5,
     "metadata": {},
     "output_type": "execute_result"
    }
   ],
   "source": [
    "#Mode\n",
    "s.mode(arr)"
   ]
  },
  {
   "cell_type": "code",
   "execution_count": null,
   "metadata": {},
   "outputs": [],
   "source": [
    "'''Q4. Find the standard deviation for the given data:\n",
    "\n",
    "[178,177,176,177,178.2,178,175,179,180,175,178.9,176.2,177,172.5,178,176.5]'''"
   ]
  },
  {
   "cell_type": "code",
   "execution_count": 6,
   "metadata": {},
   "outputs": [],
   "source": [
    "#Ans 4:\n",
    "l1 = [178,177,176,177,178.2,178,175,179,180,175,178.9,176.2,177,172.5,178,176.5] "
   ]
  },
  {
   "cell_type": "code",
   "execution_count": 8,
   "metadata": {},
   "outputs": [
    {
     "data": {
      "text/plain": [
       "1.7885814036548633"
      ]
     },
     "execution_count": 8,
     "metadata": {},
     "output_type": "execute_result"
    }
   ],
   "source": [
    "arr1 = np.array(l1)\n",
    "np.std(arr1)"
   ]
  },
  {
   "cell_type": "code",
   "execution_count": null,
   "metadata": {},
   "outputs": [],
   "source": [
    "'''Q5. How are measures of dispersion such as range, variance, and standard deviation used to describe \n",
    "the spread of a dataset? Provide an example.'''"
   ]
  },
  {
   "cell_type": "code",
   "execution_count": null,
   "metadata": {},
   "outputs": [],
   "source": [
    "#Ans 5:\n",
    "'''\n",
    "Range: It helps us to find out the minimum and maximum value of the dataset between which all the data is present\n",
    "\n",
    "Variance: It helps us to identify the spread of the data. The more is variance the more is the spread of the data.It is always non-negative.\n",
    "\n",
    "Standard deviation: It helps us to identify how much a value in the dataset differs from the mean.\n",
    "'''"
   ]
  },
  {
   "cell_type": "code",
   "execution_count": null,
   "metadata": {},
   "outputs": [],
   "source": [
    "'''Q6. What is a Venn diagram?'''"
   ]
  },
  {
   "cell_type": "code",
   "execution_count": null,
   "metadata": {},
   "outputs": [],
   "source": [
    "#Ans 6:\n",
    "'''A Venn diagram is a graphical representation that uses circles (or other shapes) to illustrate the relationships between sets or\n",
    "groups of items. Each circle typically represents a set, and the overlapping areas show the elements that are common to both sets.'''"
   ]
  },
  {
   "cell_type": "code",
   "execution_count": null,
   "metadata": {},
   "outputs": [],
   "source": [
    "'''\n",
    "Q7. For the two given sets A = (2,3,4,5,6,7) & B = (0,2,6,8,10). Find:\n",
    "\n",
    "(i) A intersection B\n",
    "\n",
    "(ii) A Union B\n",
    "'''"
   ]
  },
  {
   "cell_type": "code",
   "execution_count": 13,
   "metadata": {},
   "outputs": [
    {
     "data": {
      "text/plain": [
       "{2, 6}"
      ]
     },
     "execution_count": 13,
     "metadata": {},
     "output_type": "execute_result"
    }
   ],
   "source": [
    "#Ans 7:\n",
    "A = {2,3,4,5,6,7}\n",
    "B = {0,2,6,8,10}\n",
    "\n",
    "#Intersection\n",
    "A.intersection(B)"
   ]
  },
  {
   "cell_type": "code",
   "execution_count": 11,
   "metadata": {},
   "outputs": [
    {
     "data": {
      "text/plain": [
       "{0, 2, 3, 4, 5, 6, 7, 8, 10}"
      ]
     },
     "execution_count": 11,
     "metadata": {},
     "output_type": "execute_result"
    }
   ],
   "source": [
    "#Union\n",
    "A.union(B)"
   ]
  },
  {
   "cell_type": "code",
   "execution_count": null,
   "metadata": {},
   "outputs": [],
   "source": [
    "'''Q8. What do you understand about skewness in data?'''"
   ]
  },
  {
   "cell_type": "code",
   "execution_count": null,
   "metadata": {},
   "outputs": [],
   "source": [
    "#Ans 8:\n",
    "'''\n",
    "Skewness helps us to measure the lack of symmetry in a dataset. It indicates the extendd and direction of skew in data. \n",
    "In a symmetric dataset the skewness is close to zero. \n",
    "\n",
    "The types of skewness are:\n",
    "1. Postive skew(Right Skew):\n",
    "--> Right tail is longer\n",
    "--> Mean is greater than median\n",
    "--> Data is concentrated to the left\n",
    "\n",
    "2. Negative skew(Left Skew):\n",
    "--> Left tail is longer\n",
    "--> Mean is less than median\n",
    "--> Data is concentrated to the right\n",
    "\n",
    "3. Zero skew:\n",
    "--> It is symmetric\n",
    "--> Mean is equal to Median\n",
    "'''"
   ]
  },
  {
   "cell_type": "code",
   "execution_count": null,
   "metadata": {},
   "outputs": [],
   "source": [
    "'''Q9. If a data is right skewed then what will be the position of median with respect to mean?'''"
   ]
  },
  {
   "cell_type": "code",
   "execution_count": null,
   "metadata": {},
   "outputs": [],
   "source": [
    "#Ans 9:\n",
    "'''\n",
    "In a right skewed data the mean is greater than median.\n",
    "'''"
   ]
  },
  {
   "cell_type": "code",
   "execution_count": null,
   "metadata": {},
   "outputs": [],
   "source": [
    "'''Q10. Explain the difference between covariance and correlation. How are these measures used in \n",
    "statistical analysis?'''"
   ]
  },
  {
   "cell_type": "code",
   "execution_count": null,
   "metadata": {},
   "outputs": [],
   "source": [
    "#Ans 10:\n",
    "'''\n",
    "Covariance: It helps us to identify how two variables are related to each other. It can be postive or negative.\n",
    "When positive it means they are directly proportional.\n",
    "When negative it means they are inversely proportional.\n",
    "\n",
    "Correlation: In Covariance, there is no specific limit value. Correlation also tells us relation between two variables and has a limit \n",
    "value between -1 to 1.\n",
    "'''"
   ]
  },
  {
   "cell_type": "code",
   "execution_count": null,
   "metadata": {},
   "outputs": [],
   "source": [
    "'''Q11. What is the formula for calculating the sample mean? Provide an example calculation for a \n",
    "dataset.'''"
   ]
  },
  {
   "cell_type": "code",
   "execution_count": null,
   "metadata": {},
   "outputs": [],
   "source": [
    "#Ans 11:\n",
    "'''The formula for calculating sample mean is:\n",
    "Mean = (Sum of all the elements in the sample)/(Total number of elements)\n",
    "'''"
   ]
  },
  {
   "cell_type": "code",
   "execution_count": 15,
   "metadata": {},
   "outputs": [
    {
     "data": {
      "text/plain": [
       "3.769230769230769"
      ]
     },
     "execution_count": 15,
     "metadata": {},
     "output_type": "execute_result"
    }
   ],
   "source": [
    "#Example\n",
    "l = [1,1,2,2,2,3,3,4,5,5,6,7,8]\n",
    "mean = sum(l)/(len(l))\n",
    "mean"
   ]
  },
  {
   "cell_type": "code",
   "execution_count": 17,
   "metadata": {},
   "outputs": [
    {
     "data": {
      "text/plain": [
       "3.769230769230769"
      ]
     },
     "execution_count": 17,
     "metadata": {},
     "output_type": "execute_result"
    }
   ],
   "source": [
    "import numpy as np\n",
    "arr = np.array(l)\n",
    "np.mean(arr)"
   ]
  },
  {
   "cell_type": "code",
   "execution_count": null,
   "metadata": {},
   "outputs": [],
   "source": [
    "'''Q12. For a normal distribution data what is the relationship between its measure of central tendency?'''"
   ]
  },
  {
   "cell_type": "code",
   "execution_count": null,
   "metadata": {},
   "outputs": [],
   "source": [
    "#Ans 12:\n",
    "'''In a Normal distribution the graph will be symmetric. The skewness will be close to zero. The measure of central tendency will be\n",
    "equal to each other(Mean = Median = Mode)'''"
   ]
  },
  {
   "cell_type": "code",
   "execution_count": null,
   "metadata": {},
   "outputs": [],
   "source": [
    "'''Q13. How is covariance different from correlation?'''"
   ]
  },
  {
   "cell_type": "code",
   "execution_count": null,
   "metadata": {},
   "outputs": [],
   "source": [
    "#Ans 13:\n",
    "'''In Covariance, there is no specific limit value. Correlation also tells us relation between two variables and has a limit \n",
    "value between -1 to 1.'''"
   ]
  },
  {
   "cell_type": "code",
   "execution_count": null,
   "metadata": {},
   "outputs": [],
   "source": [
    "'''Q14. How do outliers affect measures of central tendency and dispersion? Provide an example'''"
   ]
  },
  {
   "cell_type": "code",
   "execution_count": null,
   "metadata": {},
   "outputs": [],
   "source": [
    "#Ans 14:\n",
    "'''\n",
    "Outliers can have a significant impact on measures of central tendency and dispersion in a dataset. These effects depend on the nature\n",
    "and direction of the outliers.\n",
    "\n",
    "1. Measures of Central Tendency:\n",
    "\n",
    "1.1. Mean:\n",
    "Outliers can disproportionately influence the mean because it takes into account the magnitude of each value.\n",
    "Example: Consider the dataset {1, 2, 3, 4, 5, 100}. The mean is (1+2+3+4+5+100)/6 = 25.83. The presence of the outlier (100) significantly \n",
    "increases the mean compared to the median.\n",
    "\n",
    "1.2. Median:\n",
    "The median is less affected by outliers since it is not sensitive to extreme values.\n",
    "Example: In the dataset {1, 2, 3, 4, 5, 100}, the median is 3.5. The presence of the outlier has minimal impact on the median.\n",
    "\n",
    "2.Measures of Dispersion:\n",
    "\n",
    "2.1.Range:\n",
    "Outliers can substantially affect the range because it is determined by the difference between the maximum and minimum values.\n",
    "Example: In the dataset {1, 2, 3, 4, 5, 100}, the range is 100 - 1 = 99. The outlier (100) contributes significantly to the range.\n",
    "\n",
    "2.2. Variance and Standard Deviation:\n",
    "Outliers can inflate the variance and standard deviation, as these measures incorporate the squared differences from the mean.\n",
    "Example: In the dataset {1, 2, 3, 4, 5, 100}, the standard deviation is higher due to the outlier, making it a less representative measure \n",
    "of the typical spread.\n",
    "\n",
    "2.3. Interquartile Range (IQR):\n",
    "The IQR is less sensitive to outliers than the range, as it focuses on the middle 50% of the data.\n",
    "Example: In the dataset {1, 2, 3, 4, 5, 100}, the IQR is 4 - 2 = 2, providing a measure of spread that is less influenced by the outlier.\n",
    "\n",
    "Example:\n",
    "Consider the dataset {10, 15, 20, 25, 30, 200}. In this dataset, the value 200 is an outlier. The impact on measures is as follows:\n",
    "\n",
    "Mean: (10+15+20+25+30+200)/6 = 75.83\n",
    "Median: 22.5\n",
    "Range: 200 - 10 = 190\n",
    "Standard Deviation: Higher due to the influence of the outlier.\n",
    "Interquartile Range (IQR): 27.5\n",
    "'''"
   ]
  }
 ],
 "metadata": {
  "kernelspec": {
   "display_name": "Python 3",
   "language": "python",
   "name": "python3"
  },
  "language_info": {
   "codemirror_mode": {
    "name": "ipython",
    "version": 3
   },
   "file_extension": ".py",
   "mimetype": "text/x-python",
   "name": "python",
   "nbconvert_exporter": "python",
   "pygments_lexer": "ipython3",
   "version": "3.11.0"
  }
 },
 "nbformat": 4,
 "nbformat_minor": 2
}
