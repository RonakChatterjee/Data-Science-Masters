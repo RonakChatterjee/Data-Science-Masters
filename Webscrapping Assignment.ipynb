{
 "cells": [
  {
   "cell_type": "code",
   "execution_count": null,
   "id": "5afde8cd-fda5-4a24-8f0f-79bb499acddf",
   "metadata": {},
   "outputs": [],
   "source": [
    "\"\"\"\n",
    "Q1. What is Web Scraping? Why is it Used? Give three areas where Web Scraping is used to get data.\n",
    "\"\"\""
   ]
  },
  {
   "cell_type": "code",
   "execution_count": null,
   "id": "57d1a4e7-efae-4974-bcae-ccc754994c0c",
   "metadata": {},
   "outputs": [],
   "source": [
    "#Ans1:\n",
    "\"\"\"\n",
    "Web scraping is the process of using bots to extract content and data from a website. Unlike screen scraping, which only copies pixels \n",
    "displayed onscreen, web scraping extracts underlying HTML code and, with it, data stored in a database. The scraper can then replicate \n",
    "entire website content elsewhere.\n",
    "\n",
    "Web scraping is used in a variety of digital businesses that rely on data harvesting. Legitimate use cases include: Search engine bots \n",
    "crawling a site, analyzing its content and then ranking it. Price comparison sites deploying bots to auto-fetch prices and product \n",
    "descriptions for allied seller websites.\n",
    "\n",
    "Web Scraping has multiple applications across various industries. Some of them are mentioned below:\n",
    "\n",
    "1. Price Monitoring\n",
    "Web Scraping can be used by companies to scrap the product data for their products and competing products as well to see how it impacts \n",
    "their pricing strategies. Companies can use this data to fix the optimal pricing for their products so that they can obtain maximum revenue.\n",
    "\n",
    "2. Market Research\n",
    "Web scraping can be used for market research by companies. High-quality web scraped data obtained in large volumes can be very helpful for \n",
    "companies in analyzing consumer trends and understanding which direction the company should move in the future. \n",
    "\n",
    "3. News Monitoring\n",
    "Web scraping news sites can provide detailed reports on the current news to a company. This is even more essential for companies that are\n",
    "frequently in the news or that depend on daily news for their day-to-day functioning. After all, news reports can make or break a company\n",
    "in a single day!\n",
    "\"\"\""
   ]
  },
  {
   "cell_type": "code",
   "execution_count": null,
   "id": "53160309-bed0-4f9e-a64c-36942068e8fd",
   "metadata": {},
   "outputs": [],
   "source": [
    "\"\"\"\n",
    "Q2. What are the different methods used for Web Scraping?\n",
    "\"\"\""
   ]
  },
  {
   "cell_type": "code",
   "execution_count": null,
   "id": "7a22aab5-f498-40d6-8fb9-987e35ed7afc",
   "metadata": {},
   "outputs": [],
   "source": [
    "#Ans 2:\n",
    "\"\"\"\n",
    "There are several methods and tools used for web scraping, depending on the complexity of the task and the specific requirements. \n",
    "Here are some common methods:\n",
    "\n",
    "1. Manual Copy-Pasting: The simplest form of web scraping involves manually copying and pasting data from web pages into a spreadsheet or \n",
    "text file. This method is suitable for small-scale scraping tasks but can be time-consuming and inefficient for larger datasets\n",
    "\n",
    "2. HTML Parsing: HTML parsing involves parsing the HTML structure of web pages using libraries or tools designed for this purpose. These\n",
    "libraries, such as BeautifulSoup (Python) or Jsoup (Java), provide APIs to navigate and extract data based on HTML tags, classes, IDs, or\n",
    "other selectors. HTML parsing is suitable for extracting structured data from websites.\n",
    "\n",
    "3. Web Scraping Frameworks: There are several web scraping frameworks that provide more advanced features and functionality for scraping. \n",
    "For example, Scrapy (Python) is a powerful and extensible framework that allows you to define scraping rules, handle web page navigation,\n",
    "and extract data efficiently. These frameworks often include built-in features for handling proxies, user agents, and managing large-scale\n",
    "scraping tasks.\n",
    "\n",
    "4. Headless Browsers: Headless browsers, such as Puppeteer (JavaScript/Node.js) or Selenium (Python/Java/C#), simulate a real browser\n",
    "environment without the graphical user interface. They enable web scraping by automating interactions with web pages, filling out forms, \n",
    "clicking buttons, and extracting data from dynamic websites that rely on JavaScript for rendering content.\n",
    "\n",
    "5. API Scraping: Some websites provide APIs (Application Programming Interfaces) that allow developers to retrieve data in a structured\n",
    "and controlled manner. Instead of scraping the website directly, you can make requests to the API endpoints and obtain the desired data in\n",
    "a more reliable and efficient manner. However, not all websites offer public APIs, and some may require authentication or have limitations\n",
    "on data access.\n",
    "\"\"\""
   ]
  },
  {
   "cell_type": "code",
   "execution_count": null,
   "id": "36c65b89-e1a4-4950-9bb1-9868e9eb9806",
   "metadata": {},
   "outputs": [],
   "source": [
    "\"\"\"\n",
    "Q3. What is Beautiful Soup? Why is it used?\n",
    "\"\"\""
   ]
  },
  {
   "cell_type": "code",
   "execution_count": null,
   "id": "6b7c606a-ba91-43a8-900c-1b9333cbc83e",
   "metadata": {},
   "outputs": [],
   "source": [
    "#Ans 3:\n",
    "\"\"\"\n",
    "Beautiful Soup is a popular Python library used for web scraping and parsing HTML or XML documents. It provides a convenient way to extract\n",
    "data from web pages by traversing the document's structure and accessing specific elements or attributes.\n",
    "\n",
    "Here are some key features and reasons why Beautiful Soup is commonly used:\n",
    "\n",
    "1. HTML Parsing: Beautiful Soup helps parse HTML or XML documents and creates a parse tree, allowing you to navigate and search the\n",
    "document easily. It handles malformed HTML gracefully and provides a consistent interface for extracting data, regardless of the document's\n",
    "quality.\n",
    "\n",
    "2. Easy Navigation: Beautiful Soup provides simple and intuitive methods to navigate through the parse tree. You can access elements using\n",
    "tag names, classes, IDs, attribute values, or even custom filters. This makes it easy to locate and extract specific elements or sections \n",
    "of a web page.\n",
    "\n",
    "3. Data Extraction: Beautiful Soup offers methods to extract data from HTML elements. You can extract text, attribute values, or the HTML\n",
    "structure itself. It also provides functionality for modifying, removing, or replacing elements in the parse tree.\n",
    "\n",
    "4. Handling Encodings: Beautiful Soup automatically detects and handles different encodings, making it convenient to work with websites \n",
    "using various character sets.\n",
    "\n",
    "5. Integration: Beautiful Soup is compatible with various parsers, including the built-in Python parsers, such as lxml, html5lib, and the\n",
    "standard library's html.parser. This allows you to choose the appropriate parser based on your requirements and the characteristics of the\n",
    "HTML or XML document.\n",
    "\n",
    "6. Robustness: Beautiful Soup is designed to handle real-world, messy HTML and XML documents. It can handle missing closing tags, incorrect\n",
    "nesting, and other common issues, ensuring that you can still extract data reliably even from imperfect web pages.\n",
    "\n",
    "7. Pythonic API: Beautiful Soup's API is designed to be intuitive and Pythonic, making it easy to learn and use for both beginners and \n",
    "experienced developers. Its syntax is clean and expressive, allowing you to write concise code for web scraping tasks.\n",
    "\"\"\""
   ]
  },
  {
   "cell_type": "code",
   "execution_count": null,
   "id": "db1d803b-5a05-414e-8dc3-0f290e829fc3",
   "metadata": {},
   "outputs": [],
   "source": [
    "\"\"\"\n",
    "Q4. Why is flask used in this Web Scraping project?\n",
    "\"\"\""
   ]
  },
  {
   "cell_type": "code",
   "execution_count": null,
   "id": "7919a468-4316-4eef-b3d7-f92cf5a63fd7",
   "metadata": {},
   "outputs": [],
   "source": [
    "#Ans 4:\n",
    "\"\"\"\n",
    "Flask is used as an API in the web scraping project. It helps us to create and run our website where we take the desired output from the\n",
    "user. Then use the data from user, send it to the server process it and provide the final results to the user.\n",
    "\"\"\""
   ]
  },
  {
   "cell_type": "code",
   "execution_count": null,
   "id": "b17e0b90-f167-4c87-8991-2bce174631cb",
   "metadata": {},
   "outputs": [],
   "source": [
    "\"\"\"\n",
    "Q5. Write the names of AWS services used in this project. Also, explain the use of each service.\n",
    "\"\"\""
   ]
  },
  {
   "cell_type": "code",
   "execution_count": null,
   "id": "28948653-7b8b-4f9e-87b1-5069c41f5504",
   "metadata": {},
   "outputs": [],
   "source": [
    "#Ans 5:\n",
    "\"\"\"\n",
    "The AWS services used are:\n",
    "\n",
    "1. Code Pipeline: AWS CodePipeline is a continuous delivery service that enables you to model, visualize, and automate the steps required \n",
    "to release your software.\n",
    "\n",
    "2. BeanStalk: AWS Elastic Beanstalk automates the details of capacity provisioning, load balancing, auto scaling, and application\n",
    "deployment, creating an environment that runs a version of your application. You can simply upload your deployable code (e.g., WAR file),\n",
    "and AWS Elastic Beanstalk does the rest.\n",
    "\n",
    "\"\"\""
   ]
  }
 ],
 "metadata": {
  "kernelspec": {
   "display_name": "Python 3 (ipykernel)",
   "language": "python",
   "name": "python3"
  },
  "language_info": {
   "codemirror_mode": {
    "name": "ipython",
    "version": 3
   },
   "file_extension": ".py",
   "mimetype": "text/x-python",
   "name": "python",
   "nbconvert_exporter": "python",
   "pygments_lexer": "ipython3",
   "version": "3.10.8"
  }
 },
 "nbformat": 4,
 "nbformat_minor": 5
}
