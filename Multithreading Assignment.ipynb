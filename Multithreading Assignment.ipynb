{
 "cells": [
  {
   "cell_type": "code",
   "execution_count": null,
   "id": "531109e1-84ee-4a68-a981-c3101b418cdb",
   "metadata": {},
   "outputs": [],
   "source": [
    "\"\"\"\n",
    "Q1.What is multithreading in python? Why is it used? Name the module used to handle threads in python?\n",
    "\"\"\""
   ]
  },
  {
   "cell_type": "code",
   "execution_count": null,
   "id": "6795ce05-df4e-4050-a062-478d662c7b71",
   "metadata": {},
   "outputs": [],
   "source": [
    "#Ans1:\n",
    "\"\"\"\n",
    "Multithreading in Python refers to the ability of a program to execute multiple threads concurrently within a single process.\n",
    "Now concurrently means when two or more tasks progress at the same time.\n",
    "\n",
    "We can use multithreading to perform two or more tasks in a single process and the resources can be shared among all. It can still be useful for \n",
    "I/O-bound operations or when using external libraries that release the GIL during their execution. \n",
    "\n",
    "The module used to handle threads in Python is called 'threading'. This module allows you to create new threads, control their execution, \n",
    "synchronize their operations, and communicate between threads using various synchronization primitives like locks, semaphores, and condition variables.\n",
    "\"\"\""
   ]
  },
  {
   "cell_type": "code",
   "execution_count": 1,
   "id": "22af09ee-d225-418c-a108-b8cba2dafdbe",
   "metadata": {},
   "outputs": [
    {
     "name": "stdout",
     "output_type": "stream",
     "text": [
      "Hi sudh\n",
      "Hi krish\n"
     ]
    }
   ],
   "source": [
    "#Example:\n",
    "import threading\n",
    "\n",
    "def print_name(x):\n",
    "    print(f\"Hi {x}\")\n",
    "\n",
    "thread1 = threading.Thread(target=print_name , args = ('sudh',))\n",
    "thread2 = threading.Thread(target=print_name , args = ('krish',))\n",
    "\n",
    "thread1.start()\n",
    "thread2.start()\n",
    "\n",
    "thread1.join()\n",
    "thread2.join()"
   ]
  },
  {
   "cell_type": "code",
   "execution_count": null,
   "id": "9916dd06-16b1-4272-972f-5f795d2cdb6c",
   "metadata": {},
   "outputs": [],
   "source": [
    "\"\"\"\n",
    "Q2.Why threading module used? Write the use of the following functions\n",
    "1. activeCount()\n",
    "2. currentThread()\n",
    "3. enumerate()\n",
    "\"\"\""
   ]
  },
  {
   "cell_type": "code",
   "execution_count": null,
   "id": "45bd37ef-72f1-4f39-8626-ff1b8a5f5ca3",
   "metadata": {},
   "outputs": [],
   "source": [
    "#Ans 2:\n",
    "\"\"\"\n",
    "There is by default one thread in Python that is the main thread. Now if we want to make multiple threads in a single process to take advantage of \n",
    "concurrency, responsiveness, and coordination in your programs we use threading.\n",
    "But there are some limitation because of GIL(Global Interpreter Lock) because of which only one thread can be run at a time.\n",
    "\n",
    "Explaination of the functions:\n",
    "1. activeCount() --> Returns the number of thread objects that are active.\n",
    "\n",
    "2. currentThread() --> It is used to return the current Thread object, which corresponds to the caller's thread of control.\n",
    "\n",
    "3.enumerate() --> It returns a list of all Thread objects currently alive.\n",
    "\"\"\""
   ]
  },
  {
   "cell_type": "code",
   "execution_count": null,
   "id": "5776363e-2c66-455b-8549-5410f2658840",
   "metadata": {},
   "outputs": [],
   "source": [
    "\"\"\"\n",
    "3. Explain the following functions:\n",
    "run()\n",
    "start()\n",
    "join()\n",
    "isAlive()\n",
    "\"\"\""
   ]
  },
  {
   "cell_type": "code",
   "execution_count": null,
   "id": "d8e5e639-511f-4a91-8c69-1f1f41e68909",
   "metadata": {},
   "outputs": [],
   "source": [
    "#Ans 3:\n",
    "\"\"\"\n",
    "run() --> This method executes any target function belonging to a given thread object that is active.\n",
    "\n",
    "start() --> This method executes the run() method in background to start the target function belonging to a given thread object that is active.\n",
    "\n",
    "join() --> It delays a program's flow of execution until the target thread has been completely read.\n",
    "\n",
    "isAlive() --> It is used to check whether that thread is alive or not.\n",
    "\"\"\""
   ]
  },
  {
   "cell_type": "code",
   "execution_count": null,
   "id": "5015b2c6-f587-4929-9e19-9dc35f836ac1",
   "metadata": {},
   "outputs": [],
   "source": [
    "\"\"\"\n",
    "4.Write a python program to create two threads. Thread one must print the list of squares and thread \n",
    "two must print the list of cubes?\n",
    "\"\"\""
   ]
  },
  {
   "cell_type": "code",
   "execution_count": 54,
   "id": "143d6b0b-77d6-4afd-a68e-e0f857ed68ea",
   "metadata": {},
   "outputs": [
    {
     "name": "stdout",
     "output_type": "stream",
     "text": [
      "[1, 4, 9, 16, 25]\n",
      "[1, 8, 27, 64, 125]\n"
     ]
    }
   ],
   "source": [
    "#Ans 4:\n",
    "import threading\n",
    "\n",
    "mylist = [1,2,3,4,5]\n",
    "\n",
    "def square(*l):\n",
    "    l_sq = []\n",
    "    for item in l:\n",
    "        l_sq.append(item**2)\n",
    "    print(l_sq)\n",
    "\n",
    "def cube(*l):\n",
    "    l_cube = []\n",
    "    for item in l:\n",
    "        l_cube.append(item**3)\n",
    "    print(l_cube)\n",
    "    \n",
    "t1 = threading.Thread(target = square , args = (mylist))\n",
    "t2 = threading.Thread(target = cube , args = (mylist))\n",
    "\n",
    "t1.start()\n",
    "t2.start()\n",
    "\n",
    "t1.join()\n",
    "t2.join()"
   ]
  },
  {
   "cell_type": "code",
   "execution_count": null,
   "id": "ee6ee1e2-64eb-405b-8621-f3855856391f",
   "metadata": {},
   "outputs": [],
   "source": [
    "\"\"\"\n",
    "Q5. State advantages and disadvantages of multithreading?\n",
    "\"\"\""
   ]
  },
  {
   "cell_type": "code",
   "execution_count": null,
   "id": "e868a0e6-25bf-40d8-ac53-5e5808f4e9d0",
   "metadata": {},
   "outputs": [],
   "source": [
    "#Ans 5:\n",
    "\"\"\"\n",
    "Advantages:\n",
    "\n",
    "Improved performance: Multithreading can help increase the overall performance of an application, especially on systems with multiple processors or \n",
    "cores. It allows multiple tasks to run concurrently, utilizing the available CPU resources more efficiently.\n",
    "\n",
    "Responsiveness: In a single-threaded environment, if a long-running task blocks the main thread, the entire application becomes unresponsive. \n",
    "Multithreading can prevent this issue by running such tasks in separate threads, ensuring the application remains responsive.\n",
    "\n",
    "Better resource utilization: Multithreading allows better utilization of system resources by keeping the CPU busy while waiting for I/O operations \n",
    "or other tasks to complete.\n",
    "\n",
    "Simplified modeling: Some problems can be more naturally modeled using multiple threads. This makes the program easier to design, understand, \n",
    "and maintain.\n",
    "\n",
    "Parallelism: Multithreading enables parallelism, which can lead to significant performance improvements in applications that can be divided into \n",
    "smaller, independent tasks.\n",
    "\n",
    "\n",
    "Disadvantages:\n",
    "\n",
    "Complexity: Multithreading adds complexity to the program, making it more difficult to design, implement, and debug. Developers need to be aware \n",
    "of synchronization, deadlocks, race conditions, and other concurrency-related issues.\n",
    "\n",
    "Synchronization overhead: To avoid data corruption and maintain consistency, developers must synchronize access to shared resources, which can \n",
    "result in additional overhead and reduced performance.\n",
    "\n",
    "Context switching: Context switching between threads consumes CPU time and resources, which can lead to performance degradation if not managed\n",
    "efficiently.\n",
    "\n",
    "Hard to predict behavior: Due to the concurrent nature of multithreading, the behavior of the program can be hard to predict and reproduce, \n",
    "especially when it comes to debugging.\n",
    "\n",
    "Limited by hardware: The performance benefits of multithreading are limited by the number of available cores or processors in the system. \n",
    "In some cases, excessive use of threads can lead to performance degradation instead of improvement.\n",
    "\n",
    "\"\"\""
   ]
  },
  {
   "cell_type": "code",
   "execution_count": null,
   "id": "e0795f8e-4c82-4372-82c0-08ad72b1c33c",
   "metadata": {},
   "outputs": [],
   "source": [
    "\"\"\"\n",
    "Q6. Explain deadlocks and race conditions.\n",
    "\"\"\""
   ]
  },
  {
   "cell_type": "code",
   "execution_count": null,
   "id": "1a3622e4-9604-4990-a698-e838f34e43ed",
   "metadata": {},
   "outputs": [],
   "source": [
    "#Ans 6:\n",
    "\"\"\"\n",
    "Deadlocks:\n",
    "\n",
    "Deadlock is a situation in concurrent programming where two or more threads are blocked, waiting for each other to release resources that they hold.\n",
    "As a result, the threads cannot proceed, leading to a program deadlock.\n",
    "\n",
    "Race Condition:\n",
    "A race condition occurs when two or more threads access a shared resource or variable concurrently, and the final outcome depends on the specific \n",
    "order or timing of their execution. The result of a race condition is often unpredictable and can lead to incorrect program behavior.\n",
    "\"\"\""
   ]
  }
 ],
 "metadata": {
  "kernelspec": {
   "display_name": "Python 3 (ipykernel)",
   "language": "python",
   "name": "python3"
  },
  "language_info": {
   "codemirror_mode": {
    "name": "ipython",
    "version": 3
   },
   "file_extension": ".py",
   "mimetype": "text/x-python",
   "name": "python",
   "nbconvert_exporter": "python",
   "pygments_lexer": "ipython3",
   "version": "3.10.8"
  }
 },
 "nbformat": 4,
 "nbformat_minor": 5
}
