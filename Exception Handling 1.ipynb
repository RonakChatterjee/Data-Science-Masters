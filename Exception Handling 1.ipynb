{
 "cells": [
  {
   "cell_type": "code",
   "execution_count": null,
   "id": "9585645f-61eb-47fd-a0c4-4ae62cd7e006",
   "metadata": {},
   "outputs": [],
   "source": [
    "\"\"\"\n",
    "Q1. What is an Exception in python? Write the difference between Exceptions and Syntax errors?\n",
    "\"\"\""
   ]
  },
  {
   "cell_type": "code",
   "execution_count": null,
   "id": "68e99d4b-9ae3-4e02-9994-ddd266e3700f",
   "metadata": {},
   "outputs": [],
   "source": [
    "#Ans 1:\n",
    "\"\"\"\n",
    "Exception is an event which occurs when the normal flow of the program disrupts. Then during this case, the program will raise an exception and throw\n",
    "an error.\n",
    "\n",
    "Difference of Syntax Error and Exception:\n",
    "--> Syntax errors are those errors which is thrown by the interpreter if the code does not follow the rules of writing a particular language and we\n",
    "cannot run that program.\n",
    "-->But Exceptions occur after we have run the program and while doing so the normal flow gets disturbed.\n",
    "\"\"\""
   ]
  },
  {
   "cell_type": "code",
   "execution_count": null,
   "id": "7e7b1e69-0663-4349-9fb5-eb5f20ec292c",
   "metadata": {},
   "outputs": [],
   "source": [
    "\"\"\"\n",
    "Q2. What happens when an exception is not handled? Explain with an example?\n",
    "\"\"\""
   ]
  },
  {
   "cell_type": "code",
   "execution_count": null,
   "id": "01ecf368-1b3b-47d3-9683-15562fd8a83b",
   "metadata": {},
   "outputs": [],
   "source": [
    "#Ans 2:\n",
    "\"\"\"\n",
    "When we do not handle an exception the program will stop running abruptly and the code past the line that raised the exception will not get \n",
    "executed.\n",
    "\n",
    "The example is shown below:\n",
    "Say we take an integer input from the user and want to add 5 to it\n",
    "\"\"\""
   ]
  },
  {
   "cell_type": "code",
   "execution_count": 4,
   "id": "c0617e17-4326-4bc4-9d7f-a8522660e5f9",
   "metadata": {},
   "outputs": [
    {
     "name": "stdin",
     "output_type": "stream",
     "text": [
      "Enter a number:  Hello\n"
     ]
    },
    {
     "ename": "ValueError",
     "evalue": "invalid literal for int() with base 10: 'Hello'",
     "output_type": "error",
     "traceback": [
      "\u001b[0;31m---------------------------------------------------------------------------\u001b[0m",
      "\u001b[0;31mValueError\u001b[0m                                Traceback (most recent call last)",
      "Cell \u001b[0;32mIn[4], line 2\u001b[0m\n\u001b[1;32m      1\u001b[0m \u001b[38;5;66;03m#Code without exception:\u001b[39;00m\n\u001b[0;32m----> 2\u001b[0m num \u001b[38;5;241m=\u001b[39m \u001b[38;5;28;43mint\u001b[39;49m\u001b[43m(\u001b[49m\u001b[38;5;28;43minput\u001b[39;49m\u001b[43m(\u001b[49m\u001b[38;5;124;43m\"\u001b[39;49m\u001b[38;5;124;43mEnter a number: \u001b[39;49m\u001b[38;5;124;43m\"\u001b[39;49m\u001b[43m)\u001b[49m\u001b[43m)\u001b[49m\n\u001b[1;32m      4\u001b[0m \u001b[38;5;28;01mdef\u001b[39;00m \u001b[38;5;21madd_5\u001b[39m(i):\n\u001b[1;32m      5\u001b[0m     \u001b[38;5;28;01mreturn\u001b[39;00m i \u001b[38;5;241m+\u001b[39m \u001b[38;5;241m5\u001b[39m\n",
      "\u001b[0;31mValueError\u001b[0m: invalid literal for int() with base 10: 'Hello'"
     ]
    }
   ],
   "source": [
    "#Code without exception:\n",
    "num = int(input(\"Enter a number: \"))\n",
    "\n",
    "def add_5(i):\n",
    "    return i + 5\n",
    "\n",
    "add_5(num)"
   ]
  },
  {
   "cell_type": "code",
   "execution_count": 8,
   "id": "eb6ea3bf-9983-4598-8131-eb31a0ad4cd8",
   "metadata": {},
   "outputs": [
    {
     "name": "stdin",
     "output_type": "stream",
     "text": [
      "Enter a number:  hello\n"
     ]
    },
    {
     "name": "stdout",
     "output_type": "stream",
     "text": [
      "invalid literal for int() with base 10: 'hello'\n",
      "This is a try except code\n"
     ]
    }
   ],
   "source": [
    "#Code with exception:\n",
    "try:\n",
    "    num = int(input(\"Enter a number: \"))\n",
    "    \n",
    "    def add_5(i):\n",
    "        return i + 5\n",
    "except Exception as e:\n",
    "    print(e)\n",
    "\n",
    "print(\"This is a try except code\")"
   ]
  },
  {
   "cell_type": "code",
   "execution_count": null,
   "id": "86dceb7f-7724-4bee-bfce-b2df6ab2e1dc",
   "metadata": {},
   "outputs": [],
   "source": [
    "\"\"\"\n",
    "So the above code did not stop the program abruptly and the code past the line that caused the exception also got executed.\n",
    "\"\"\""
   ]
  },
  {
   "cell_type": "code",
   "execution_count": null,
   "id": "112136ab-6515-4807-8981-8d3d5d2961c5",
   "metadata": {},
   "outputs": [],
   "source": [
    "\"\"\"\n",
    "Q3. Which Python statements are used to catch and handle exceptions? Explain with an example\n",
    "\"\"\""
   ]
  },
  {
   "cell_type": "code",
   "execution_count": null,
   "id": "e33e209a-3988-45d5-9490-5afd3fce740a",
   "metadata": {},
   "outputs": [],
   "source": [
    "#Ans 3:\n",
    "\"\"\"\n",
    "The try and except block is used to catch and handle exception in python.\n",
    "\n",
    "try: Under this block we write our entire code that gets executed.\n",
    "except: Under this block the exception gets raised if the program stops abruptly.\n",
    "else: The code under this block works only if the try block gets executed without any exception.\n",
    "finally: Code under this block gets executed irrespective of the code gets exception or not.\n",
    "\n",
    "Syntax:\n",
    "\n",
    "try:\n",
    "    code\n",
    "except:\n",
    "    code\n",
    "else:\n",
    "    code\n",
    "finally:\n",
    "    code\n",
    "\n",
    "The example is given below: \n",
    "\"\"\""
   ]
  },
  {
   "cell_type": "code",
   "execution_count": 1,
   "id": "3ac80c60-f2c6-4f0c-9520-5a81ad618187",
   "metadata": {},
   "outputs": [
    {
     "name": "stdin",
     "output_type": "stream",
     "text": [
      "Enter your age:  hjhsdkk\n"
     ]
    },
    {
     "name": "stdout",
     "output_type": "stream",
     "text": [
      "invalid literal for int() with base 10: 'hjhsdkk'\n",
      "I am a student of pwskills\n"
     ]
    }
   ],
   "source": [
    "try:\n",
    "    age = int(input(\"Enter your age: \"))\n",
    "except Exception as e:\n",
    "    print(e)\n",
    "else:\n",
    "    print(\"Try executed successfully\")\n",
    "finally:\n",
    "    print(\"I am a student of pwskills\")"
   ]
  },
  {
   "cell_type": "code",
   "execution_count": 2,
   "id": "848340dd-ca92-4a21-8470-c19e4a6d80db",
   "metadata": {},
   "outputs": [
    {
     "name": "stdin",
     "output_type": "stream",
     "text": [
      "Enter your age:  23\n"
     ]
    },
    {
     "name": "stdout",
     "output_type": "stream",
     "text": [
      "Try executed successfully\n",
      "I am a student of pwskills\n"
     ]
    }
   ],
   "source": [
    "try:\n",
    "    age = int(input(\"Enter your age: \"))\n",
    "except Exception as e:\n",
    "    print(e)\n",
    "else:\n",
    "    print(\"Try executed successfully\")\n",
    "finally:\n",
    "    print(\"I am a student of pwskills\")"
   ]
  },
  {
   "cell_type": "code",
   "execution_count": null,
   "id": "a444814b-1210-46c3-82f0-53bd252cc4c8",
   "metadata": {},
   "outputs": [],
   "source": [
    "\"\"\"\n",
    "Q4. Explain with an example:\n",
    "a. try and else\n",
    "b. finally\n",
    "c. raise\n",
    "\"\"\""
   ]
  },
  {
   "cell_type": "code",
   "execution_count": 5,
   "id": "de733333-b897-4f4a-b810-20831f8119c3",
   "metadata": {},
   "outputs": [
    {
     "name": "stdin",
     "output_type": "stream",
     "text": [
      "Enter your age:  Hee\n"
     ]
    },
    {
     "name": "stdout",
     "output_type": "stream",
     "text": [
      "invalid literal for int() with base 10: 'Hee'\n"
     ]
    }
   ],
   "source": [
    "#Ans 4:\n",
    "#a.In try else block we write our entire code inside try block. The else block gets executed only when try gets executed successfully.\n",
    "try:\n",
    "    age = int(input(\"Enter your age: \"))\n",
    "except Exception as e:\n",
    "    print(e)\n",
    "else:\n",
    "    print(\"Try executed successfully\")"
   ]
  },
  {
   "cell_type": "code",
   "execution_count": 6,
   "id": "10989b72-55fd-42d4-abbd-f0874a574d6e",
   "metadata": {},
   "outputs": [
    {
     "name": "stdin",
     "output_type": "stream",
     "text": [
      "Enter your age:  23\n"
     ]
    },
    {
     "name": "stdout",
     "output_type": "stream",
     "text": [
      "Try executed successfully\n"
     ]
    }
   ],
   "source": [
    "try:\n",
    "    age = int(input(\"Enter your age: \"))\n",
    "except Exception as e:\n",
    "    print(e)\n",
    "else:\n",
    "    print(\"Try executed successfully\")"
   ]
  },
  {
   "cell_type": "code",
   "execution_count": 7,
   "id": "dd523b17-6c30-4caf-bff2-1e957fba3958",
   "metadata": {},
   "outputs": [
    {
     "name": "stdin",
     "output_type": "stream",
     "text": [
      "Enter your age:  hello\n"
     ]
    },
    {
     "name": "stdout",
     "output_type": "stream",
     "text": [
      "invalid literal for int() with base 10: 'hello'\n",
      "I am a student of pwskills\n"
     ]
    }
   ],
   "source": [
    "#b. Finally works irrespective of the code catches exception or not\n",
    "try:\n",
    "    age = int(input(\"Enter your age: \"))\n",
    "except Exception as e:\n",
    "    print(e)\n",
    "finally:\n",
    "    print(\"I am a student of pwskills\")"
   ]
  },
  {
   "cell_type": "code",
   "execution_count": 10,
   "id": "6f978268-3a1c-4fd1-9746-84407b52f307",
   "metadata": {},
   "outputs": [
    {
     "name": "stdout",
     "output_type": "stream",
     "text": [
      "23\n"
     ]
    }
   ],
   "source": [
    "#c.raise is a keyword in python that helps to raise exceptions\n",
    "def age(num):\n",
    "    if type(num) == 'str':\n",
    "        raise Exception\n",
    "    return num\n",
    "\n",
    "try:\n",
    "    print(age(23))\n",
    "except Exception as e:\n",
    "    print(e)"
   ]
  },
  {
   "cell_type": "code",
   "execution_count": 37,
   "id": "3f2e24ca-fd71-4804-a733-736743da8b25",
   "metadata": {},
   "outputs": [
    {
     "name": "stdout",
     "output_type": "stream",
     "text": [
      "'<' not supported between instances of 'str' and 'int'\n"
     ]
    }
   ],
   "source": [
    "def age(num):\n",
    "    if num < 0:\n",
    "        raise Exception\n",
    "    return num\n",
    "\n",
    "try:\n",
    "    print(age(\"Hello\"))\n",
    "except Exception as e:\n",
    "    print(e)"
   ]
  },
  {
   "cell_type": "code",
   "execution_count": null,
   "id": "3a19631f-f76a-414f-af57-371c32c9d8a7",
   "metadata": {},
   "outputs": [],
   "source": [
    "\"\"\"\n",
    "Q5. What are Custom Exceptions in python? Why do we need Custom Exceptions? Explain with an example\n",
    "\"\"\""
   ]
  },
  {
   "cell_type": "code",
   "execution_count": null,
   "id": "d63d2ebc-6edd-48c1-8ab8-5ffc26657da8",
   "metadata": {},
   "outputs": [],
   "source": [
    "#Ans 5:\n",
    "\"\"\"\n",
    "Custom Exceptions are user defined exception which we can create by making a new class that inherites from the built-in Exception class.\n",
    "We need custom exceptions for better readablity of our code and quickly indentify the main cause of the error.\n",
    "\n",
    "The example is shown below:\n",
    "\"\"\""
   ]
  },
  {
   "cell_type": "code",
   "execution_count": 35,
   "id": "04f71233-c63f-4007-aac0-d8f27401959c",
   "metadata": {},
   "outputs": [
    {
     "name": "stdout",
     "output_type": "stream",
     "text": [
      "Age is negative. Please enter a positive value\n"
     ]
    }
   ],
   "source": [
    "class MyError(Exception):\n",
    "    def __init__(self,msg):\n",
    "        self.msg = msg\n",
    "\n",
    "def age(num):\n",
    "    if num < 0:\n",
    "        raise MyError(\"Age is negative. Please enter a positive value\")\n",
    "    return num\n",
    "\n",
    "try:\n",
    "    print(age(-33))\n",
    "except MyError as e:\n",
    "    print(e)\n",
    "\n",
    "#So custom exception here helps us to create our own error if age is negative. Python does not have any built-in error type if age is negative as it will only check if it is integer or not"
   ]
  },
  {
   "cell_type": "code",
   "execution_count": null,
   "id": "9e11f3fb-fd20-4f4b-bd60-93dd61ceac81",
   "metadata": {},
   "outputs": [],
   "source": [
    "\"\"\"\n",
    "Q6.Create a custom exception class. Use this class to handle an exception.\n",
    "\"\"\""
   ]
  },
  {
   "cell_type": "code",
   "execution_count": 38,
   "id": "2133287e-737f-498e-b25f-584dcffd6c70",
   "metadata": {},
   "outputs": [
    {
     "name": "stdout",
     "output_type": "stream",
     "text": [
      "Age is negative. Please enter a positive value\n"
     ]
    }
   ],
   "source": [
    "class MyError(Exception):\n",
    "    def __init__(self,msg):\n",
    "        self.msg = msg\n",
    "\n",
    "def age(num):\n",
    "    if num < 0:\n",
    "        raise MyError(\"Age is negative. Please enter a positive value\")\n",
    "    return num\n",
    "\n",
    "try:\n",
    "    print(age(-33))\n",
    "except MyError as e:\n",
    "    print(e)"
   ]
  }
 ],
 "metadata": {
  "kernelspec": {
   "display_name": "Python 3 (ipykernel)",
   "language": "python",
   "name": "python3"
  },
  "language_info": {
   "codemirror_mode": {
    "name": "ipython",
    "version": 3
   },
   "file_extension": ".py",
   "mimetype": "text/x-python",
   "name": "python",
   "nbconvert_exporter": "python",
   "pygments_lexer": "ipython3",
   "version": "3.10.8"
  }
 },
 "nbformat": 4,
 "nbformat_minor": 5
}
