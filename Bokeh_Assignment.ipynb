{
  "nbformat": 4,
  "nbformat_minor": 0,
  "metadata": {
    "colab": {
      "provenance": []
    },
    "kernelspec": {
      "name": "python3",
      "display_name": "Python 3"
    },
    "language_info": {
      "name": "python"
    }
  },
  "cells": [
    {
      "cell_type": "code",
      "source": [
        "'''Q1. How can you create a Bokeh plot using Python code?'''"
      ],
      "metadata": {
        "id": "WtpOJnwIqZt8"
      },
      "execution_count": null,
      "outputs": []
    },
    {
      "cell_type": "code",
      "source": [
        "#Ans1:\n",
        "'''\n",
        "Bokeh is a Python interactive visualization library that targets modern web browsers for presentation. You can create Bokeh plots using Python code by following these general steps:\n",
        "1. Install Bokeh library using the below code\n",
        "pip install bokeh\n",
        "\n",
        "2.Import necessary modules:\n",
        "from bokeh.plotting import figure, show\n",
        "\n",
        "3.Create figure:\n",
        "p = figure(title='My Bokeh Plot', x_axis_label='X-axis', y_axis_label='Y-axis')\n",
        "\n",
        "4.Add Glyphs:\n",
        "p.circle(x, y, size=10, color='blue', alpha=0.5)\n",
        "\n",
        "5.Show the plot:\n",
        "show(p)\n",
        "'''"
      ],
      "metadata": {
        "id": "vw9_naB_qc2V"
      },
      "execution_count": null,
      "outputs": []
    },
    {
      "cell_type": "code",
      "source": [
        "'''\n",
        "Q2. What are glyphs in Bokeh, and how can you add them to a Bokeh plot? Explain with an example\n",
        "'''"
      ],
      "metadata": {
        "colab": {
          "base_uri": "https://localhost:8080/",
          "height": 36
        },
        "id": "P1IEEC27qd3u",
        "outputId": "57e8e6dd-888e-4256-b960-27c6e194e32f"
      },
      "execution_count": 1,
      "outputs": [
        {
          "output_type": "execute_result",
          "data": {
            "text/plain": [
              "'\\nQ2. What are glyphs in Bokeh, and how can you add them to a Bokeh plot? Explain with an example\\n'"
            ],
            "application/vnd.google.colaboratory.intrinsic+json": {
              "type": "string"
            }
          },
          "metadata": {},
          "execution_count": 1
        }
      ]
    },
    {
      "cell_type": "code",
      "source": [
        "#Ans2:\n",
        "'''\n",
        "In Bokeh, glyphs are the visual elements that represent data on a plot. Glyphs can be points, lines, patches, bars, and other geometric shapes that visually encode your data.\n",
        "To add glyphs to a Bokeh plot, you use specific glyph functions provided by Bokeh, such as circle(), line(), rect(), etc.\n",
        "\n",
        "Here's an example that demonstrates how to add glyphs to a Bokeh plot using the circle() glyph function:\n",
        "\n",
        "from bokeh.plotting import figure, show\n",
        "\n",
        "# Create data\n",
        "x = [1, 2, 3, 4, 5]\n",
        "y = [6, 7, 2, 4, 5]\n",
        "\n",
        "# Create a figure\n",
        "p = figure(title='Glyph Example', x_axis_label='X-axis', y_axis_label='Y-axis')\n",
        "\n",
        "# Add a circle glyph to the plot\n",
        "p.circle(x, y, size=10, color='blue', alpha=0.5)\n",
        "\n",
        "# Show the plot\n",
        "show(p)\n",
        "'''"
      ],
      "metadata": {
        "id": "68ntQes5r2qI"
      },
      "execution_count": null,
      "outputs": []
    },
    {
      "cell_type": "code",
      "source": [
        "'''\n",
        "Q3. How can you customize the appearance of a Bokeh plot, including the axes, title, and legend?\n",
        "'''"
      ],
      "metadata": {
        "id": "EjEy_-jnr30L"
      },
      "execution_count": null,
      "outputs": []
    },
    {
      "cell_type": "code",
      "source": [
        "#Ans3:\n",
        "'''\n",
        "Customizing the appearance of a Bokeh plot involves modifying various properties of the plot, such as the title, axes, legend, colors, and more. Here's an example\n",
        "demonstrating how to customize different aspects of a Bokeh plot:\n",
        "\n",
        "from bokeh.plotting import figure, show\n",
        "from bokeh.models import Legend\n",
        "\n",
        "# Create data\n",
        "x = [1, 2, 3, 4, 5]\n",
        "y1 = [6, 7, 2, 4, 5]\n",
        "y2 = [2, 3, 7, 1, 6]\n",
        "\n",
        "# Create a figure\n",
        "p = figure(title='Customized Bokeh Plot', x_axis_label='X-axis', y_axis_label='Y-axis')\n",
        "\n",
        "# Add line glyphs to the plot\n",
        "line1 = p.line(x, y1, line_width=2, line_color='blue', legend_label='Line 1')\n",
        "line2 = p.line(x, y2, line_width=2, line_color='red', legend_label='Line 2')\n",
        "\n",
        "# Customize the title\n",
        "p.title.text_font_size = '18pt'\n",
        "p.title.align = 'center'\n",
        "p.title.text_color = 'green'\n",
        "\n",
        "# Customize the axes\n",
        "p.xaxis.axis_label_text_font_style = 'italic'\n",
        "p.yaxis.axis_label_text_font_style = 'italic'\n",
        "p.xaxis.axis_label_standoff = 10\n",
        "p.yaxis.axis_label_standoff = 10\n",
        "\n",
        "# Customize the legend\n",
        "legend = Legend(items=[\n",
        "    ('Line 1', [line1]),\n",
        "    ('Line 2', [line2]),\n",
        "], location='center')\n",
        "\n",
        "p.add_layout(legend, 'above')\n",
        "\n",
        "# Show the plot\n",
        "show(p)\n",
        "'''"
      ],
      "metadata": {
        "id": "y0sLKRJBr4WM"
      },
      "execution_count": null,
      "outputs": []
    },
    {
      "cell_type": "code",
      "source": [
        "'''\n",
        "Q4. What is a Bokeh server, and how can you use it to create interactive plots that can be updated in\n",
        "real time?\n",
        "'''"
      ],
      "metadata": {
        "id": "b0VWvFCmsPK-"
      },
      "execution_count": null,
      "outputs": []
    },
    {
      "cell_type": "code",
      "source": [
        "#Ans4:\n",
        "'''\n",
        "The Bokeh server is a component of the Bokeh library that allows you to create interactive and real-time data visualization applications. With the Bokeh server, you can build\n",
        "web applications that update and respond to user input, making it possible to create dynamic and interactive plots that change in real time.\n",
        "\n",
        "Here are the general steps to use the Bokeh server to create interactive plots:\n",
        "\n",
        "1.Install Bokeh:\n",
        "pip install bokeh\n",
        "\n",
        "2.Create a Bokeh Application:\n",
        "# myapp.py\n",
        "from bokeh.plotting import figure, curdoc\n",
        "from bokeh.models import Slider\n",
        "\n",
        "# Create initial plot\n",
        "plot = figure(plot_width=400, plot_height=400)\n",
        "slider = Slider(start=0, end=10, value=1, step=0.1, title=\"Slider\")\n",
        "\n",
        "def update(attr, old, new):\n",
        "    # Define the update logic based on the slider value\n",
        "    plot.line(x=[1, 2, 3, 4, 5], y=[new * i for i in [1, 2, 3, 4, 5]], line_width=2)\n",
        "\n",
        "slider.on_change('value', update)\n",
        "\n",
        "# Set up layouts and add to document\n",
        "layout = column(slider, plot)\n",
        "curdoc().add_root(layout)\n",
        "\n",
        "3.Run the Bokeh Server\n",
        "bokeh serve --show myapp.py\n",
        "\n",
        "4.Interact with the Plot:\n",
        "In the opened browser window, you can interact with the plot using the defined widgets (e.g., sliders, buttons). As you adjust the slider in this example, the plot\n",
        "updates dynamically.\n",
        "'''"
      ],
      "metadata": {
        "id": "7kseou3RsPms"
      },
      "execution_count": null,
      "outputs": []
    },
    {
      "cell_type": "code",
      "source": [
        "'''\n",
        "Q5. How can you embed a Bokeh plot into a web page or dashboard using Flask or Django?\n",
        "'''"
      ],
      "metadata": {
        "id": "3fC1AFNxskYf"
      },
      "execution_count": null,
      "outputs": []
    },
    {
      "cell_type": "code",
      "source": [
        "#Ans 5:\n",
        "'''\n",
        "Flask:\n",
        "\n",
        "from flask import Flask, render_template\n",
        "from bokeh.embed import components\n",
        "from bokeh.plotting import figure\n",
        "from bokeh.resources import CDN\n",
        "\n",
        "app = Flask(__name__)\n",
        "\n",
        "@app.route('/')\n",
        "def index():\n",
        "    # Create Bokeh plot\n",
        "    plot = figure(plot_width=400, plot_height=400)\n",
        "    plot.circle([1, 2, 3, 4, 5], [6, 7, 2, 4, 5], size=10, color='blue', alpha=0.5)\n",
        "\n",
        "    # Embed Bokeh plot into HTML\n",
        "    script, div = components(plot, CDN)\n",
        "\n",
        "    return render_template('index.html', script=script, div=div)\n",
        "\n",
        "if __name__ == '__main__':\n",
        "    app.run(debug=True)\n",
        "\n",
        "\n",
        "Django:\n",
        "\n",
        "from django.shortcuts import render\n",
        "from bokeh.plotting import figure\n",
        "from bokeh.embed import components\n",
        "from bokeh.resources import CDN\n",
        "\n",
        "def bokeh_plot(request):\n",
        "    # Create Bokeh plot\n",
        "    plot = figure(plot_width=400, plot_height=400)\n",
        "    plot.circle([1, 2, 3, 4, 5], [6, 7, 2, 4, 5], size=10, color='blue', alpha=0.5)\n",
        "\n",
        "    # Embed Bokeh plot into HTML\n",
        "    script, div = components(plot, CDN)\n",
        "\n",
        "    return render(request, 'myapp/bokeh_plot.html', {'script': script, 'div': div})\n",
        "\n",
        "'''"
      ],
      "metadata": {
        "id": "JfmBsvVzskJq"
      },
      "execution_count": null,
      "outputs": []
    }
  ]
}