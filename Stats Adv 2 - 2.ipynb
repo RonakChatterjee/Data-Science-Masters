{
 "cells": [
  {
   "cell_type": "code",
   "execution_count": null,
   "id": "80dfbfbf-816e-4dd1-8d94-fbed59866838",
   "metadata": {},
   "outputs": [],
   "source": [
    "'''\n",
    "Q1. Calculate the 95% confidence interval for a sample of data with a mean of 50 and a standard deviation \n",
    "of 5 using Python. Interpret the results.\n",
    "'''"
   ]
  },
  {
   "cell_type": "code",
   "execution_count": 1,
   "id": "bf30dac9-6da6-41c0-ab76-a386267ebccf",
   "metadata": {},
   "outputs": [],
   "source": [
    "#Ans 1:\n",
    "import scipy.stats as stat\n",
    "import numpy as np"
   ]
  },
  {
   "cell_type": "code",
   "execution_count": 2,
   "id": "110ff793-5e41-4a5b-a615-a987e2e7929a",
   "metadata": {},
   "outputs": [],
   "source": [
    "sample_mean = 50\n",
    "sample_std = 5\n",
    "significance_level = 0.05"
   ]
  },
  {
   "cell_type": "code",
   "execution_count": 6,
   "id": "e021efab-b9c6-4b10-ad6e-160076ce5563",
   "metadata": {},
   "outputs": [
    {
     "name": "stdout",
     "output_type": "stream",
     "text": [
      "1.9599639845400545\n"
     ]
    }
   ],
   "source": [
    "#Z value\n",
    "z_value = abs(stat.norm.ppf(0.025))\n",
    "print(z_value)"
   ]
  },
  {
   "cell_type": "code",
   "execution_count": 7,
   "id": "4136eb45-e221-4580-a7db-e5e43f78df7d",
   "metadata": {},
   "outputs": [
    {
     "name": "stdout",
     "output_type": "stream",
     "text": [
      "9.799819922700273\n"
     ]
    }
   ],
   "source": [
    "#Margin \n",
    "margin = z_value*sample_std\n",
    "print(margin)"
   ]
  },
  {
   "cell_type": "code",
   "execution_count": 8,
   "id": "43403a10-22a0-46a1-bf81-68b7c528fd33",
   "metadata": {},
   "outputs": [
    {
     "name": "stdout",
     "output_type": "stream",
     "text": [
      "The upper bound is 59.79981992270027 and lower bound is 40.20018007729973\n"
     ]
    }
   ],
   "source": [
    "#Bounds\n",
    "lower_bound = sample_mean - margin\n",
    "upper_bound = sample_mean + margin\n",
    "\n",
    "print(f\"The upper bound is {upper_bound} and lower bound is {lower_bound}\")"
   ]
  },
  {
   "cell_type": "code",
   "execution_count": null,
   "id": "8adf22fc-c6e1-44f2-bc1a-48da4940893b",
   "metadata": {},
   "outputs": [],
   "source": [
    "'''\n",
    "Q2. Conduct a chi-square goodness of fit test to determine if the distribution of colors of M&Ms in a bag \n",
    "matches the expected distribution of 20% blue, 20% orange, 20% green, 10% yellow, 10% red, and 20% \n",
    "brown. Use Python to perform the test with a significance level of 0.05.\n",
    "'''"
   ]
  },
  {
   "cell_type": "code",
   "execution_count": 12,
   "id": "b34ee974-1c7c-45c3-ba86-1dd4f0307827",
   "metadata": {},
   "outputs": [],
   "source": [
    "#Ans 2:\n",
    "import scipy.stats as stat\n",
    "import numpy as np"
   ]
  },
  {
   "cell_type": "code",
   "execution_count": null,
   "id": "3f477a47-0bca-42b6-87eb-81b4ec8bbc59",
   "metadata": {},
   "outputs": [],
   "source": [
    "'''\n",
    "H0: The distribution of the colors of M&Ms in a bag matches the expected distribution\n",
    "H1: The distribution of the colors of M&Ms in a bag does not match the expected distribution\n",
    "'''"
   ]
  },
  {
   "cell_type": "code",
   "execution_count": 19,
   "id": "93c0f5bc-413c-4e07-93b5-dcc3a40fc81d",
   "metadata": {},
   "outputs": [
    {
     "name": "stdout",
     "output_type": "stream",
     "text": [
      "chi square test value: 11.5 and p value: 0.042319832065580855\n"
     ]
    }
   ],
   "source": [
    "# Define expected and observed frequencies\n",
    "expected_frequencies = [20,20,20,10,10,20]  # Proportions of colors\n",
    "observed_frequencies = [12,28,23,7,5,25]  # Counts of each color\n",
    "\n",
    "alpha = 0.05\n",
    "\n",
    "# Perform the chi-square test\n",
    "chi_stat, p_value = stat.chisquare(observed_frequencies, expected_frequencies)\n",
    "print(f\"chi square test value: {chi_stat} and p value: {p_value}\")"
   ]
  },
  {
   "cell_type": "code",
   "execution_count": 21,
   "id": "0af7915f-1a6d-46be-9e5f-863dfd5fee28",
   "metadata": {},
   "outputs": [
    {
     "name": "stdout",
     "output_type": "stream",
     "text": [
      "11.070497693516351\n"
     ]
    }
   ],
   "source": [
    "#chi square value:\n",
    "chi_value = stat.chi2.ppf(1-alpha,5)\n",
    "print(chi_value)"
   ]
  },
  {
   "cell_type": "code",
   "execution_count": null,
   "id": "e79ce6d7-9fff-425f-8dcb-4e674c6692ed",
   "metadata": {},
   "outputs": [],
   "source": [
    "'''\n",
    "So from the test we find that the value we got from chi-square test is greater than the chi_value from chi table.\n",
    "Also, the p-value is less than alpha. Thus we will reject the null hypothesis.\n",
    "'''"
   ]
  },
  {
   "cell_type": "code",
   "execution_count": null,
   "id": "aa702537-ac2c-49d1-81cb-d8897305d358",
   "metadata": {},
   "outputs": [],
   "source": [
    "'''\n",
    "Q3. Use Python to calculate the chi-square statistic and p-value for a contingency table with the following \n",
    "data:\n",
    "Interpret the results of the test.\n",
    "'''"
   ]
  },
  {
   "cell_type": "code",
   "execution_count": 23,
   "id": "143e02a8-2fe0-4a7e-a0b4-8aa1de13247c",
   "metadata": {},
   "outputs": [],
   "source": [
    "#Ans 3:\n",
    "import scipy.stats as stat\n",
    "import numpy as np"
   ]
  },
  {
   "cell_type": "code",
   "execution_count": 25,
   "id": "ba64d3c5-0827-4b7c-815d-c91dd7a466c8",
   "metadata": {},
   "outputs": [],
   "source": [
    "data = [[20,10,15],[15,25,20]]\n",
    "alpha = 0.05"
   ]
  },
  {
   "cell_type": "code",
   "execution_count": 28,
   "id": "198272ab-98ae-4f33-9923-edd4864328b6",
   "metadata": {},
   "outputs": [],
   "source": [
    "values = stat.chi2_contingency(data)"
   ]
  },
  {
   "cell_type": "code",
   "execution_count": 30,
   "id": "69be2c25-5be1-453c-aa36-97602c47421f",
   "metadata": {},
   "outputs": [],
   "source": [
    "chi_square_test = values[0]\n",
    "p_value = values[1]"
   ]
  },
  {
   "cell_type": "code",
   "execution_count": 31,
   "id": "28056665-e07c-42cb-b25c-a6fa510ea268",
   "metadata": {},
   "outputs": [
    {
     "name": "stdout",
     "output_type": "stream",
     "text": [
      "Failed to reject null hypothesis\n"
     ]
    }
   ],
   "source": [
    "if p_value < alpha:\n",
    "    print(\"Reject null hypothesis\")\n",
    "else:\n",
    "    print(\"Failed to reject null hypothesis\")"
   ]
  },
  {
   "cell_type": "code",
   "execution_count": null,
   "id": "d20ecaaf-3818-47b2-b8e9-be556af1b262",
   "metadata": {},
   "outputs": [],
   "source": [
    "'''\n",
    "Q4. A study of the prevalence of smoking in a population of 500 individuals found that 60 individuals \n",
    "smoked. Use Python to calculate the 95% confidence interval for the true proportion of individuals in the \n",
    "population who smoke.\n",
    "'''"
   ]
  },
  {
   "cell_type": "code",
   "execution_count": 39,
   "id": "db66d63f-b01e-4390-b5b7-ad1597108343",
   "metadata": {},
   "outputs": [],
   "source": [
    "#Ans 4:\n",
    "proportion = 0.12\n",
    "size = 60\n",
    "significance_level = 0.05"
   ]
  },
  {
   "cell_type": "code",
   "execution_count": 40,
   "id": "b599fdbb-579c-4bf4-a901-3eb27d86502a",
   "metadata": {},
   "outputs": [],
   "source": [
    "import scipy.stats as stat\n",
    "import numpy as np"
   ]
  },
  {
   "cell_type": "code",
   "execution_count": 41,
   "id": "1ec9cc7d-6285-44db-abb4-b45757b6aa1c",
   "metadata": {},
   "outputs": [
    {
     "name": "stdout",
     "output_type": "stream",
     "text": [
      "0.04195235392680606\n"
     ]
    }
   ],
   "source": [
    "#Standard error\n",
    "standard_error = np.sqrt((proportion * (1 - proportion)) / size)\n",
    "print(standard_error)"
   ]
  },
  {
   "cell_type": "code",
   "execution_count": 42,
   "id": "173b474a-498b-4c4c-8038-5155042f23ba",
   "metadata": {},
   "outputs": [
    {
     "name": "stdout",
     "output_type": "stream",
     "text": [
      "1.9599639845400545\n"
     ]
    }
   ],
   "source": [
    "#Z value\n",
    "z_value = abs(stat.norm.ppf(0.025))\n",
    "print(z_value)"
   ]
  },
  {
   "cell_type": "code",
   "execution_count": 43,
   "id": "be648941-b84e-4048-8fe5-c5ae8d40f6f5",
   "metadata": {},
   "outputs": [],
   "source": [
    "#Margin of error\n",
    "margin = z_value*standard_error"
   ]
  },
  {
   "cell_type": "code",
   "execution_count": 45,
   "id": "56f501be-266f-4ee7-8b59-a7723bb473d8",
   "metadata": {},
   "outputs": [
    {
     "name": "stdout",
     "output_type": "stream",
     "text": [
      "The upper bound is 60.08222510276322 and lower bound is 59.91777489723678\n"
     ]
    }
   ],
   "source": [
    "#Bounds\n",
    "lower_bound = size - margin\n",
    "upper_bound = size + margin\n",
    "\n",
    "print(f\"The upper bound is {upper_bound} and lower bound is {lower_bound}\")"
   ]
  },
  {
   "cell_type": "code",
   "execution_count": null,
   "id": "d9d0f2f5-f968-40b1-baa1-cc913022a009",
   "metadata": {},
   "outputs": [],
   "source": [
    "'''\n",
    "Q5. Calculate the 90% confidence interval for a sample of data with a mean of 75 and a standard deviation\n",
    "of 12 using Python. Interpret the results.\n",
    "'''"
   ]
  },
  {
   "cell_type": "code",
   "execution_count": 1,
   "id": "75f04474-26f8-4a23-afa4-48584d0fe82a",
   "metadata": {},
   "outputs": [],
   "source": [
    "#Ans 5:\n",
    "import scipy.stats as stat\n",
    "import numpy as np"
   ]
  },
  {
   "cell_type": "code",
   "execution_count": 2,
   "id": "e54a7a63-65ce-49be-96e6-7669c01be95a",
   "metadata": {},
   "outputs": [],
   "source": [
    "sample_mean = 75\n",
    "sample_std = 12\n",
    "significance_level = 0.1"
   ]
  },
  {
   "cell_type": "code",
   "execution_count": 7,
   "id": "a4a2c555-fb45-4c3f-9db9-a7d825f880b8",
   "metadata": {},
   "outputs": [
    {
     "name": "stdout",
     "output_type": "stream",
     "text": [
      "1.6448536269514729\n"
     ]
    }
   ],
   "source": [
    "#Z value\n",
    "z_value = abs(stat.norm.ppf(0.05))\n",
    "print(z_value)"
   ]
  },
  {
   "cell_type": "code",
   "execution_count": 4,
   "id": "edfa42a0-26ec-43b1-b445-08f5fd55fb6f",
   "metadata": {},
   "outputs": [
    {
     "name": "stdout",
     "output_type": "stream",
     "text": [
      "19.738243523417673\n"
     ]
    }
   ],
   "source": [
    "#Margin \n",
    "margin = z_value*sample_std\n",
    "print(margin)"
   ]
  },
  {
   "cell_type": "code",
   "execution_count": 5,
   "id": "07b70fc5-dcec-4762-a66d-569cde9b499f",
   "metadata": {},
   "outputs": [
    {
     "name": "stdout",
     "output_type": "stream",
     "text": [
      "The upper bound is 94.73824352341768 and lower bound is 55.26175647658233\n"
     ]
    }
   ],
   "source": [
    "#Bounds\n",
    "lower_bound = sample_mean - margin\n",
    "upper_bound = sample_mean + margin\n",
    "\n",
    "print(f\"The upper bound is {upper_bound} and lower bound is {lower_bound}\")"
   ]
  },
  {
   "cell_type": "code",
   "execution_count": null,
   "id": "944ac44f-5815-4ac1-83fe-135da85bcd00",
   "metadata": {},
   "outputs": [],
   "source": [
    "'''\n",
    "Q6. Use Python to plot the chi-square distribution with 10 degrees of freedom. Label the axes and shade the\n",
    "area corresponding to a chi-square statistic of 15.\n",
    "'''"
   ]
  },
  {
   "cell_type": "code",
   "execution_count": 1,
   "id": "b4967d7e-fd22-4b2d-846b-51c4eb0c6807",
   "metadata": {},
   "outputs": [
    {
     "data": {
      "image/png": "[encoded data removed]",
      "text/plain": [
       "<Figure size 640x480 with 1 Axes>"
      ]
     },
     "metadata": {},
     "output_type": "display_data"
    }
   ],
   "source": [
    "#Ans 6:\n",
    "import numpy as np\n",
    "import matplotlib.pyplot as plt\n",
    "from scipy.stats import chi2\n",
    "\n",
    "# Set degrees of freedom\n",
    "df = 10\n",
    "\n",
    "# Generate x-values for the plot\n",
    "x = np.linspace(0, 30, 200)\n",
    "\n",
    "# Calculate the probability density function (PDF)\n",
    "pdf = chi2.pdf(x, df)\n",
    "\n",
    "# Create the plot\n",
    "plt.plot(x, pdf, label='Chi-square PDF (df=10)')\n",
    "\n",
    "# Shade the area to the right of x=15\n",
    "plt.fill_between(x[x >= 15], pdf[x >= 15], color='lightblue')\n",
    "\n",
    "# Label the axes and title\n",
    "plt.xlabel('Chi-square statistic')\n",
    "plt.ylabel('Probability density')\n",
    "plt.title('Chi-square Distribution with 10 Degrees of Freedom')\n",
    "\n",
    "# Show the plot\n",
    "plt.show()"
   ]
  },
  {
   "cell_type": "code",
   "execution_count": null,
   "id": "c0d49ae2-6721-4ab3-a908-379a3d2073d8",
   "metadata": {},
   "outputs": [],
   "source": [
    "'''\n",
    "Q7. A random sample of 1000 people was asked if they preferred Coke or Pepsi. Of the sample, 520\n",
    "preferred Coke. Calculate a 99% confidence interval for the true proportion of people in the population who\n",
    "prefer Coke.\n",
    "'''"
   ]
  },
  {
   "cell_type": "code",
   "execution_count": 8,
   "id": "5e894b1f-b6dd-41d0-9727-d18500cd0dc5",
   "metadata": {},
   "outputs": [],
   "source": [
    "#Ans 7:\n",
    "proportion = 0.52\n",
    "size = 520\n",
    "significance_level = 0.01"
   ]
  },
  {
   "cell_type": "code",
   "execution_count": 9,
   "id": "07951d48-4ad5-4a60-8733-981a3420faa1",
   "metadata": {},
   "outputs": [],
   "source": [
    "import scipy.stats as stat\n",
    "import numpy as np"
   ]
  },
  {
   "cell_type": "code",
   "execution_count": 10,
   "id": "e10cb4d4-483a-4109-a35e-eb32b2dda1bd",
   "metadata": {},
   "outputs": [
    {
     "name": "stdout",
     "output_type": "stream",
     "text": [
      "0.021908902300206645\n"
     ]
    }
   ],
   "source": [
    "#Standard error\n",
    "standard_error = np.sqrt((proportion * (1 - proportion)) / size)\n",
    "print(standard_error)"
   ]
  },
  {
   "cell_type": "code",
   "execution_count": 12,
   "id": "7cfbb3a7-add2-4852-aa9d-cdf3c6024a73",
   "metadata": {},
   "outputs": [
    {
     "name": "stdout",
     "output_type": "stream",
     "text": [
      "2.575829303548901\n"
     ]
    }
   ],
   "source": [
    "#Z value\n",
    "z_value = abs(stat.norm.ppf(0.005))\n",
    "print(z_value)"
   ]
  },
  {
   "cell_type": "code",
   "execution_count": 15,
   "id": "fffe4515-bceb-49b7-95dd-b9d600152158",
   "metadata": {},
   "outputs": [
    {
     "name": "stdout",
     "output_type": "stream",
     "text": [
      "0.0564335925534622\n"
     ]
    }
   ],
   "source": [
    "#Margin of error\n",
    "margin = z_value*standard_error\n",
    "print(margin)"
   ]
  },
  {
   "cell_type": "code",
   "execution_count": 14,
   "id": "16afc346-45ed-49d3-a3b1-f20d47d18357",
   "metadata": {},
   "outputs": [
    {
     "name": "stdout",
     "output_type": "stream",
     "text": [
      "The upper bound is 520.0564335925535 and lower bound is 519.9435664074465\n"
     ]
    }
   ],
   "source": [
    "#Bounds\n",
    "lower_bound = size - margin\n",
    "upper_bound = size + margin\n",
    "\n",
    "print(f\"The upper bound is {upper_bound} and lower bound is {lower_bound}\")"
   ]
  },
  {
   "cell_type": "code",
   "execution_count": null,
   "id": "d2dd6d43-d012-4db3-8d20-3f19d506e687",
   "metadata": {},
   "outputs": [],
   "source": [
    "'''\n",
    "Q8. A researcher hypothesizes that a coin is biased towards tails. They flip the coin 100 times and observe\n",
    "45 tails. Conduct a chi-square goodness of fit test to determine if the observed frequencies match the\n",
    "expected frequencies of a fair coin. Use a significance level of 0.05.\n",
    "'''"
   ]
  },
  {
   "cell_type": "code",
   "execution_count": 2,
   "id": "6e07c7c4-568f-44eb-a036-95e5516ae820",
   "metadata": {},
   "outputs": [],
   "source": [
    "#Ans 8:\n",
    "import scipy.stats as stat\n",
    "import numpy as np"
   ]
  },
  {
   "cell_type": "code",
   "execution_count": null,
   "id": "5d34485b-278c-42d9-9538-1b73ba0addb1",
   "metadata": {},
   "outputs": [],
   "source": [
    "'''\n",
    "H0 : The coin is fair\n",
    "H1 : The coin is not fair\n",
    "'''"
   ]
  },
  {
   "cell_type": "code",
   "execution_count": 3,
   "id": "203c5089-017c-4211-985c-aacb7021b7e0",
   "metadata": {},
   "outputs": [],
   "source": [
    "# data = [count of head, count of tail]\n",
    "observed_data = [55,45]\n",
    "expected_data = [50,50]\n",
    "\n",
    "#Significance level\n",
    "alpha = 0.05\n",
    "\n",
    "#Chi Square Test \n",
    "chi_square_test , p_value = stat.chisquare(observed_data,expected_data)"
   ]
  },
  {
   "cell_type": "code",
   "execution_count": 4,
   "id": "e19fe66d-6be8-4999-a1a7-a151c64f1661",
   "metadata": {},
   "outputs": [
    {
     "name": "stdout",
     "output_type": "stream",
     "text": [
      "The chi square test value is 1.0 and the p-value is 0.31731050786291115\n"
     ]
    }
   ],
   "source": [
    "print(f\"The chi square test value is {chi_square_test} and the p-value is {p_value}\")"
   ]
  },
  {
   "cell_type": "code",
   "execution_count": 7,
   "id": "595fcf66-644d-443c-bf8f-d51957b515ec",
   "metadata": {},
   "outputs": [
    {
     "name": "stdout",
     "output_type": "stream",
     "text": [
      "3.841458820694124\n"
     ]
    }
   ],
   "source": [
    "#Chi Square value\n",
    "chi_value = stat.chi2.ppf(1 - alpha,1)\n",
    "print(chi_value)\n",
    "\n",
    "# chi_square_test < chi_value. Hence we failed to reject the null hypothesis."
   ]
  },
  {
   "cell_type": "code",
   "execution_count": 8,
   "id": "4d05b83d-a864-497b-b05d-ea3e528505d8",
   "metadata": {},
   "outputs": [
    {
     "name": "stdout",
     "output_type": "stream",
     "text": [
      "Failed to reject the null hypothesis\n"
     ]
    }
   ],
   "source": [
    "if p_value < alpha:\n",
    "    print(\"Reject the null hypothesis\")\n",
    "else:\n",
    "    print(\"Failed to reject the null hypothesis\")"
   ]
  },
  {
   "cell_type": "code",
   "execution_count": null,
   "id": "e9022d64-46d4-476c-b384-6c1c38baccbd",
   "metadata": {},
   "outputs": [],
   "source": [
    "'''\n",
    "Q9. A study was conducted to determine if there is an association between smoking status (smoker or \n",
    "non-smoker) and lung cancer diagnosis (yes or no). The results are shown in the contingency table below. \n",
    "Conduct a chi-square test for independence to determine if there is a significant association between \n",
    "smoking status and lung cancer diagnosis. Alpha = 0.05\n",
    "'''"
   ]
  },
  {
   "cell_type": "code",
   "execution_count": 16,
   "id": "f7a2f881-e5d9-4d22-99f2-3558ab539328",
   "metadata": {},
   "outputs": [],
   "source": [
    "#Ans 9:\n",
    "import scipy.stats as stat"
   ]
  },
  {
   "cell_type": "code",
   "execution_count": null,
   "id": "3f258f02-0e99-4ad0-a3e2-540b7f259985",
   "metadata": {},
   "outputs": [],
   "source": [
    "'''\n",
    "H0: There is no relation between smoking status and lung cancer diagnosis\n",
    "H1: There is relation between smoking status and lung cancer diagnosis\n",
    "'''"
   ]
  },
  {
   "cell_type": "code",
   "execution_count": 38,
   "id": "e590588b-413b-41e5-ad43-345341a7dc2d",
   "metadata": {},
   "outputs": [],
   "source": [
    "#Contingency test\n",
    "test_detail = stat.chi2_contingency([[60,140],[30,170]])\n",
    "chi_square_test = test_detail[0]\n",
    "p_value = test_detail[1]"
   ]
  },
  {
   "cell_type": "code",
   "execution_count": 39,
   "id": "17e9bc88-dbbf-4702-97ac-1db35601acfe",
   "metadata": {},
   "outputs": [
    {
     "name": "stdout",
     "output_type": "stream",
     "text": [
      "The chi square test value is 12.057347670250895 and the p-value is 0.0005158863863703744\n"
     ]
    }
   ],
   "source": [
    "print(f\"The chi square test value is {chi_square_test} and the p-value is {p_value}\")"
   ]
  },
  {
   "cell_type": "code",
   "execution_count": 35,
   "id": "5f539080-e1b9-46b8-a091-626326a83a31",
   "metadata": {},
   "outputs": [
    {
     "name": "stdout",
     "output_type": "stream",
     "text": [
      "3.841458820694124\n"
     ]
    }
   ],
   "source": [
    "#Significance level\n",
    "alpha = 0.05\n",
    "\n",
    "#Chi Square value\n",
    "chi_value = stat.chi2.ppf(1 - alpha,1)\n",
    "print(chi_value)"
   ]
  },
  {
   "cell_type": "code",
   "execution_count": null,
   "id": "4333b56d-4035-4db4-bfdb-e917ca3b02ce",
   "metadata": {},
   "outputs": [],
   "source": [
    "'''\n",
    "So we can see that the chi_square_test > chi_value. So we have to reject the null hypothesis. It implies that smoking and lung cancer have a relation \n",
    "among each other\n",
    "'''"
   ]
  },
  {
   "cell_type": "code",
   "execution_count": 37,
   "id": "684faa96-f762-4b2c-9be3-4d9c4b3f04f3",
   "metadata": {},
   "outputs": [
    {
     "name": "stdout",
     "output_type": "stream",
     "text": [
      "Reject the null hypothesis\n"
     ]
    }
   ],
   "source": [
    "if p_value < alpha:\n",
    "    print(\"Reject the null hypothesis\")\n",
    "else:\n",
    "    print(\"Failed to reject the null hypothesis\")"
   ]
  },
  {
   "cell_type": "code",
   "execution_count": null,
   "id": "44d416a1-b0b6-42ad-86b2-ffbefebb3f86",
   "metadata": {},
   "outputs": [],
   "source": [
    "'''\n",
    "Q10. A study was conducted to determine if the proportion of people who prefer milk chocolate, dark \n",
    "chocolate, or white chocolate is different in the U.S. versus the U.K. A random sample of 500 people from \n",
    "the U.S. and a random sample of 500 people from the U.K. were surveyed. The results are shown in the \n",
    "contingency table below. Conduct a chi-square test for independence to determine if there is a significant \n",
    "association between chocolate preference and country of origin. Significance level = 0.01\n",
    "'''"
   ]
  },
  {
   "cell_type": "code",
   "execution_count": 40,
   "id": "cb88e613-ebe9-4c40-ba1b-82ff93995bc0",
   "metadata": {},
   "outputs": [],
   "source": [
    "#Ans 10:\n",
    "import scipy.stats as stat"
   ]
  },
  {
   "cell_type": "code",
   "execution_count": null,
   "id": "3a61616c-ca88-4e15-a4d0-d808b31c21d2",
   "metadata": {},
   "outputs": [],
   "source": [
    "'''\n",
    "H0: There is no relation between chocolate preference and country of origin\n",
    "H1: There is relation between chocolate preference and country of origin\n",
    "'''"
   ]
  },
  {
   "cell_type": "code",
   "execution_count": 41,
   "id": "eca688e9-346f-42ae-ab2d-d0b1e496eb92",
   "metadata": {},
   "outputs": [],
   "source": [
    "#Contingency test\n",
    "test_detail = stat.chi2_contingency([[200,150,150],[225,175,100]])\n",
    "chi_square_test = test_detail[0]\n",
    "p_value = test_detail[1]"
   ]
  },
  {
   "cell_type": "code",
   "execution_count": 42,
   "id": "cc45707b-16e8-4acc-9089-a5be3c6ab3aa",
   "metadata": {},
   "outputs": [
    {
     "name": "stdout",
     "output_type": "stream",
     "text": [
      "The chi square test value is 13.393665158371041 and the p-value is 0.0012348168997745918\n"
     ]
    }
   ],
   "source": [
    "print(f\"The chi square test value is {chi_square_test} and the p-value is {p_value}\")"
   ]
  },
  {
   "cell_type": "code",
   "execution_count": 43,
   "id": "ee938a7d-dba6-4a93-ab56-348e52913a7b",
   "metadata": {},
   "outputs": [
    {
     "name": "stdout",
     "output_type": "stream",
     "text": [
      "6.6348966010212145\n"
     ]
    }
   ],
   "source": [
    "#Significance level\n",
    "alpha = 0.01\n",
    "\n",
    "#Chi Square value\n",
    "chi_value = stat.chi2.ppf(1 - alpha,1)\n",
    "print(chi_value)"
   ]
  },
  {
   "cell_type": "code",
   "execution_count": null,
   "id": "3e9dd25f-69c2-4cbd-bc2f-bd7b235aae24",
   "metadata": {},
   "outputs": [],
   "source": [
    "'''\n",
    "So we can see that the chi_square_test > chi_value. So we have to reject the null hypothesis. It implies that chocolate preference and country\n",
    "of origin have a relation among each other\n",
    "'''"
   ]
  },
  {
   "cell_type": "code",
   "execution_count": 44,
   "id": "e797efff-e725-4ee8-ba93-8a598eb7c9d0",
   "metadata": {},
   "outputs": [
    {
     "name": "stdout",
     "output_type": "stream",
     "text": [
      "Reject the null hypothesis\n"
     ]
    }
   ],
   "source": [
    "if p_value < alpha:\n",
    "    print(\"Reject the null hypothesis\")\n",
    "else:\n",
    "    print(\"Failed to reject the null hypothesis\")"
   ]
  },
  {
   "cell_type": "code",
   "execution_count": null,
   "id": "dd1f6b3e-297b-4971-a828-0c37bb6c0162",
   "metadata": {},
   "outputs": [],
   "source": [
    "'''\n",
    "Q11. A random sample of 30 people was selected from a population with an unknown mean and standard \n",
    "deviation. The sample mean was found to be 72 and the sample standard deviation was found to be 10. \n",
    "Conduct a hypothesis test to determine if the population mean is significantly different from 70. Use a \n",
    "significance level of 0.05.\n",
    "'''"
   ]
  },
  {
   "cell_type": "code",
   "execution_count": null,
   "id": "b7373757-c472-4112-bb94-c40646d8ad7c",
   "metadata": {},
   "outputs": [],
   "source": [
    "#Ans 11:\n",
    "'''\n",
    "Here we are going to perform the t-test to perform the hypothesis test as the population standard deviation is unknown.\n",
    "This is going to be two-tail test.\n",
    "\n",
    "H0: The population mean is not significantly different from 70\n",
    "H1: The population mean is significantly different from 70\n",
    "'''"
   ]
  },
  {
   "cell_type": "code",
   "execution_count": 47,
   "id": "72d846db-29d3-4cb6-bb00-9b12ad3ca6a2",
   "metadata": {},
   "outputs": [],
   "source": [
    "import scipy.stats as stat"
   ]
  },
  {
   "cell_type": "code",
   "execution_count": 48,
   "id": "a1f2617e-979b-49d9-bcdc-1f6ae13c585e",
   "metadata": {},
   "outputs": [],
   "source": [
    "sample_mean = 72\n",
    "sample_std = 10\n",
    "sample_size = 30\n",
    "population_mean = 70\n",
    "alpha = 0.05\n",
    "dof = 29"
   ]
  },
  {
   "cell_type": "code",
   "execution_count": 49,
   "id": "44c142ee-f499-4acf-ac69-7629fe04923a",
   "metadata": {},
   "outputs": [
    {
     "name": "stdout",
     "output_type": "stream",
     "text": [
      "After performing the t-test the value is 1.0954451150103321\n"
     ]
    }
   ],
   "source": [
    "#t-test value\n",
    "t_test = (sample_mean - population_mean)/((sample_std)/(sample_size)**0.5)\n",
    "print(f\"After performing the t-test the value is {t_test}\")"
   ]
  },
  {
   "cell_type": "code",
   "execution_count": 54,
   "id": "c4c0d867-4f4e-42e5-b48b-447a90985751",
   "metadata": {},
   "outputs": [
    {
     "name": "stdout",
     "output_type": "stream",
     "text": [
      "2.045229642132703\n"
     ]
    }
   ],
   "source": [
    "#t value\n",
    "t_value = stat.t.ppf(1-(alpha/2),dof)\n",
    "print(t_value)"
   ]
  },
  {
   "cell_type": "code",
   "execution_count": 56,
   "id": "8637781a-decb-45e5-9f10-83d6addadc71",
   "metadata": {},
   "outputs": [
    {
     "name": "stdout",
     "output_type": "stream",
     "text": [
      "0.2823362372860698\n"
     ]
    }
   ],
   "source": [
    "#p_value\n",
    "p_value = 2*(1 - stat.t.cdf(t_test,dof))\n",
    "print(p_value)"
   ]
  },
  {
   "cell_type": "code",
   "execution_count": 57,
   "id": "1c75c3da-e78c-43e9-b3c7-09f1d0ce50b4",
   "metadata": {},
   "outputs": [
    {
     "name": "stdout",
     "output_type": "stream",
     "text": [
      "Failed to reject the null hypothesis\n"
     ]
    }
   ],
   "source": [
    "if p_value < alpha:\n",
    "    print(\"Reject the null hypothesis\")\n",
    "else:\n",
    "    print(\"Failed to reject the null hypothesis\")\n",
    "    \n",
    "'''\n",
    "Also t_test is less than t_value. It lies within the confidence interval. The population mean is not significantly different from 70.\n",
    "'''"
   ]
  },
  {
   "cell_type": "code",
   "execution_count": null,
   "id": "f7c10524-ceb1-40d8-ab2a-def8667e3525",
   "metadata": {},
   "outputs": [],
   "source": []
  }
 ],
 "metadata": {
  "kernelspec": {
   "display_name": "Python 3 (ipykernel)",
   "language": "python",
   "name": "python3"
  },
  "language_info": {
   "codemirror_mode": {
    "name": "ipython",
    "version": 3
   },
   "file_extension": ".py",
   "mimetype": "text/x-python",
   "name": "python",
   "nbconvert_exporter": "python",
   "pygments_lexer": "ipython3",
   "version": "3.10.8"
  }
 },
 "nbformat": 4,
 "nbformat_minor": 5
}
