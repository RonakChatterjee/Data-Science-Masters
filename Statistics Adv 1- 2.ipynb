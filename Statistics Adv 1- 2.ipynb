{
 "cells": [
  {
   "cell_type": "code",
   "execution_count": null,
   "id": "1ef9f3fc-4c82-4ec1-bd62-1eee3614a79d",
   "metadata": {},
   "outputs": [],
   "source": [
    "'''\n",
    "Q1: What are the Probability Mass Function (PMF) and Probability Density Function (PDF)? Explain with \n",
    "an example.\n",
    "'''"
   ]
  },
  {
   "cell_type": "code",
   "execution_count": null,
   "id": "ccaee5f7-9e9f-4d9c-b45a-d5c85ce7a88f",
   "metadata": {},
   "outputs": [],
   "source": [
    "#Ans 1:\n",
    "'''\n",
    "Probability Mass Functions(PMF):-\n",
    "It is used for discrete random variables. It gives the probability that a discrete random variable takes on a specific value. Example: Rolling of \n",
    "a dice. In this example, the PMF provides the probability of each possible outcome when rolling the die.\n",
    "\n",
    "Probability Density Function(PDF):-\n",
    "It is used for continuous random variables. It represents the probability that the variable falls within a particular range. Example: A \n",
    "dataset follwing Standard Normal Distribution.\n",
    "'''"
   ]
  },
  {
   "cell_type": "code",
   "execution_count": null,
   "id": "f39436d8-d139-4a63-958b-e2d9bf427f57",
   "metadata": {},
   "outputs": [],
   "source": [
    "'''\n",
    "Q2: What is Cumulative Density Function (CDF)? Explain with an example. Why CDF is used?\n",
    "'''"
   ]
  },
  {
   "cell_type": "code",
   "execution_count": null,
   "id": "a22b7cf4-33ef-41c6-82cd-39271b69fb63",
   "metadata": {},
   "outputs": [],
   "source": [
    "#Ans 2:\n",
    "'''\n",
    "The Cumulative Density Function (CDF) is a function associated with a probability distribution that provides the probability that a random variable\n",
    "takes on a value less than or equal to a given point.\n",
    "\n",
    "Example: Rolling of a dice. Below are the cdf values.\n",
    "P(x = 1) = 1/6, probability of getting 1.\n",
    "P(x = 2) = 2/6, probability of getting 2.\n",
    "P(x = 3) = 3/6, probability of getting 3.\n",
    "P(x = 4) = 4/6, probability of getting 4.\n",
    "P(x = 5) = 5/6, probability of getting 5.\n",
    "P(x = 6) = 1, probability of getting 6.\n",
    "\n",
    "The used of cdf are:\n",
    "1. Calculation of cumulative probability.\n",
    "2. CDFs provide a visual representation of the cumulative probability distribution, allowing for an intuitive understanding of how probabilities \n",
    "accumulate as x increases.\n",
    "3.CDFs are often used in statistical testing, hypothesis testing, and confidence interval estimation.\n",
    "'''"
   ]
  },
  {
   "cell_type": "code",
   "execution_count": null,
   "id": "a74daf93-5ee2-4363-831c-9fc3939d7ad7",
   "metadata": {},
   "outputs": [],
   "source": [
    "'''\n",
    "Q3: What are some examples of situations where the normal distribution might be used as a model? \n",
    "Explain how the parameters of the normal distribution relate to the shape of the distribution.\n",
    "'''"
   ]
  },
  {
   "cell_type": "code",
   "execution_count": null,
   "id": "a6d1cf87-e06a-4c91-b180-f2da4a9a5f15",
   "metadata": {},
   "outputs": [],
   "source": [
    "#Ans 3:\n",
    "'''\n",
    "The examples where normal distribution can be used as a model are: Heights of adult, IQ Scores, Exam scores etc.\n",
    "\n",
    "The parameters of normal distribution are:\n",
    "1. Mean: The mean determines the central location of the distribution. Shifting the mean to the right or left shifts the entire distribution \n",
    "along the x-axis.\n",
    "\n",
    "2. Standard Deviation: The standard deviation measures the spread or dispersion of the distribution. A larger standard deviation results in a wider \n",
    "and flatter curve, indicating greater variability.\n",
    "\n",
    "3. Shape: The normal distribution is symmetric around the mean. The probability density decreases as you move away from the mean in both directions, \n",
    "forming the characteristic bell-shaped curve.\n",
    "\n",
    "4. Z-Scores: Z-scores (standardized scores) allow for the comparison of values from different normal distributions by expressing them in terms of \n",
    "standard deviations from the mean.\n",
    "'''"
   ]
  },
  {
   "cell_type": "code",
   "execution_count": null,
   "id": "247af806-c348-4b97-904d-62c7a970b813",
   "metadata": {},
   "outputs": [],
   "source": [
    "'''\n",
    "Q4: Explain the importance of Normal Distribution. Give a few real-life examples of Normal \n",
    "Distribution. \n",
    "'''"
   ]
  },
  {
   "cell_type": "code",
   "execution_count": null,
   "id": "5557f647-0ed4-4566-a223-f07f0a14ba6b",
   "metadata": {},
   "outputs": [],
   "source": [
    "#Ans 4:\n",
    "'''\n",
    "Importance of Normal Distribution are:\n",
    "\n",
    "1.Statistical Analysis:\n",
    "Many statistical methods and tests assume that the underlying distribution of data is approximately normal. This simplifies the analysis and allows \n",
    "the use of powerful statistical tools.\n",
    "\n",
    "2.Central Limit Theorem:\n",
    "The Central Limit Theorem states that the distribution of the sum (or average) of a large number of independent, identically distributed random \n",
    "variables approaches a normal distribution, regardless of the original distribution. This is fundamental in inferential statistics.\n",
    "\n",
    "3.Parameter Estimation:\n",
    "In many estimation procedures, the assumption of normality simplifies the calculation of confidence intervals and the construction of hypothesis tests.\n",
    "\n",
    "Few real world examples are: Heights of adult, IQ Scores, Exam scores etc.\n",
    "'''"
   ]
  },
  {
   "cell_type": "code",
   "execution_count": null,
   "id": "9eed8b60-cd4d-4498-a9d2-40403e6442f6",
   "metadata": {},
   "outputs": [],
   "source": [
    "'''\n",
    "Q5: What is Bernaulli Distribution? Give an Example. What is the difference between Bernoulli \n",
    "Distribution and Binomial Distribution?\n",
    "'''"
   ]
  },
  {
   "cell_type": "code",
   "execution_count": null,
   "id": "b3a22025-ce78-4ad3-92fa-21d72306d699",
   "metadata": {},
   "outputs": [],
   "source": [
    "#Ans 5:\n",
    "'''\n",
    "Bernoulli is the discrete probability distribution of a random variable which takes only two values 1 and 0.For 1 the probability is \n",
    "p and for 0 the probability is 1-p. It has binary outcomes. Example: Tossing a coin. Say getting heads is success and for this the\n",
    "probability is represented with p, getting tails is failure for which the probability is 1-p.\n",
    "\n",
    "A binomial distribution can be considered as a combination of multiple bernoulli distributions. Say we are tossing a coin for 1 time gives\n",
    "a bernoulli distribution. But if we do the same for a fixed number of trials and all of them are independent then it gives us a \n",
    "binomial distribution.\n",
    "'''"
   ]
  },
  {
   "cell_type": "code",
   "execution_count": null,
   "id": "bdae463b-8ed7-4a86-9e50-1930f7d5a1fc",
   "metadata": {},
   "outputs": [],
   "source": [
    "'''\n",
    "Q6. Consider a dataset with a mean of 50 and a standard deviation of 10. If we assume that the dataset \n",
    "is normally distributed, what is the probability that a randomly selected observation will be greater \n",
    "than 60? Use the appropriate formula and show your calculations.\n",
    "'''"
   ]
  },
  {
   "cell_type": "code",
   "execution_count": null,
   "id": "324f2d48-e43f-4eb4-97c8-2cb59200db7d",
   "metadata": {},
   "outputs": [],
   "source": [
    "#Ans 6:\n",
    "'''\n",
    "The mean is given to us as 50 and the standard deviation is 10. Now to get the probability that a randomly selected observation will be greater than\n",
    "60, we need to find the area under the curve. For this we will use z-score.\n",
    "\n",
    "Here the Z-score = (60 - 50)/10 = 1.\n",
    "\n",
    "From the Z table we get the area of the left side is 0.84134. So the remaining area is 1 - 0.84134 = 0.15866.\n",
    "\n",
    "Therefore the the probability that a randomly selected observation will be greater than 60 is 0.15866 or 15.87%.\n",
    "'''"
   ]
  },
  {
   "cell_type": "code",
   "execution_count": null,
   "id": "826ebb4b-2c1f-4a13-95a0-e6ad9116a17b",
   "metadata": {},
   "outputs": [],
   "source": [
    "'''\n",
    "Q7: Explain uniform Distribution with an example.\n",
    "'''"
   ]
  },
  {
   "cell_type": "code",
   "execution_count": null,
   "id": "c47ffe9a-07ae-4a45-909e-3d086a0a3f1f",
   "metadata": {},
   "outputs": [],
   "source": [
    "#Ans 7:\n",
    "'''\n",
    "The Uniform Distribution is a probability distribution where all possible outcomes are equally likely. In other words, each value in the range of \n",
    "the distribution has the same probability of occurring. There are two types of Uniform Distribution.\n",
    "\n",
    "1.Continuous Uniform Distribution:\n",
    "This Distribution is a family of symmetric probability distribution. The arbitrary outcome of an experiment lies within a certain bound. The pdf\n",
    "value in the range of (a,b) or [a,b] is 1/(b-a).\n",
    "Example: Number of candies sold in a shop uniformly distributed with minimum 10 and maximum 40 chocolates.\n",
    "\n",
    "2.Discrete Uniform Distribution:\n",
    "Here every one of n value has a equal probability of 1/n. In this distribution a known finite number of outcomes equally likely to happen.\n",
    "Example: Rolling a dice.\n",
    "'''"
   ]
  },
  {
   "cell_type": "code",
   "execution_count": null,
   "id": "7d317e74-5dae-4cc0-90d3-f836da2582df",
   "metadata": {},
   "outputs": [],
   "source": [
    "'''\n",
    "Q8: What is the z score? State the importance of the z score.\n",
    "'''"
   ]
  },
  {
   "cell_type": "code",
   "execution_count": null,
   "id": "a5c8ef5b-b902-4c63-956c-67833345d352",
   "metadata": {},
   "outputs": [],
   "source": [
    "#Ans 8:\n",
    "'''\n",
    "Z-Score is a statistical measure which helps us to identify how far is the value in the dataset away from mean in terms of standard deviation.\n",
    "Example: Say mean is 10 and standard deviation is 5. Then we have to find how far is 13 from mean.\n",
    "\n",
    "So Z score = (13 - 10)/5 = 0.6. It means that 13 is 0.6 deviation away from mean towards right in positive direction.\n",
    "\n",
    "The applications of Z-score are:\n",
    "1.Used in Standardization.\n",
    "2.Used to find area under the curve.\n",
    "3.Helps in comparing data points.\n",
    "'''"
   ]
  },
  {
   "cell_type": "code",
   "execution_count": null,
   "id": "196d964c-9d00-4a71-8dec-543202cd6aeb",
   "metadata": {},
   "outputs": [],
   "source": [
    "'''\n",
    "Q9: What is Central Limit Theorem? State the significance of the Central Limit Theorem.\n",
    "'''"
   ]
  },
  {
   "cell_type": "code",
   "execution_count": null,
   "id": "ab1d3443-3e69-4224-879f-eb0b2fb83763",
   "metadata": {},
   "outputs": [],
   "source": [
    "#Ans 9:\n",
    "'''\n",
    "The Central limit theorem relies on the concept of a sampling distribution which is the probability distribution of a statistic for a large number of\n",
    "samples taken from a population.\n",
    "\n",
    "The Central limit theorem states that the sampling distribution of the mean will always be a Normal Distribution as long as the sample is large enough.\n",
    "Regardless of whether the population has a normal, poisson, binomial or any other distribution, the sampling distribution of mean wll always be \n",
    "a normal distribution.\n",
    "\n",
    "Significance:\n",
    "A population has a huge size. Now collecting data of all the population is not possible. So if we collect data of various samples with n > 30,\n",
    "and populate the normal distrbution of the means of the samples, then we will get the mean value approximately equal to that of poupulation.\n",
    "'''"
   ]
  },
  {
   "cell_type": "code",
   "execution_count": null,
   "id": "ef216ca1-df85-48a8-9aee-38d3ab8dafb9",
   "metadata": {},
   "outputs": [],
   "source": [
    "'''\n",
    "Q10: State the assumptions of the Central Limit Theorem.\n",
    "'''"
   ]
  },
  {
   "cell_type": "code",
   "execution_count": null,
   "id": "02f51d9a-338c-435c-a0e9-79693c146dee",
   "metadata": {},
   "outputs": [],
   "source": [
    "#Ans 10:\n",
    "'''\n",
    "The assumptions are:\n",
    "\n",
    "1.The data must adhere to the randomization rule. It needs to be sampled at random. The samples should be unrelated to one another. One sample should \n",
    "not impact the others.\n",
    "\n",
    "2.The sample size should be greater than 30.\n",
    "'''"
   ]
  },
  {
   "cell_type": "code",
   "execution_count": null,
   "id": "63eb9714-7260-49bf-b218-fb667ff1abd0",
   "metadata": {},
   "outputs": [],
   "source": []
  }
 ],
 "metadata": {
  "kernelspec": {
   "display_name": "Python 3 (ipykernel)",
   "language": "python",
   "name": "python3"
  },
  "language_info": {
   "codemirror_mode": {
    "name": "ipython",
    "version": 3
   },
   "file_extension": ".py",
   "mimetype": "text/x-python",
   "name": "python",
   "nbconvert_exporter": "python",
   "pygments_lexer": "ipython3",
   "version": "3.10.8"
  }
 },
 "nbformat": 4,
 "nbformat_minor": 5
}
