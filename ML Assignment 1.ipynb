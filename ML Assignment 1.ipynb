{
 "cells": [
  {
   "cell_type": "code",
   "execution_count": null,
   "id": "cc5cfc62-92bc-4090-8998-317a879d9a3c",
   "metadata": {},
   "outputs": [],
   "source": [
    "'''\n",
    "Q1. Explain the following with an example:\n",
    "1.Artificial Intelligence.\n",
    "2.Machine Learning\n",
    "3.Deep learning\n",
    "'''"
   ]
  },
  {
   "cell_type": "code",
   "execution_count": null,
   "id": "632955dd-9e1b-47b1-aa07-2f39895244ed",
   "metadata": {},
   "outputs": [],
   "source": [
    "#Ans 1:\n",
    "'''\n",
    "1.Artificial intelligence: It is a smart application that can perform it's own task without any human intervention. Example: Self driving car.\n",
    "\n",
    "2.Machine learning: It provides us statstools to learn,analyze,visualizeand develop predictive models from the data.\n",
    "\n",
    "3.Deep Learning: It helps us to write a program that can mimic human brain.\n",
    "'''"
   ]
  },
  {
   "cell_type": "code",
   "execution_count": null,
   "id": "c8583615-ffe7-42cc-98fe-3b18d870cef8",
   "metadata": {},
   "outputs": [],
   "source": [
    "'''\n",
    "Q2. What is supervised machine learning? List some examples of supervised learning.\n",
    "'''"
   ]
  },
  {
   "cell_type": "code",
   "execution_count": null,
   "id": "8aac90f2-7227-43d4-a903-f238edec62a1",
   "metadata": {},
   "outputs": [],
   "source": [
    "#Ans 2:\n",
    "'''\n",
    "In supervised machine learning our dataset has independent and dependent features. We train our models with the input and output variables so that it\n",
    "can predict the output whenever a new input is provided. It is of two types:\n",
    "--> Classification: Here the output feature is a categorical feature\n",
    "--> Regression: Here the output feature is a continuous feature.\n",
    "\n",
    "Example:\n",
    "Based on the play hours and study hours we have to predict if a student will pass the exam or not.\n",
    "Based on the data we have to predict if a person is diagnosed with diabetes.\n",
    "'''"
   ]
  },
  {
   "cell_type": "code",
   "execution_count": null,
   "id": "b0da7d2b-bd68-47dc-8af2-f64a6d070cca",
   "metadata": {},
   "outputs": [],
   "source": [
    "'''\n",
    "Q3. What is unsupervised machine learning? List some examples of unsupervised learning.\n",
    "'''"
   ]
  },
  {
   "cell_type": "code",
   "execution_count": null,
   "id": "436d8d12-7485-456c-bcb3-9122b20c8621",
   "metadata": {},
   "outputs": [],
   "source": [
    "#Ans 3:\n",
    "'''\n",
    "In unsupervised machine learning from the dataset we create cluster/groups.\n",
    "\n",
    "Example:\n",
    "Based on the salary and expenditure of an individual in a shopping mall we create various groups.\n",
    "'''"
   ]
  },
  {
   "cell_type": "code",
   "execution_count": null,
   "id": "440bc05b-3d55-463f-8608-9a68a0770f87",
   "metadata": {},
   "outputs": [],
   "source": [
    "'''\n",
    "Q4. What is the difference between AI,ML,DL and DS?\n",
    "'''"
   ]
  },
  {
   "cell_type": "code",
   "execution_count": null,
   "id": "743d66e3-1ea6-4eb2-aed1-1248d93cd23f",
   "metadata": {},
   "outputs": [],
   "source": [
    "#Ans 4:\n",
    "'''\n",
    "1.Artificial intelligence: It is a smart application that can perform it's own task without any human intervention. Example: Self driving car.\n",
    "\n",
    "2.Machine learning: It provides us statstools to learn,analyze,visualizeand develop predictive models from the data.\n",
    "\n",
    "3.Deep Learning: It helps us to write a program that can mimic human brain.\n",
    "\n",
    "4.Data Science: It consists of AI, ML and DL included together.\n",
    "'''"
   ]
  },
  {
   "cell_type": "code",
   "execution_count": null,
   "id": "74035bbe-4ef7-4393-adea-5e4c65c6f930",
   "metadata": {},
   "outputs": [],
   "source": [
    "'''\n",
    "Q5. What are the main difference between supervised, unsupervised and semi-supervised learning.\n",
    "'''"
   ]
  },
  {
   "cell_type": "code",
   "execution_count": null,
   "id": "947376b7-3ac5-4167-83b0-a7fad69cb4ff",
   "metadata": {},
   "outputs": [],
   "source": [
    "#Ans 5:\n",
    "'''\n",
    "# SUPERVISED MACHINE LEARNING\n",
    "In supervised machine learning our dataset has independent and dependent features. We train our models with the input and output variables so that it\n",
    "can predict the output whenever a new input is provided. It is of two types:\n",
    "--> Classification: Here the output feature is a categorical feature\n",
    "--> Regression: Here the output feature is a continuous feature.\n",
    "\n",
    "# UNSUPERVISED MACHINE LEARNING\n",
    "In unsupervised machine learning from the dataset we create cluster/groups.\n",
    "\n",
    "#SEMI-SUPERVISED MACHINE LEARNING\n",
    "It is the combination of both supervised and unsupervised machine learning.\n",
    "'''"
   ]
  },
  {
   "cell_type": "code",
   "execution_count": null,
   "id": "b7709642-9978-4cfc-be9a-3068789ac6a1",
   "metadata": {},
   "outputs": [],
   "source": [
    "'''\n",
    "Q6. What is train, test and validation split? Explain the importance of each term.\n",
    "'''"
   ]
  },
  {
   "cell_type": "code",
   "execution_count": null,
   "id": "35b61f59-d7d3-495f-99c1-451f17181fb3",
   "metadata": {},
   "outputs": [],
   "source": [
    "#Ans 6:\n",
    "'''\n",
    "Whenever we get a dataset we split it to train, validation and test dataset.\n",
    "\n",
    "Train Dataset: It is used to train out machine learning model.\n",
    "\n",
    "Validation Dataset: It is used for hyper parameter tuning. It basically helps to increase the accuracy of our machine learning model.\n",
    "\n",
    "Test Dataset: We use this to test our machine learning model and check it's accuracy.\n",
    "'''"
   ]
  },
  {
   "cell_type": "code",
   "execution_count": null,
   "id": "e4c7f5b4-b1a7-4218-8738-b83e602648f5",
   "metadata": {},
   "outputs": [],
   "source": [
    "'''\n",
    "Q7. How can unsupervised machine learning used in anomaly detection.\n",
    "'''"
   ]
  },
  {
   "cell_type": "code",
   "execution_count": null,
   "id": "32147d89-ff09-4e4f-90f3-a7ac57446e2a",
   "metadata": {},
   "outputs": [],
   "source": [
    "#Ans 7:\n",
    "'''\n",
    "Unsupervised ML for anomaly detection works like a watchful detective without labels. It scans data for strange patterns and outliers, perfect for \n",
    "when you lack labelled anomalies or their definition is vague. Think clustering, isolation forests, and other techniques that find what doesn't fit \n",
    "the \"normal\" crowd. No labels needed, just surprising patterns revealed.\n",
    "'''"
   ]
  },
  {
   "cell_type": "code",
   "execution_count": null,
   "id": "d44251fd-f457-486b-a6d1-103a32e5222b",
   "metadata": {},
   "outputs": [],
   "source": [
    "'''\n",
    "Q8. List down some commonly used supervised learning algorithms and unsupervised learning algorithms.\n",
    "'''"
   ]
  },
  {
   "cell_type": "code",
   "execution_count": null,
   "id": "458957fc-f96b-4f6e-9c17-fcfc0f037c56",
   "metadata": {},
   "outputs": [],
   "source": [
    "#Ans 8:\n",
    "'''\n",
    "Supervised Learning:\n",
    "\n",
    "->Classification:\n",
    "1.Logistic Regression\n",
    "2.Support Vector Machines (SVM)\n",
    "3.Decision Trees\n",
    "4.Random Forest\n",
    "5.K-Nearest Neighbors (KNN)\n",
    "6.Naive Bayes\n",
    "\n",
    "->Regression:\n",
    "1.Linear Regression\n",
    "2.Gradient Boosting\n",
    "3.Neural Networks\n",
    "\n",
    "Unsupervised Learning:\n",
    "\n",
    "->Clustering:\n",
    "1.K-means Clustering\n",
    "2.Hierarchical Clustering\n",
    "3.DBSCAN\n",
    "\n",
    "->Dimensionality Reduction:\n",
    "1.Principal Component Analysis (PCA)\n",
    "2.t-SNE\n",
    "\n",
    "->Anomaly Detection:\n",
    "1.One-Class Support Vector Machines (OCSVM)\n",
    "2.Isolation Forest\n",
    "3.Local Outlier Factor (LOF)\n",
    "'''"
   ]
  },
  {
   "cell_type": "code",
   "execution_count": null,
   "id": "6391d6c3-82db-41ad-8954-a1751bd3ec08",
   "metadata": {},
   "outputs": [],
   "source": []
  }
 ],
 "metadata": {
  "kernelspec": {
   "display_name": "Python 3 (ipykernel)",
   "language": "python",
   "name": "python3"
  },
  "language_info": {
   "codemirror_mode": {
    "name": "ipython",
    "version": 3
   },
   "file_extension": ".py",
   "mimetype": "text/x-python",
   "name": "python",
   "nbconvert_exporter": "python",
   "pygments_lexer": "ipython3",
   "version": "3.10.8"
  }
 },
 "nbformat": 4,
 "nbformat_minor": 5
}
