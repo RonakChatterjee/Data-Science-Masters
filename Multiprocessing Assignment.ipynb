{
 "cells": [
  {
   "cell_type": "code",
   "execution_count": null,
   "id": "1edc01cf-13da-494f-81fc-6d91db1b473a",
   "metadata": {},
   "outputs": [],
   "source": [
    "\"\"\"\n",
    "Q1. What is multiprocessing in python? Why is it useful?\n",
    "\"\"\""
   ]
  },
  {
   "cell_type": "code",
   "execution_count": null,
   "id": "22180bff-9ae3-4438-8b06-f97c928fda33",
   "metadata": {},
   "outputs": [],
   "source": [
    "#Ans1:\n",
    "\"\"\"\n",
    "Multiprocessing in Python refers to the ability of a program to execute multiple processes concurrently, where each process runs independently and \n",
    "has its own memory space. It allows for true parallelism by utilizing multiple CPU cores or processors to perform tasks simultaneously.\n",
    "\n",
    "It is useful because unlike multithreading, multiprocessing in Python can bypass the Global Interpreter Lock (GIL) limitation, which restricts true \n",
    "parallel execution of threads in Python for CPU-bound tasks. Each process has its own Python interpreter and memory space, enabling multiple CPU cores\n",
    "to execute Python bytecode simultaneously.\n",
    "\"\"\""
   ]
  },
  {
   "cell_type": "code",
   "execution_count": null,
   "id": "5317e50f-d745-498c-ab39-4bcd17436486",
   "metadata": {},
   "outputs": [],
   "source": [
    "\"\"\"\n",
    "Q2. What are the differences between multiprocessing and multithreading?\n",
    "\"\"\""
   ]
  },
  {
   "cell_type": "code",
   "execution_count": null,
   "id": "e64989cd-0d0b-439a-a38d-2a24ba707f3d",
   "metadata": {},
   "outputs": [],
   "source": [
    "#Ans 2:\n",
    "\"\"\"\n",
    "Multithreading refers to the ability of a processor to execute multiple threads concurrently, where each thread runs a process. \n",
    "Whereas Multiprocessing refers to the ability of a system to run multiple processors in parallel, where each processor can run one or more threads\n",
    "\n",
    "In multithreading, multiple threads share the same code, data, and files but run on a different register and stack. \n",
    "Multiprocessing multiplies a single processor replicating the code, data, and files, which incurs more overhead.\n",
    "\n",
    "Multithreading is useful for IO-bound processes, such as reading files from a network or database since each thread can run the IO-bound process \n",
    "concurrently. \n",
    "Multiprocessing is useful for CPU-bound processes, such as computationally heavy tasks since it will benefit from having multiple processors; \n",
    "similar to how multicore computers work faster than computers with a single core.\n",
    "\n",
    "\"\"\""
   ]
  },
  {
   "cell_type": "code",
   "execution_count": null,
   "id": "9b092446-0d9d-4a11-8bf2-b545dadd1997",
   "metadata": {},
   "outputs": [],
   "source": [
    "\"\"\"\n",
    "Q3. Write a python code to create a process using the multiprocessing module.\n",
    "\"\"\""
   ]
  },
  {
   "cell_type": "code",
   "execution_count": 6,
   "id": "5538a803-dba7-4797-9016-151ab85c24e1",
   "metadata": {},
   "outputs": [
    {
     "name": "stdout",
     "output_type": "stream",
     "text": [
      "Hi sudh\n",
      "Hi krish\n"
     ]
    }
   ],
   "source": [
    "#Ans 3:\n",
    "import multiprocessing\n",
    "\n",
    "def print_name(x):\n",
    "    print(f\"Hi {x}\")\n",
    "\n",
    "if __name__ == \"__main__\":    \n",
    "    m1 = multiprocessing.Process(target=print_name , args=(\"sudh\",)) \n",
    "    m2 = multiprocessing.Process(target=print_name , args=(\"krish\",)) \n",
    "\n",
    "    m1.start()\n",
    "    m2.start()\n",
    "\n",
    "    m1.join()\n",
    "    m2.join() \n"
   ]
  },
  {
   "cell_type": "code",
   "execution_count": null,
   "id": "3d645ef9-5ef5-440e-a8e0-10ac4bd40088",
   "metadata": {},
   "outputs": [],
   "source": [
    "\"\"\"\n",
    "Q4. What is a multiprocessing pool in python? Why is it used?\n",
    "\"\"\""
   ]
  },
  {
   "cell_type": "code",
   "execution_count": null,
   "id": "c48098c1-3499-4503-9611-223145ca9965",
   "metadata": {},
   "outputs": [],
   "source": [
    "#Ans 4:\n",
    "\"\"\"\n",
    "\n",
    "In Python, a multiprocessing pool refers to a collection of worker processes that are created to perform tasks in parallel. The multiprocessing.Pool \n",
    "class in the multiprocessing module provides a convenient way to create and manage a pool of worker processes.\n",
    "\n",
    "It is used because:\n",
    "\n",
    "1.The multiprocessing.Pool class allows you to specify the number of worker processes to create. Each worker process operates independently \n",
    "and can execute tasks in parallel.\n",
    "\n",
    "2.You can submit tasks to the pool using methods like apply(), map(), or imap(). These methods distribute the tasks among the available worker\n",
    "processes in the pool.\n",
    "\n",
    "3.The worker processes execute the tasks concurrently, utilizing multiple CPU cores or processors to achieve parallelism.\n",
    "\n",
    "4.Once the tasks are completed, the results can be collected and retrieved from the pool.\n",
    "\"\"\""
   ]
  },
  {
   "cell_type": "code",
   "execution_count": null,
   "id": "3a1b6070-f62b-4fe8-9823-ede949e7f906",
   "metadata": {},
   "outputs": [],
   "source": [
    "\"\"\"\n",
    "Q5. How can we create a pool of worker processes in python using the multiprocessing module?\n",
    "\"\"\""
   ]
  },
  {
   "cell_type": "code",
   "execution_count": null,
   "id": "8c5a5233-5298-4506-b32a-1b992bd45805",
   "metadata": {},
   "outputs": [],
   "source": [
    "#Ans 5:\n",
    "\"\"\"\n",
    "We create a pool using the multiprocessing.Pool class and use methods like apply(), map(), or imap(). These methods distribute the tasks among the \n",
    "available worker processes in the pool\n",
    "\n",
    "Below is an example:\n",
    "\"\"\""
   ]
  },
  {
   "cell_type": "code",
   "execution_count": 9,
   "id": "ed9bda19-a275-47fc-88d9-16519b4aaecf",
   "metadata": {},
   "outputs": [
    {
     "name": "stdout",
     "output_type": "stream",
     "text": [
      "['a', 'b', 'c', 'd']\n"
     ]
    }
   ],
   "source": [
    "import multiprocessing\n",
    "\n",
    "def random_int(a):\n",
    "    return a\n",
    "\n",
    "if __name__ == \"__main__\":\n",
    "    with multiprocessing.Pool(processes=4) as m:\n",
    "        out = m.map(random_int, ['a','b','c','d'])\n",
    "        print(out)"
   ]
  },
  {
   "cell_type": "code",
   "execution_count": null,
   "id": "44eb40d1-59b7-4ec2-abb3-167a47107652",
   "metadata": {},
   "outputs": [],
   "source": [
    "\"\"\"\n",
    "Q6. Write a python program to create 4 processes, each process should print a different number using the \n",
    "multiprocessing module in python\n",
    "\"\"\""
   ]
  },
  {
   "cell_type": "code",
   "execution_count": 3,
   "id": "59d16246-3c63-4630-bb5b-e8a8d766f736",
   "metadata": {},
   "outputs": [
    {
     "name": "stdout",
     "output_type": "stream",
     "text": [
      "[68, 54, 2, 98]\n"
     ]
    }
   ],
   "source": [
    "#Method 1:\n",
    "import random\n",
    "import multiprocessing\n",
    "\n",
    "def random_int(a):\n",
    "    i = random.randint(1,100)\n",
    "    return i\n",
    "\n",
    "if __name__ == \"__main__\":\n",
    "    with multiprocessing.Pool(processes=4) as m:\n",
    "        out = m.map(random_int, [1,2,3,4])\n",
    "        print(out)"
   ]
  },
  {
   "cell_type": "code",
   "execution_count": 5,
   "id": "4bebf855-d7ad-404c-ae09-e7cf1084fe72",
   "metadata": {},
   "outputs": [
    {
     "name": "stdout",
     "output_type": "stream",
     "text": [
      "44\n",
      "84\n",
      "84\n",
      "26\n"
     ]
    }
   ],
   "source": [
    "#Method 2:\n",
    "import random\n",
    "import multiprocessing\n",
    "\n",
    "def random_int():\n",
    "    i = random.randint(1,100)\n",
    "    print(i)\n",
    "\n",
    "if __name__ == \"__main__\":\n",
    "    m1 = multiprocessing.Process(target = random_int)\n",
    "    m2 = multiprocessing.Process(target = random_int)\n",
    "    m3 = multiprocessing.Process(target = random_int)\n",
    "    m4 = multiprocessing.Process(target = random_int)\n",
    "\n",
    "    m1.start()\n",
    "    m2.start()\n",
    "    m3.start()\n",
    "    m4.start()\n",
    "\n",
    "    m1.join()\n",
    "    m2.join()\n",
    "    m3.join()\n",
    "    m4.join()"
   ]
  }
 ],
 "metadata": {
  "kernelspec": {
   "display_name": "Python 3 (ipykernel)",
   "language": "python",
   "name": "python3"
  },
  "language_info": {
   "codemirror_mode": {
    "name": "ipython",
    "version": 3
   },
   "file_extension": ".py",
   "mimetype": "text/x-python",
   "name": "python",
   "nbconvert_exporter": "python",
   "pygments_lexer": "ipython3",
   "version": "3.10.8"
  }
 },
 "nbformat": 4,
 "nbformat_minor": 5
}
