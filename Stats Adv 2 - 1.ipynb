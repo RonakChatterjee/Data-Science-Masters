{
 "cells": [
  {
   "cell_type": "code",
   "execution_count": null,
   "id": "b8280115-3c44-4064-89fe-4cf9921671cd",
   "metadata": {},
   "outputs": [],
   "source": [
    "'''\n",
    "Q1: What is the difference between a t-test and a z-test? Provide an example scenario where you would\n",
    "use each type of test.\n",
    "'''"
   ]
  },
  {
   "cell_type": "code",
   "execution_count": null,
   "id": "3d22d079-f8b5-4c48-ba3c-60597d0977dd",
   "metadata": {},
   "outputs": [],
   "source": [
    "#Ans 1:\n",
    "'''\n",
    "Z-Test: It is used when population standard deviation is provided to us and the sample size is large.\n",
    "\n",
    "t-test: It is used when population standard deviation is not provided to us. Instead we have sample standard deviation and the size\n",
    "of the population is not large enough.\n",
    "\n",
    "Both the tests help us to get an idea of the population mean based on the sample mean. It can be verified through hypothesis test.\n",
    "'''"
   ]
  },
  {
   "cell_type": "code",
   "execution_count": null,
   "id": "ec7ab8c8-74d7-4ffd-b104-ad4aba9d7dd4",
   "metadata": {},
   "outputs": [],
   "source": [
    "'''\n",
    "Q2: Differentiate between one-tailed and two-tailed tests.\n",
    "'''"
   ]
  },
  {
   "cell_type": "code",
   "execution_count": null,
   "id": "4220fada-c62a-41f1-9471-4f9072acf548",
   "metadata": {},
   "outputs": [],
   "source": [
    "#Ans 2:\n",
    "'''\n",
    "One-tail test: We do this when we have to do the hypothesis testing to check whether the mean of sample data is greater or lesser than \n",
    "the hypothesized mean. If we have to do a hypothesis testing of less than the hypothesized mean then it is a left tail test.\n",
    "If we have to do a hypothesis testing of greater than the hypothesized mean then it is a right tail test.\n",
    "\n",
    "Two-tail test: When we are not sure about whether the sample mean is greater or less than the hypothesized mean, in that case we do a \n",
    "two tail test.\n",
    "'''"
   ]
  },
  {
   "cell_type": "code",
   "execution_count": null,
   "id": "71d82f71-f159-4b8b-8d25-35d8dc0f8291",
   "metadata": {},
   "outputs": [],
   "source": [
    "'''\n",
    "Q3: Explain the concept of Type 1 and Type 2 errors in hypothesis testing. Provide an example scenario for\n",
    "each type of error.\n",
    "'''"
   ]
  },
  {
   "cell_type": "code",
   "execution_count": null,
   "id": "2c88a877-02c1-429d-8452-6bb6772de94c",
   "metadata": {},
   "outputs": [],
   "source": [
    "#Ans 3:\n",
    "'''\n",
    "Type I error: This type of error occurs when we reject the null hypothesis when it is actually true.\n",
    "Example-- Say a null hypothesis states a person is not guilty which is true. But we reject it, hence the person is punished.\n",
    "\n",
    "Type II error: This type of error occurs when we accept the null hypothesis when it is actually false.\n",
    "Example-- Say a null hypothesis states a medication has impact on headache which is false. But we accept and it can have adverse \n",
    "effect on a person health.\n",
    "'''"
   ]
  },
  {
   "cell_type": "code",
   "execution_count": null,
   "id": "15eacc43-c69e-4a50-a149-4f21d6943a35",
   "metadata": {},
   "outputs": [],
   "source": [
    "'''\n",
    "Q4: Explain Bayes's theorem with an example.\n",
    "'''"
   ]
  },
  {
   "cell_type": "code",
   "execution_count": null,
   "id": "d6c0ac80-51b5-48c5-b640-2e3525bcebaa",
   "metadata": {},
   "outputs": [],
   "source": [
    "#Ans 4:\n",
    "'''\n",
    "Bayes’ theorem describes the probability of occurrence of an event related to any condition. It is also considered for the case of \n",
    "conditional probability. Bayes theorem is also known as the formula for the probability of “causes”. For example: if we have to \n",
    "calculate the probability of taking a blue ball from the second bag out of three different bags of balls, where each bag contains \n",
    "three different colour balls viz. red, blue, black. In this case, the probability of occurrence of an event is calculated depending \n",
    "on other conditions is known as conditional probability. \n",
    "'''"
   ]
  },
  {
   "cell_type": "code",
   "execution_count": null,
   "id": "11466868-b68f-40c4-9187-2221d47596aa",
   "metadata": {},
   "outputs": [],
   "source": [
    "'''\n",
    "Q5: What is a confidence interval? How to calculate the confidence interval, explain with an example.\n",
    "'''"
   ]
  },
  {
   "cell_type": "code",
   "execution_count": null,
   "id": "9907aec7-ebb8-4b6a-ad0d-dfc2505287c4",
   "metadata": {},
   "outputs": [],
   "source": [
    "#Ans 5:\n",
    "'''\n",
    "A confidence interval, in statistics, refers to the probability that a population parameter will fall between two set values.\n",
    "\n",
    "To obtain this confidence interval, add and subtract the margin of error from the sample mean. \n",
    "\n",
    "The example is as follows:\n",
    "'''"
   ]
  },
  {
   "cell_type": "code",
   "execution_count": 6,
   "id": "e7a36684-a601-47c1-a418-f8d53e100cde",
   "metadata": {},
   "outputs": [],
   "source": [
    "import scipy.stats as stat\n",
    "import math\n",
    "\n",
    "def estimate_population_mean(sample_mean,sample_std,sample_size,alpha):\n",
    "    degree_of_freedom = sample_size - 1\n",
    "    t_critical = abs(stat.t.ppf(alpha/2, degree_of_freedom))\n",
    "    \n",
    "    margin_of_error = (t_critical)*(sample_std/math.sqrt(sample_size))\n",
    "    \n",
    "    lower_bound = sample_mean - margin_of_error\n",
    "    upper_bound = sample_mean + margin_of_error\n",
    "    \n",
    "    return (lower_bound,upper_bound)"
   ]
  },
  {
   "cell_type": "code",
   "execution_count": 7,
   "id": "b1b5b001-b769-427a-8697-a65e410f08ca",
   "metadata": {},
   "outputs": [
    {
     "data": {
      "text/plain": [
       "(18.5063754529676, 21.4936245470324)"
      ]
     },
     "execution_count": 7,
     "metadata": {},
     "output_type": "execute_result"
    }
   ],
   "source": [
    "estimate_population_mean(20,4,30,0.05)"
   ]
  },
  {
   "cell_type": "code",
   "execution_count": null,
   "id": "439673e3-4841-4f84-b003-30907150cdb6",
   "metadata": {},
   "outputs": [],
   "source": [
    "'''\n",
    "So the confidence interval is between 18.5 and 21.5. Any value ouside this will not be considered.\n",
    "From the alpha value(significance level) which is 0.05 or 5% we get the confidence interval as 0.95 or 95%\n",
    "'''"
   ]
  },
  {
   "cell_type": "code",
   "execution_count": null,
   "id": "b08e920c-4e16-483a-8dd7-2201d455d792",
   "metadata": {},
   "outputs": [],
   "source": [
    "'''\n",
    "Q6. Use Bayes' Theorem to calculate the probability of an event occurring given prior knowledge of the\n",
    "event's probability and new evidence. Provide a sample problem and solution.\n",
    "'''"
   ]
  },
  {
   "cell_type": "code",
   "execution_count": null,
   "id": "1bf8b954-6e87-44cd-a638-aaf693d8ff47",
   "metadata": {},
   "outputs": [],
   "source": [
    "#Ans 6:\n",
    "'''\n",
    "Bayes' Theorem provides a powerful way to update our beliefs about an event based on new evidence. Let's illustrate this with a sample problem:\n",
    "\n",
    "Problem:\n",
    "\n",
    "Imagine you're a doctor diagnosing a patient with symptoms that could be caused by two equally likely diseases, Disease A and Disease B. Both diseases \n",
    "have characteristic blood tests, with:\n",
    "\n",
    "Positive test for Disease A: 90% chance if the patient has the disease, 10% chance if they don't.\n",
    "Positive test for Disease B: 80% chance if the patient has the disease, 20% chance if they don't.\n",
    "\n",
    "The patient tests positive for one of the diseases. We want to know the probability that the patient actually has Disease A, given this positive test \n",
    "result.\n",
    "\n",
    "Solution:\n",
    "\n",
    "We can use Bayes' Theorem to solve this:\n",
    "\n",
    "P(A | B) = (P(B | A) * P(A)) / (P(B | A) * P(A) + P(B | B) * P(B))\n",
    "Where:\n",
    "\n",
    "P(A | B): Probability of having Disease A (A) given a positive test (B)\n",
    "P(B | A): Probability of a positive test (B) if the patient has Disease A (A)\n",
    "P(A): Prior probability of the patient having Disease A (assumed equal to Disease B)\n",
    "P(B | B): Probability of a positive test (B) if the patient has Disease B (B)\n",
    "P(B): Probability of a positive test regardless of the disease (sum of P(B | A) and P(B | B))\n",
    "Plugging in the given values:\n",
    "\n",
    "P(A | B): (0.9 * 0.5) / ((0.9 * 0.5) + (0.8 * 0.5)) = 0.5625\n",
    "P(B): (0.9 * 0.5) + (0.8 * 0.5) = 0.85\n",
    "Therefore, even though both diseases were initially equally likely, the positive test result increases the probability that the patient has Disease \n",
    "A to 56.25%.\n",
    "\n",
    "Conclusion:\n",
    "\n",
    "Bayes' Theorem allows us to adjust our initial beliefs based on new evidence, providing a more informed basis for decision-making in various fields \n",
    "like medicine, diagnosis, and even spam filtering. Remember, applying Bayes' Theorem effectively requires careful consideration of all probabilities \n",
    "involved.\n",
    "'''"
   ]
  },
  {
   "cell_type": "code",
   "execution_count": null,
   "id": "9de0ec06-2a1b-4105-8143-20f6cdc73cc7",
   "metadata": {},
   "outputs": [],
   "source": [
    "'''\n",
    "Q7. Calculate the 95% confidence interval for a sample of data with a mean of 50 and a standard deviation\n",
    "of 5. Interpret the results.\n",
    "'''"
   ]
  },
  {
   "cell_type": "code",
   "execution_count": 14,
   "id": "f640c8ae-f4ea-45b8-be48-303533d21911",
   "metadata": {},
   "outputs": [],
   "source": [
    "#Ans 7:\n",
    "import scipy.stats as stat\n",
    "import numpy as np\n",
    "import math\n",
    "\n",
    "#sample data\n",
    "data = np.random.normal(50,5,25) #count is 25\n",
    "\n",
    "confidence_interval = 0.95\n",
    "significance_level = 0.05\n",
    "sample_mean = 50\n",
    "sample_std = 5\n",
    "degree_of_freedom = 24\n",
    "sample_size = 25\n",
    "\n",
    "#As sample standard deviation is given we will use the t value for getting the margin of error\n",
    "\n",
    "t_value = abs(stat.t.ppf((significance_level/2),degree_of_freedom))\n",
    "\n",
    "#Margin of error\n",
    "margin = t_value * ((sample_std) / (sample_size**0.5))\n",
    "\n",
    "#bounds\n",
    "lower_bound = sample_mean - margin\n",
    "upper_bound = sample_mean + margin"
   ]
  },
  {
   "cell_type": "code",
   "execution_count": 16,
   "id": "5ef89d83-441f-45a8-8d85-09871e9adaaa",
   "metadata": {},
   "outputs": [
    {
     "name": "stdout",
     "output_type": "stream",
     "text": [
      "The confidence interval is between 47.93610143837198 and 52.06389856162802\n"
     ]
    }
   ],
   "source": [
    "print(f\"The confidence interval is between {lower_bound} and {upper_bound}\")"
   ]
  },
  {
   "cell_type": "code",
   "execution_count": null,
   "id": "d8665d9c-55d6-4797-894f-d26c4ecdd953",
   "metadata": {},
   "outputs": [],
   "source": [
    "'''\n",
    "Q8. What is the margin of error in a confidence interval? How does sample size affect the margin of error?\n",
    "Provide an example of a scenario where a larger sample size would result in a smaller margin of error.\n",
    "'''"
   ]
  },
  {
   "cell_type": "code",
   "execution_count": null,
   "id": "eb06dd2c-c382-45dc-89bc-0e57f5ee12bd",
   "metadata": {},
   "outputs": [],
   "source": [
    "#Ans 8:\n",
    "'''\n",
    "Margin of error is the half-width of a confidence interval, representing the estimated range within which the true population parameter \n",
    "(e.g., mean, proportion) most likely lies. A smaller margin of error indicates a more precise estimate of the true parameter.\n",
    "\n",
    "Sample size plays a crucial role in the margin of error:\n",
    "\n",
    "-->Larger sample sizes: Lead to smaller margins of error. With more data points, the estimate is closer to the true parameter, and we can be more \n",
    "confident about the range within which it falls.\n",
    "-->Smaller sample sizes: Lead to larger margins of error. With fewer data points, the estimate is less precise, and we need a wider range to account for potential discrepancies between the sample and the population.\n",
    "\n",
    "Example:\n",
    "\n",
    "Imagine you want to estimate the average height of students in your university. You take two samples:\n",
    "\n",
    "-->Sample A: 50 students, average height 172 cm, margin of error ±5 cm.\n",
    "-->Sample B: 200 students, average height 173 cm, margin of error ±2 cm.\n",
    "\n",
    "Even though both samples provide estimates of the average height, Sample B with a larger size has a significantly smaller margin of error. This means \n",
    "we can be more confident that the true average height lies within the ±2 cm range compared to the wider ±5 cm range for Sample A.\n",
    "\n",
    "In summary:\n",
    "\n",
    "-->Increasing the sample size is a reliable way to reduce the margin of error and obtain a more precise estimate of the true population parameter.\n",
    "-->This principle applies to various statistical analyses, including confidence intervals, hypothesis testing, and regression models.\n",
    "'''"
   ]
  },
  {
   "cell_type": "code",
   "execution_count": null,
   "id": "0c23e048-6e80-45ba-8de8-701c85597b93",
   "metadata": {},
   "outputs": [],
   "source": [
    "'''\n",
    "Q9. Calculate the z-score for a data point with a value of 75, a population mean of 70, and a population\n",
    "standard deviation of 5. Interpret the results.\n",
    "'''"
   ]
  },
  {
   "cell_type": "code",
   "execution_count": 20,
   "id": "ba6c5a09-8d18-4223-894f-c53585b9965e",
   "metadata": {},
   "outputs": [
    {
     "name": "stdout",
     "output_type": "stream",
     "text": [
      "The z_score value is 1.0\n"
     ]
    }
   ],
   "source": [
    "#Ans 9:\n",
    "point = 75\n",
    "mean = 70\n",
    "std = 5\n",
    "\n",
    "z_score = (point - mean) / std\n",
    "\n",
    "print(f\"The z_score value is {z_score}\")"
   ]
  },
  {
   "cell_type": "code",
   "execution_count": null,
   "id": "598a2136-dc52-421e-91a7-b21f8558d74e",
   "metadata": {},
   "outputs": [],
   "source": [
    "'''\n",
    "Q10. In a study of the effectiveness of a new weight loss drug, a sample of 50 participants lost an average\n",
    "of 6 pounds with a standard deviation of 2.5 pounds. Conduct a hypothesis test to determine if the drug is\n",
    "significantly effective at a 95% confidence level using a t-test.\n",
    "'''"
   ]
  },
  {
   "cell_type": "code",
   "execution_count": 4,
   "id": "991d2f4a-a221-4ce2-8acf-67b6462cb4ac",
   "metadata": {},
   "outputs": [],
   "source": [
    "#Ans 10\n",
    "import scipy.stats as stat\n",
    "import numpy as np\n",
    "import math"
   ]
  },
  {
   "cell_type": "code",
   "execution_count": 5,
   "id": "952493a5-654e-408d-802c-674589feb34a",
   "metadata": {},
   "outputs": [],
   "source": [
    "population_mean = 0 #No loss in weight\n",
    "sample_mean = 6 \n",
    "sample_std = 2.5\n",
    "significance_level = 0.05\n",
    "sample_size = 50\n",
    "df = 49 #Degree of Freedom"
   ]
  },
  {
   "cell_type": "code",
   "execution_count": null,
   "id": "526868cc-4603-4471-9568-c8044660fd8d",
   "metadata": {},
   "outputs": [],
   "source": [
    "'''\n",
    "H0: The drug has no effect in weight\n",
    "H1: The drug helps in weight loss\n",
    "\n",
    "We will perform a right tail test to check the weight loss increase.\n",
    "'''"
   ]
  },
  {
   "cell_type": "code",
   "execution_count": 7,
   "id": "0cd660b0-c2b9-4ba5-ad9c-c78860ff4442",
   "metadata": {},
   "outputs": [
    {
     "name": "stdout",
     "output_type": "stream",
     "text": [
      "1.6765508919142629\n"
     ]
    }
   ],
   "source": [
    "t_value = stat.t.ppf(1-significance_level,df)\n",
    "print(t_value)"
   ]
  },
  {
   "cell_type": "code",
   "execution_count": 9,
   "id": "8a66ace7-0d93-4848-96a9-a10fe87bbc84",
   "metadata": {},
   "outputs": [
    {
     "name": "stdout",
     "output_type": "stream",
     "text": [
      "16.970562748477143\n"
     ]
    }
   ],
   "source": [
    "#t-test\n",
    "t_test = (sample_mean - population_mean)/(sample_std/(sample_size**0.5))\n",
    "print(t_test)"
   ]
  },
  {
   "cell_type": "code",
   "execution_count": 12,
   "id": "867a6186-3058-40d1-aa38-5d26c9835cb3",
   "metadata": {},
   "outputs": [
    {
     "name": "stdout",
     "output_type": "stream",
     "text": [
      "0.0\n"
     ]
    }
   ],
   "source": [
    "#P-value\n",
    "p_value = 2*(1 - stat.t.cdf(t_test,df))\n",
    "print(p_value)"
   ]
  },
  {
   "cell_type": "code",
   "execution_count": 13,
   "id": "9e89f018-7ec1-400c-a988-eddb4676cf34",
   "metadata": {},
   "outputs": [
    {
     "name": "stdout",
     "output_type": "stream",
     "text": [
      "Reject the null hypothesis\n"
     ]
    }
   ],
   "source": [
    "if p_value < significance_level:\n",
    "    print(\"Reject the null hypothesis\")\n",
    "else:\n",
    "    print(\"Failed to reject the null hypothesis\")"
   ]
  },
  {
   "cell_type": "code",
   "execution_count": null,
   "id": "f2599c63-2354-468b-9738-1337a24aeaf3",
   "metadata": {},
   "outputs": [],
   "source": [
    "'''\n",
    "Q11. In a survey of 500 people, 65% reported being satisfied with their current job. Calculate the 95% \n",
    "confidence interval for the true proportion of people who are satisfied with their job.\n",
    "'''"
   ]
  },
  {
   "cell_type": "code",
   "execution_count": 14,
   "id": "1e4b25f8-98e9-43c1-9ee6-cacb76e34526",
   "metadata": {},
   "outputs": [],
   "source": [
    "#Ans 11:\n",
    "sample_proportion = 0.65\n",
    "sample_size = 500\n",
    "significance_level = 0.05"
   ]
  },
  {
   "cell_type": "code",
   "execution_count": 15,
   "id": "4ae246d8-eaf3-4834-bdc4-60b4c33638f5",
   "metadata": {},
   "outputs": [],
   "source": [
    "import scipy.stats as stat\n",
    "import numpy as np"
   ]
  },
  {
   "cell_type": "code",
   "execution_count": 16,
   "id": "b021030d-5ad1-4d6a-a4c6-3704a7f04925",
   "metadata": {},
   "outputs": [
    {
     "name": "stdout",
     "output_type": "stream",
     "text": [
      "0.02133072900770154\n"
     ]
    }
   ],
   "source": [
    "#Standard error\n",
    "standard_error = np.sqrt((sample_proportion * (1 - sample_proportion)) / sample_size)\n",
    "print(standard_error)"
   ]
  },
  {
   "cell_type": "code",
   "execution_count": 18,
   "id": "2a2d7867-54cd-4a02-974c-223fae67fc84",
   "metadata": {},
   "outputs": [
    {
     "name": "stdout",
     "output_type": "stream",
     "text": [
      "1.9599639845400545\n"
     ]
    }
   ],
   "source": [
    "#Z value\n",
    "z_value = abs(stat.norm.ppf(0.025))\n",
    "print(z_value)"
   ]
  },
  {
   "cell_type": "code",
   "execution_count": 19,
   "id": "6e545aa5-4844-4cdd-aa2d-331a973bca88",
   "metadata": {},
   "outputs": [],
   "source": [
    "#Margin of error\n",
    "margin = z_value*standard_error"
   ]
  },
  {
   "cell_type": "code",
   "execution_count": 20,
   "id": "978774ff-6625-4660-a8c2-a5686b3d81f6",
   "metadata": {},
   "outputs": [
    {
     "name": "stdout",
     "output_type": "stream",
     "text": [
      "The upper bound is 0.6918074606190788 and lower bound is 0.6081925393809212\n"
     ]
    }
   ],
   "source": [
    "#Bounds\n",
    "lower_bound = sample_proportion - margin\n",
    "upper_bound = sample_proportion + margin\n",
    "\n",
    "print(f\"The upper bound is {upper_bound} and lower bound is {lower_bound}\")"
   ]
  },
  {
   "cell_type": "code",
   "execution_count": null,
   "id": "4cca8f86-42dd-45ae-be3f-ada629a7af14",
   "metadata": {},
   "outputs": [],
   "source": [
    "'''\n",
    "Q12. A researcher is testing the effectiveness of two different teaching methods on student performance. \n",
    "Sample A has a mean score of 85 with a standard deviation of 6, while sample B has a mean score of 82 \n",
    "with a standard deviation of 5. Conduct a hypothesis test to determine if the two teaching methods have a \n",
    "significant difference in student performance using a t-test with a significance level of 0.01.\n",
    "'''"
   ]
  },
  {
   "cell_type": "code",
   "execution_count": 29,
   "id": "f18fa9ab-0a85-4b40-881a-5fc25b77fc1d",
   "metadata": {},
   "outputs": [],
   "source": [
    "#Ans 12:\n",
    "#We are assuming that the size of sample here is 100\n",
    "sample_mean1 = 85\n",
    "sample_std1 = 6\n",
    "sample_size1 = 100\n",
    "sample_mean2 = 82\n",
    "sample_std2 = 5\n",
    "sample_size2 = 100\n",
    "significance_level = 0.01"
   ]
  },
  {
   "cell_type": "code",
   "execution_count": null,
   "id": "488eaeb6-cfca-4b86-b56e-14f5c56fc574",
   "metadata": {},
   "outputs": [],
   "source": [
    "'''\n",
    "H0: There is no difference between the two teaching methods.\n",
    "H1: There is significant difference in one of the teaching methods.\n",
    "'''"
   ]
  },
  {
   "cell_type": "code",
   "execution_count": 30,
   "id": "ada96479-98c1-44a2-94a1-ad81c094ee60",
   "metadata": {},
   "outputs": [],
   "source": [
    "import scipy.stats as stat\n",
    "import numpy as np"
   ]
  },
  {
   "cell_type": "code",
   "execution_count": 31,
   "id": "61ab8b95-0222-4133-95ab-f978ffe1249d",
   "metadata": {},
   "outputs": [
    {
     "name": "stdout",
     "output_type": "stream",
     "text": [
      "0.000164844146609095\n"
     ]
    }
   ],
   "source": [
    "#t_test\n",
    "t_test_value, p_value = stat.ttest_ind_from_stats(sample_mean1,sample_std1,sample_size1,sample_mean2,sample_std2,sample_size2)\n",
    "print(p_value)"
   ]
  },
  {
   "cell_type": "code",
   "execution_count": 32,
   "id": "8c5a98bf-e670-40f1-9a1c-c84f5ad8759c",
   "metadata": {},
   "outputs": [
    {
     "name": "stdout",
     "output_type": "stream",
     "text": [
      "Reject the null hypothesis\n"
     ]
    }
   ],
   "source": [
    "if p_value < significance_level:\n",
    "    print(\"Reject the null hypothesis\")\n",
    "else:\n",
    "    print(\"Failed to reject the null hypothesis\")"
   ]
  },
  {
   "cell_type": "code",
   "execution_count": null,
   "id": "fbdc9904-8c7f-4508-8272-1fbfc8db461b",
   "metadata": {},
   "outputs": [],
   "source": [
    "'''\n",
    "Hence we can conclude that there is no difference between the two teaching methods.\n",
    "'''"
   ]
  },
  {
   "cell_type": "code",
   "execution_count": null,
   "id": "286a84d0-4db4-4d8c-90e7-3c6d3bcfe8cf",
   "metadata": {},
   "outputs": [],
   "source": [
    "'''\n",
    "Q13. A population has a mean of 60 and a standard deviation of 8. A sample of 50 observations has a mean \n",
    "of 65. Calculate the 90% confidence interval for the true population mean.\n",
    "'''"
   ]
  },
  {
   "cell_type": "code",
   "execution_count": 2,
   "id": "be4535b4-ffb4-43d5-860f-474ce07b59a7",
   "metadata": {},
   "outputs": [],
   "source": [
    "#Ans 13\n",
    "population_mean = 60\n",
    "population_std = 8\n",
    "sample_size = 50\n",
    "sample_mean = 65\n",
    "significance_level = 0.1"
   ]
  },
  {
   "cell_type": "code",
   "execution_count": 3,
   "id": "0ee8445f-2975-48f5-acba-e28acf47740a",
   "metadata": {},
   "outputs": [],
   "source": [
    "import scipy.stats as stat\n",
    "import numpy as np"
   ]
  },
  {
   "cell_type": "code",
   "execution_count": 4,
   "id": "d85c856c-2bfc-4846-8366-55beb4f60e14",
   "metadata": {},
   "outputs": [
    {
     "name": "stdout",
     "output_type": "stream",
     "text": [
      "1.131370849898476\n"
     ]
    }
   ],
   "source": [
    "#Standard error\n",
    "standard_error = (population_std)/(np.sqrt(sample_size))\n",
    "print(standard_error)"
   ]
  },
  {
   "cell_type": "code",
   "execution_count": 5,
   "id": "25befe7e-8a74-4aad-aae9-79855dc25a79",
   "metadata": {},
   "outputs": [],
   "source": [
    "#Z value\n",
    "z_value = abs(stat.norm.ppf(significance_level/2))"
   ]
  },
  {
   "cell_type": "code",
   "execution_count": 6,
   "id": "b30f35f7-cf5c-4bd1-8b8c-cf96388ce1fe",
   "metadata": {},
   "outputs": [],
   "source": [
    "#margin\n",
    "margin = z_value*standard_error"
   ]
  },
  {
   "cell_type": "code",
   "execution_count": 7,
   "id": "dfacde1c-7085-4c48-9b2a-0e27a73fafc4",
   "metadata": {},
   "outputs": [
    {
     "name": "stdout",
     "output_type": "stream",
     "text": [
      "The upper bound is 66.86093944588268 and lower bound is 63.13906055411732\n"
     ]
    }
   ],
   "source": [
    "#Bounds\n",
    "lower_bound = sample_mean - margin\n",
    "upper_bound = sample_mean + margin\n",
    "\n",
    "print(f\"The upper bound is {upper_bound} and lower bound is {lower_bound}\")"
   ]
  },
  {
   "cell_type": "code",
   "execution_count": null,
   "id": "d44b2225-ce62-4601-a50d-33f485f6337f",
   "metadata": {},
   "outputs": [],
   "source": [
    "'''\n",
    "Q14. In a study of the effects of caffeine on reaction time, a sample of 30 participants had an average \n",
    "reaction time of 0.25 seconds with a standard deviation of 0.05 seconds. Conduct a hypothesis test to \n",
    "determine if the caffeine has a significant effect on reaction time at a 90% confidence level using a t-test.\n",
    "'''"
   ]
  },
  {
   "cell_type": "code",
   "execution_count": 13,
   "id": "2743fb7a-6789-4004-9052-f2978cb66e97",
   "metadata": {},
   "outputs": [],
   "source": [
    "#Ans 14:\n",
    "import scipy.stats as stat\n",
    "import numpy as np"
   ]
  },
  {
   "cell_type": "code",
   "execution_count": 14,
   "id": "c844b580-e817-423a-ab70-46f8b3b2d7fd",
   "metadata": {},
   "outputs": [],
   "source": [
    "sample_size = 30\n",
    "sample_mean = 0.25 #Increase in reaction time\n",
    "sample_std = 0.05\n",
    "population_mean = 0 #No change in reaction time\n",
    "significance_level = 0.1\n",
    "df = 29"
   ]
  },
  {
   "cell_type": "code",
   "execution_count": null,
   "id": "f1da1790-f83b-4656-b8be-958d8a6531d2",
   "metadata": {},
   "outputs": [],
   "source": [
    "'''\n",
    "H0: Consumption of caffeine has no effect on reaction time\n",
    "H1: Consumption of caffeine has effect on reaction time\n",
    "\n",
    "Here we will do a two tail test to check if it has a positive or negative effect on reaction time.\n",
    "'''"
   ]
  },
  {
   "cell_type": "code",
   "execution_count": 15,
   "id": "4a356b65-62b3-48b3-b180-753d935cda69",
   "metadata": {},
   "outputs": [
    {
     "name": "stdout",
     "output_type": "stream",
     "text": [
      "-1.6991270265334977\n"
     ]
    }
   ],
   "source": [
    "#t value based on significance value\n",
    "t_value = stat.t.ppf(0.05,df)\n",
    "print(t_value)"
   ]
  },
  {
   "cell_type": "code",
   "execution_count": 16,
   "id": "10d2df5c-79da-4165-acd0-758b4e063763",
   "metadata": {},
   "outputs": [
    {
     "name": "stdout",
     "output_type": "stream",
     "text": [
      "The the left tail t value is -1.6991270265334977 and right tail t value is 1.6991270265334977\n"
     ]
    }
   ],
   "source": [
    "print(f\"The the left tail t value is {t_value} and right tail t value is {abs(t_value)}\")"
   ]
  },
  {
   "cell_type": "code",
   "execution_count": 17,
   "id": "f6015082-2c8f-4219-867e-dd650ccb7c4e",
   "metadata": {},
   "outputs": [
    {
     "name": "stdout",
     "output_type": "stream",
     "text": [
      "27.386127875258307\n"
     ]
    }
   ],
   "source": [
    "#t test\n",
    "t_test = (sample_mean - population_mean)/(sample_std/np.sqrt(sample_size))\n",
    "print(t_test)"
   ]
  },
  {
   "cell_type": "code",
   "execution_count": 18,
   "id": "40962062-9c04-47f4-bced-ba5014ffb56d",
   "metadata": {},
   "outputs": [
    {
     "name": "stdout",
     "output_type": "stream",
     "text": [
      "0.0\n"
     ]
    }
   ],
   "source": [
    "#p value\n",
    "p_value = 2*(1 - stat.t.cdf(t_test,df))\n",
    "print(p_value)"
   ]
  },
  {
   "cell_type": "code",
   "execution_count": 20,
   "id": "1b30a6bf-0335-4a5e-aa69-6b31f978dd64",
   "metadata": {},
   "outputs": [
    {
     "name": "stdout",
     "output_type": "stream",
     "text": [
      "Reject null hypothesis\n"
     ]
    }
   ],
   "source": [
    "if p_value < significance_level:\n",
    "    print(\"Reject null hypothesis\")\n",
    "else:\n",
    "    print(\"Accept null hypothesis\")\n",
    "    "
   ]
  },
  {
   "cell_type": "code",
   "execution_count": null,
   "id": "5fb4d29f-86a6-4ee8-94e9-85e747e6bdc2",
   "metadata": {},
   "outputs": [],
   "source": [
    "'''\n",
    "So we can conclude that caffeine has a positive effect on reaction time.\n",
    "'''"
   ]
  }
 ],
 "metadata": {
  "kernelspec": {
   "display_name": "Python 3 (ipykernel)",
   "language": "python",
   "name": "python3"
  },
  "language_info": {
   "codemirror_mode": {
    "name": "ipython",
    "version": 3
   },
   "file_extension": ".py",
   "mimetype": "text/x-python",
   "name": "python",
   "nbconvert_exporter": "python",
   "pygments_lexer": "ipython3",
   "version": "3.10.8"
  }
 },
 "nbformat": 4,
 "nbformat_minor": 5
}
