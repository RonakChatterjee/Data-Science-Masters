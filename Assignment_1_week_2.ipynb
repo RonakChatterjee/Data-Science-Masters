{
 "cells": [
  {
   "cell_type": "raw",
   "id": "4ea40559-09c3-4998-b35a-030a04f77d8b",
   "metadata": {},
   "source": [
    "Q1. How do you comment code in Python? What are the different types of comments?\n",
    "Ans:\n",
    "\n",
    "There the two ways to add comment in Python.\n",
    "1. Single line comment: We can add single line comment using #. Example is shown below"
   ]
  },
  {
   "cell_type": "code",
   "execution_count": null,
   "id": "bba964b1-e4bb-4a67-8f1d-23d9784195f3",
   "metadata": {},
   "outputs": [],
   "source": [
    "# This is a single line comment"
   ]
  },
  {
   "cell_type": "raw",
   "id": "4fea757b-0e28-41f5-b013-2eb4dc04c40c",
   "metadata": {},
   "source": [
    "2. Multiline comment: We can add multiline comment in Python using \"\"\" \"\"\". Example is shown below"
   ]
  },
  {
   "cell_type": "code",
   "execution_count": null,
   "id": "3f891def-9da9-49d1-a36c-6b1a929ed83a",
   "metadata": {},
   "outputs": [],
   "source": [
    "\"\"\"\n",
    "This is a \n",
    "multiline\n",
    "comment\n",
    "\"\"\""
   ]
  },
  {
   "cell_type": "raw",
   "id": "f805295f-4df9-4bfb-ab68-f5e87f02f329",
   "metadata": {},
   "source": [
    "Q2. What are variables in Python? How do you declare and assign values to variables?\n",
    "Ans: In Python variables are generally objects which reserve memory location to store certain values. \n",
    "Python supports dynamic typing, so we don't need to mention the data type of the variable. Python automatically interprets that.\n",
    "\n",
    "Example:-\n",
    "var1 = 5\n",
    "var2 = \"Pwskills\"\n",
    "var3 = [1,2,\"data science\"]"
   ]
  },
  {
   "cell_type": "raw",
   "id": "b577f983-9aaf-41a8-b599-7c674ddae9e2",
   "metadata": {},
   "source": [
    "Q3. How do you convert one data type to another in Python?\n",
    "Ans. To convert one data type to another we use type casting in python.\n",
    "Example is shown below"
   ]
  },
  {
   "cell_type": "code",
   "execution_count": 1,
   "id": "b5886770-c7c0-4c7f-9d9c-95202e406fc0",
   "metadata": {},
   "outputs": [
    {
     "data": {
      "text/plain": [
       "str"
      ]
     },
     "execution_count": 1,
     "metadata": {},
     "output_type": "execute_result"
    }
   ],
   "source": [
    "var1 = \"12\"\n",
    "type(var1)"
   ]
  },
  {
   "cell_type": "code",
   "execution_count": 2,
   "id": "32ce40f7-cccc-4ffe-a9b4-bd031d6fce20",
   "metadata": {},
   "outputs": [
    {
     "data": {
      "text/plain": [
       "int"
      ]
     },
     "execution_count": 2,
     "metadata": {},
     "output_type": "execute_result"
    }
   ],
   "source": [
    "var2 = int(var1)\n",
    "type(var2)"
   ]
  },
  {
   "cell_type": "raw",
   "id": "66626192-f6c3-4a36-8e10-454825b6311b",
   "metadata": {},
   "source": [
    "Q4. How do you write and execute a Python script from the command line?\n",
    "Ans:The steps are:\n",
    "1.To execute python in command line first open command line.\n",
    "2.Type python followed by the file name. The file name should be in the same directory that will be in command line.\n",
    "3. Hit Enter"
   ]
  },
  {
   "cell_type": "raw",
   "id": "1f4ccf2b-4a11-4eb4-ba4a-b542cd35ec98",
   "metadata": {},
   "source": [
    "Q5. Given a list my_list = [1, 2, 3, 4, 5], write the code to slice the list and obtain the sub-list [2, 3].\n",
    "Ans: The solution is provided below"
   ]
  },
  {
   "cell_type": "code",
   "execution_count": 4,
   "id": "db26f4d9-72fd-4e46-8332-575e25de47fa",
   "metadata": {},
   "outputs": [
    {
     "data": {
      "text/plain": [
       "[2, 3]"
      ]
     },
     "execution_count": 4,
     "metadata": {},
     "output_type": "execute_result"
    }
   ],
   "source": [
    "my_list = [1, 2, 3, 4, 5]\n",
    "my_list[1:3]"
   ]
  },
  {
   "cell_type": "raw",
   "id": "672315cf-29c3-4666-aadb-e1d294e8c320",
   "metadata": {},
   "source": [
    "Q6. What is a complex number in mathematics, and how is it represented in Python?\n",
    "Ans: In Mathematics usually a number is represented in real axis/real number line. But in case of Complex Numbers, there are two axis to represent it. One is real axis and another one is imaginary axis. \n",
    "\n",
    "In Python we represent complex number as 3+4j, where 3 is the real part and 4 is imaginary part"
   ]
  },
  {
   "cell_type": "code",
   "execution_count": 7,
   "id": "8b4f1df2-e5f5-4523-99ad-ffe5533b9394",
   "metadata": {},
   "outputs": [
    {
     "data": {
      "text/plain": [
       "3.0"
      ]
     },
     "execution_count": 7,
     "metadata": {},
     "output_type": "execute_result"
    }
   ],
   "source": [
    "num = 3+4j\n",
    "num.real"
   ]
  },
  {
   "cell_type": "code",
   "execution_count": 8,
   "id": "a56dd705-8904-42c0-aea2-b80c322ceb1f",
   "metadata": {},
   "outputs": [
    {
     "data": {
      "text/plain": [
       "4.0"
      ]
     },
     "execution_count": 8,
     "metadata": {},
     "output_type": "execute_result"
    }
   ],
   "source": [
    "num = 3+4j\n",
    "num.imag"
   ]
  },
  {
   "cell_type": "raw",
   "id": "f7961769-5867-435b-982b-db37c4f91691",
   "metadata": {},
   "source": [
    "Q7. What is the correct way to declare a variable named age and assign the value 25 to it?\n",
    "Ans: The correct way to assign a variable is that it should not start with special character or number.\n",
    "\n",
    "age = 25\n",
    "var_age = 25\n",
    "age_value = 25"
   ]
  },
  {
   "cell_type": "raw",
   "id": "a11ed6a9-1956-42cf-bc64-c51c955b40b6",
   "metadata": {},
   "source": [
    "Q8. Declare a variable named price and assign the value 9.99 to it. What data type does this variable\n",
    "belong to?\n",
    "Ans: Solution is mentioned below"
   ]
  },
  {
   "cell_type": "code",
   "execution_count": 9,
   "id": "90d4ed94-b86e-420d-a34a-2e36748045ff",
   "metadata": {},
   "outputs": [
    {
     "data": {
      "text/plain": [
       "float"
      ]
     },
     "execution_count": 9,
     "metadata": {},
     "output_type": "execute_result"
    }
   ],
   "source": [
    "price = 9.99\n",
    "type(price)"
   ]
  },
  {
   "cell_type": "raw",
   "id": "0d755277-115d-453f-92d8-fc592b5c9004",
   "metadata": {},
   "source": [
    "Q9. Create a variable named name and assign your full name to it as a string. How would you print the\n",
    "value of this variable?"
   ]
  },
  {
   "cell_type": "code",
   "execution_count": 10,
   "id": "abde5627-d94a-4693-aaa3-3465fcbc60c4",
   "metadata": {},
   "outputs": [
    {
     "name": "stdout",
     "output_type": "stream",
     "text": [
      "Ronak Chatterjee\n"
     ]
    }
   ],
   "source": [
    "name = \"Ronak Chatterjee\"\n",
    "print(name) #press shift + enter"
   ]
  },
  {
   "cell_type": "raw",
   "id": "f060f6ec-0732-422f-915b-b6c5fb3d52e7",
   "metadata": {},
   "source": [
    "Q10. Given the string \"Hello, World!\", extract the substring \"World\"."
   ]
  },
  {
   "cell_type": "code",
   "execution_count": 11,
   "id": "39e87906-018a-4404-b804-c7459adfe55a",
   "metadata": {},
   "outputs": [
    {
     "data": {
      "text/plain": [
       "'World'"
      ]
     },
     "execution_count": 11,
     "metadata": {},
     "output_type": "execute_result"
    }
   ],
   "source": [
    "var = \"Hello, World!\"\n",
    "var[7:12]"
   ]
  },
  {
   "cell_type": "raw",
   "id": "e37fb9fb-fa40-40c5-b2ee-1b1987266e8e",
   "metadata": {},
   "source": [
    "Q11. Create a variable named \"is_student\" and assign it a boolean value indicating whether you are\n",
    "currently a student or not."
   ]
  },
  {
   "cell_type": "code",
   "execution_count": 13,
   "id": "aa1693d6-380a-48a1-a1ae-4b86aa437b8f",
   "metadata": {},
   "outputs": [
    {
     "data": {
      "text/plain": [
       "False"
      ]
     },
     "execution_count": 13,
     "metadata": {},
     "output_type": "execute_result"
    }
   ],
   "source": [
    "is_student = False\n",
    "is_student"
   ]
  }
 ],
 "metadata": {
  "kernelspec": {
   "display_name": "Python 3 (ipykernel)",
   "language": "python",
   "name": "python3"
  },
  "language_info": {
   "codemirror_mode": {
    "name": "ipython",
    "version": 3
   },
   "file_extension": ".py",
   "mimetype": "text/x-python",
   "name": "python",
   "nbconvert_exporter": "python",
   "pygments_lexer": "ipython3",
   "version": "3.10.8"
  }
 },
 "nbformat": 4,
 "nbformat_minor": 5
}
