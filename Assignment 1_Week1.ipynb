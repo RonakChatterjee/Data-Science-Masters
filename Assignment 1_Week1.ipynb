{
 "cells": [
  {
   "cell_type": "code",
   "execution_count": null,
   "id": "7593a3e5-6678-4a95-ab20-8614ed1915cb",
   "metadata": {},
   "outputs": [],
   "source": [
    "\"\"\"\n",
    "Q1. Create one variable containing following type of data:\n",
    "\n",
    "(i)\tstring\n",
    "\n",
    "(ii) list\n",
    "\n",
    "(iii) float\n",
    "\n",
    "(iv) tuple\n",
    "\"\"\""
   ]
  },
  {
   "cell_type": "code",
   "execution_count": null,
   "id": "41c0c38e-3f49-4820-b355-eb894b3a7fc9",
   "metadata": {},
   "outputs": [],
   "source": [
    "#Answer 1"
   ]
  },
  {
   "cell_type": "code",
   "execution_count": null,
   "id": "48020312-aeec-4cc9-b692-1ab02a00d609",
   "metadata": {},
   "outputs": [],
   "source": [
    "var_string = 'Shyam' #string"
   ]
  },
  {
   "cell_type": "code",
   "execution_count": null,
   "id": "7dd3c4cd-96a1-41e6-bf55-b2816a128acc",
   "metadata": {},
   "outputs": [],
   "source": [
    "var_list = [1,4,True,\"pwskills\"] #list"
   ]
  },
  {
   "cell_type": "code",
   "execution_count": null,
   "id": "e302cef6-98b6-4657-9c2c-865bd5565625",
   "metadata": {},
   "outputs": [],
   "source": [
    "var_float = 4.323 #Float"
   ]
  },
  {
   "cell_type": "code",
   "execution_count": null,
   "id": "50c82c67-be83-4622-a550-5bc57b92f329",
   "metadata": {},
   "outputs": [],
   "source": [
    "var_tuple = (1,2,True,\"pwskills\") #tuple"
   ]
  },
  {
   "cell_type": "code",
   "execution_count": null,
   "id": "8d08e73a-bcd9-4c0c-94ce-b2c04a45891e",
   "metadata": {},
   "outputs": [],
   "source": [
    "\"\"\"\n",
    "Q2. Given are some following variables containing data:\n",
    "\n",
    "(i)\tvar1 = ' '\n",
    "\n",
    "(ii) var2 = '[ DS , ML , Python]'\n",
    "\n",
    "(iii) var3 = [ 'DS' , 'ML' , 'Python' ]\n",
    "\n",
    "iv)\tvar4 = 1.\n",
    "\n",
    "What will be the data type of the above given variable.\n",
    "\n",
    "\"\"\""
   ]
  },
  {
   "cell_type": "code",
   "execution_count": null,
   "id": "63045e63-e98c-4927-83be-422282e0054e",
   "metadata": {},
   "outputs": [],
   "source": [
    "#Answer 2"
   ]
  },
  {
   "cell_type": "code",
   "execution_count": 3,
   "id": "6d36ce41-42ab-40b6-881d-290fb9dd17fc",
   "metadata": {},
   "outputs": [
    {
     "data": {
      "text/plain": [
       "str"
      ]
     },
     "execution_count": 3,
     "metadata": {},
     "output_type": "execute_result"
    }
   ],
   "source": [
    "var1 = ' '\n",
    "type(var1)\n",
    "#Solution : String"
   ]
  },
  {
   "cell_type": "code",
   "execution_count": 4,
   "id": "b63b9228-3b4f-4dc6-a2d0-349026308327",
   "metadata": {},
   "outputs": [
    {
     "data": {
      "text/plain": [
       "str"
      ]
     },
     "execution_count": 4,
     "metadata": {},
     "output_type": "execute_result"
    }
   ],
   "source": [
    "var2 = '[ DS , ML , Python]'\n",
    "type(var2)\n",
    "#Solution : String"
   ]
  },
  {
   "cell_type": "code",
   "execution_count": 5,
   "id": "fb889720-26e8-4581-968a-f8436c8fa22d",
   "metadata": {},
   "outputs": [
    {
     "data": {
      "text/plain": [
       "list"
      ]
     },
     "execution_count": 5,
     "metadata": {},
     "output_type": "execute_result"
    }
   ],
   "source": [
    "var3 = [ 'DS' , 'ML' , 'Python' ]\n",
    "type(var3)\n",
    "#Solution : List"
   ]
  },
  {
   "cell_type": "code",
   "execution_count": 6,
   "id": "acbe25ad-df60-4c6d-9f9e-08725fbf59e3",
   "metadata": {},
   "outputs": [
    {
     "data": {
      "text/plain": [
       "int"
      ]
     },
     "execution_count": 6,
     "metadata": {},
     "output_type": "execute_result"
    }
   ],
   "source": [
    "var4 = 1\n",
    "type(var4)\n",
    "#Solution : Integer"
   ]
  },
  {
   "cell_type": "code",
   "execution_count": null,
   "id": "92a1c3ab-feb1-4cf5-9298-449ea57dd5bc",
   "metadata": {},
   "outputs": [],
   "source": [
    "\"\"\"\n",
    "Q3. Explain the use of the following operators using an example:\n",
    "\n",
    "(i)\t/\n",
    "\n",
    "(ii) % \n",
    "\n",
    "(iii) //\n",
    "\n",
    "(iv) **\n",
    "\"\"\""
   ]
  },
  {
   "cell_type": "code",
   "execution_count": null,
   "id": "56fb2f1f-a45b-4aa5-a2b4-c907a3619716",
   "metadata": {},
   "outputs": [],
   "source": [
    "#Answer 3"
   ]
  },
  {
   "cell_type": "code",
   "execution_count": 7,
   "id": "8e776c32-262c-490d-9326-67a258efc252",
   "metadata": {},
   "outputs": [
    {
     "data": {
      "text/plain": [
       "4.75"
      ]
     },
     "execution_count": 7,
     "metadata": {},
     "output_type": "execute_result"
    }
   ],
   "source": [
    "# / Operator -->This is used for division and returns the value of quotient\n",
    "19 / 4"
   ]
  },
  {
   "cell_type": "code",
   "execution_count": 8,
   "id": "0240fbd4-167b-4db9-ad78-5e9d67bd66d7",
   "metadata": {},
   "outputs": [
    {
     "data": {
      "text/plain": [
       "2"
      ]
     },
     "execution_count": 8,
     "metadata": {},
     "output_type": "execute_result"
    }
   ],
   "source": [
    "# % Operator -->This operator gives the value of the remainder ( Modulus Operator )\n",
    "5 % 3"
   ]
  },
  {
   "cell_type": "code",
   "execution_count": 9,
   "id": "6584b72d-9180-4111-9ee2-61954f33a318",
   "metadata": {},
   "outputs": [
    {
     "data": {
      "text/plain": [
       "1"
      ]
     },
     "execution_count": 9,
     "metadata": {},
     "output_type": "execute_result"
    }
   ],
   "source": [
    "# // Operator -->This operator gives us the rounded or floor value of the quotient\n",
    "5 // 3"
   ]
  },
  {
   "cell_type": "code",
   "execution_count": 10,
   "id": "e1b57a00-a661-4f4b-bb69-9e1576af8b42",
   "metadata": {},
   "outputs": [
    {
     "data": {
      "text/plain": [
       "8"
      ]
     },
     "execution_count": 10,
     "metadata": {},
     "output_type": "execute_result"
    }
   ],
   "source": [
    "# ** Operator -->This operator returns the exponential value\n",
    "2 ** 3 #2 to the power of 3, will return 8"
   ]
  },
  {
   "cell_type": "code",
   "execution_count": null,
   "id": "3ae4fcad-9fbc-4db7-9437-707f9073d5d1",
   "metadata": {},
   "outputs": [],
   "source": [
    "\"\"\"\n",
    "Q4. Create a list of length 10 of your choice containing multiple types of data. Using for loop print the \n",
    "element and its data type.\n",
    "\"\"\""
   ]
  },
  {
   "cell_type": "code",
   "execution_count": null,
   "id": "4f91ad88-0522-46c2-97f2-3ddcac7ebc58",
   "metadata": {},
   "outputs": [],
   "source": [
    "#Answer 4"
   ]
  },
  {
   "cell_type": "code",
   "execution_count": 13,
   "id": "991ab966-8992-4632-9c2d-c1758b0441cd",
   "metadata": {},
   "outputs": [
    {
     "name": "stdout",
     "output_type": "stream",
     "text": [
      "1\n",
      "<class 'int'>\n",
      "\n",
      "\n",
      "4.54\n",
      "<class 'float'>\n",
      "\n",
      "\n",
      "True\n",
      "<class 'bool'>\n",
      "\n",
      "\n",
      "Hello\n",
      "<class 'str'>\n",
      "\n",
      "\n",
      "pwskills\n",
      "<class 'str'>\n",
      "\n",
      "\n",
      "(4+7j)\n",
      "<class 'complex'>\n",
      "\n",
      "\n",
      "34\n",
      "<class 'int'>\n",
      "\n",
      "\n",
      "data science\n",
      "<class 'str'>\n",
      "\n",
      "\n",
      "123\n",
      "<class 'int'>\n",
      "\n",
      "\n",
      "6.87\n",
      "<class 'float'>\n",
      "\n",
      "\n"
     ]
    }
   ],
   "source": [
    "my_list = [1, 4.54 , True , 'Hello' , 'pwskills' , 4+7j , 34 , 'data science' , 123 , 6.87]\n",
    "\n",
    "for item in my_list:\n",
    "    print(item)\n",
    "    print(type(item))\n",
    "    print(\"\\n\")"
   ]
  },
  {
   "cell_type": "code",
   "execution_count": 15,
   "id": "348a1e2d-7f3c-42ab-b8ff-d10ec8c06927",
   "metadata": {},
   "outputs": [
    {
     "name": "stdout",
     "output_type": "stream",
     "text": [
      "1. 1 --> <class 'int'>\n",
      "2. 4.54 --> <class 'float'>\n",
      "3. True --> <class 'bool'>\n",
      "4. Hello --> <class 'str'>\n",
      "5. pwskills --> <class 'str'>\n",
      "6. (4+7j) --> <class 'complex'>\n",
      "7. 34 --> <class 'int'>\n",
      "8. data science --> <class 'str'>\n",
      "9. 123 --> <class 'int'>\n",
      "10. 6.87 --> <class 'float'>\n"
     ]
    }
   ],
   "source": [
    "#Alternate solution of Answer 4\n",
    "my_list = [1, 4.54 , True , 'Hello' , 'pwskills' , 4+7j , 34 , 'data science' , 123 , 6.87]\n",
    "\n",
    "for i,item in enumerate(my_list):\n",
    "    print(f\"{i+1}. {item} --> {type(item)}\")"
   ]
  },
  {
   "cell_type": "code",
   "execution_count": null,
   "id": "4e2985af-5db5-40c8-b3df-39a4bd944d2e",
   "metadata": {},
   "outputs": [],
   "source": [
    "\"\"\"\n",
    "Q5. Using a while loop, verify if the number A is purely divisible by number B and if so then how many \n",
    "times it can be divisible.\"\n",
    "\"\"\""
   ]
  },
  {
   "cell_type": "code",
   "execution_count": 3,
   "id": "d4f85227-5598-4505-b520-ac51d92b17ac",
   "metadata": {},
   "outputs": [
    {
     "name": "stdin",
     "output_type": "stream",
     "text": [
      "Enter the number A:  1242\n",
      "Enter the number B:  3\n"
     ]
    },
    {
     "name": "stdout",
     "output_type": "stream",
     "text": [
      "46 is divisible by 3 and can be divided 3 times.\n"
     ]
    }
   ],
   "source": [
    "#Answer 5\n",
    "A = int(input(\"Enter the number A: \"))\n",
    "B = int(input(\"Enter the number B: \"))\n",
    "\n",
    "count = 0\n",
    "\n",
    "while A % B == 0:\n",
    "    A = A // B\n",
    "    count += 1\n",
    "\n",
    "if count > 0:\n",
    "    print(f\"{A} is divisible by {B} and can be divided {count} times.\")\n",
    "else:\n",
    "    print(f\"{A} is not divisible by {B}.\")"
   ]
  },
  {
   "cell_type": "code",
   "execution_count": null,
   "id": "c4accb64-bd62-46c5-8179-4c99dba129e8",
   "metadata": {},
   "outputs": [],
   "source": [
    "\"\"\"\n",
    "Q6. Create a list containing 25 int type data. Using for loop and if-else condition print if the element is \n",
    "divisible by 3 or not.\n",
    "\"\"\""
   ]
  },
  {
   "cell_type": "code",
   "execution_count": 6,
   "id": "267d0732-c5bb-4435-b72f-5c788214dfed",
   "metadata": {},
   "outputs": [
    {
     "name": "stdout",
     "output_type": "stream",
     "text": [
      "[1, 2, 3, 4, 5, 6, 7, 8, 9, 10, 11, 12, 13, 14, 15, 16, 17, 18, 19, 20, 21, 22, 23, 24, 25]\n"
     ]
    }
   ],
   "source": [
    "#Answer 6\n",
    "v_list = list(range(1,26))\n",
    "print(v_list)"
   ]
  },
  {
   "cell_type": "code",
   "execution_count": 7,
   "id": "76fb75d1-333e-4b82-b8ab-9fc895377b75",
   "metadata": {},
   "outputs": [
    {
     "name": "stdout",
     "output_type": "stream",
     "text": [
      "1 is not divisible by 3\n",
      "2 is not divisible by 3\n",
      "3 is divisible by 3\n",
      "4 is not divisible by 3\n",
      "5 is not divisible by 3\n",
      "6 is divisible by 3\n",
      "7 is not divisible by 3\n",
      "8 is not divisible by 3\n",
      "9 is divisible by 3\n",
      "10 is not divisible by 3\n",
      "11 is not divisible by 3\n",
      "12 is divisible by 3\n",
      "13 is not divisible by 3\n",
      "14 is not divisible by 3\n",
      "15 is divisible by 3\n",
      "16 is not divisible by 3\n",
      "17 is not divisible by 3\n",
      "18 is divisible by 3\n",
      "19 is not divisible by 3\n",
      "20 is not divisible by 3\n",
      "21 is divisible by 3\n",
      "22 is not divisible by 3\n",
      "23 is not divisible by 3\n",
      "24 is divisible by 3\n",
      "25 is not divisible by 3\n"
     ]
    }
   ],
   "source": [
    "for value in v_list:\n",
    "    if value%3 == 0:\n",
    "        print(f\"{value} is divisible by 3\")\n",
    "    else:\n",
    "        print(f\"{value} is not divisible by 3\")"
   ]
  },
  {
   "cell_type": "code",
   "execution_count": null,
   "id": "c5b675ca-9b9b-4fc9-a6ff-38096c0c96f7",
   "metadata": {},
   "outputs": [],
   "source": [
    "\"\"\"\n",
    "Q7. What do you understand about mutable and immutable data types? Give examples for both showing \n",
    "this property.\n",
    "\"\"\""
   ]
  },
  {
   "cell_type": "code",
   "execution_count": 8,
   "id": "9069c5d6-6824-4ebe-968a-01b392f7d373",
   "metadata": {},
   "outputs": [
    {
     "name": "stdout",
     "output_type": "stream",
     "text": [
      "[1, 2, 'Data Science']\n"
     ]
    }
   ],
   "source": [
    "#Answer 7\n",
    "\"\"\"\n",
    "In mutable objects we can change the value of the object at any particular index, that is they can be modified. \n",
    "On the other hand immutable objects cannot be modified at any particular index\n",
    "\"\"\"\n",
    "#Mutable Object\n",
    "l = [1, 2, 5]\n",
    "l[2] = 'Data Science'\n",
    "print(l)"
   ]
  },
  {
   "cell_type": "code",
   "execution_count": 9,
   "id": "4fae65b5-a4bd-459b-8b96-e9bf8788f611",
   "metadata": {},
   "outputs": [
    {
     "ename": "NameError",
     "evalue": "name 'j' is not defined",
     "output_type": "error",
     "traceback": [
      "\u001b[0;31m---------------------------------------------------------------------------\u001b[0m",
      "\u001b[0;31mNameError\u001b[0m                                 Traceback (most recent call last)",
      "Cell \u001b[0;32mIn[9], line 5\u001b[0m\n\u001b[1;32m      1\u001b[0m \u001b[38;5;66;03m#The value at index 2 changed\u001b[39;00m\n\u001b[1;32m      2\u001b[0m \n\u001b[1;32m      3\u001b[0m \u001b[38;5;66;03m#Immutable Object\u001b[39;00m\n\u001b[1;32m      4\u001b[0m name \u001b[38;5;241m=\u001b[39m \u001b[38;5;124m'\u001b[39m\u001b[38;5;124mRonak\u001b[39m\u001b[38;5;124m'\u001b[39m\n\u001b[0;32m----> 5\u001b[0m name[\u001b[38;5;241m3\u001b[39m] \u001b[38;5;241m=\u001b[39m \u001b[43mj\u001b[49m\n\u001b[1;32m      6\u001b[0m \u001b[38;5;28mprint\u001b[39m(name)\n",
      "\u001b[0;31mNameError\u001b[0m: name 'j' is not defined"
     ]
    }
   ],
   "source": [
    "#The value at index 2 changed\n",
    "\n",
    "#Immutable Object\n",
    "name = 'Ronak'\n",
    "name[3] = j\n",
    "print(name)"
   ]
  },
  {
   "cell_type": "code",
   "execution_count": null,
   "id": "8172cd2b-468f-4d7b-aea6-237bb67039db",
   "metadata": {},
   "outputs": [],
   "source": [
    "#This will give error as strings are immutable."
   ]
  }
 ],
 "metadata": {
  "kernelspec": {
   "display_name": "Python 3 (ipykernel)",
   "language": "python",
   "name": "python3"
  },
  "language_info": {
   "codemirror_mode": {
    "name": "ipython",
    "version": 3
   },
   "file_extension": ".py",
   "mimetype": "text/x-python",
   "name": "python",
   "nbconvert_exporter": "python",
   "pygments_lexer": "ipython3",
   "version": "3.10.8"
  }
 },
 "nbformat": 4,
 "nbformat_minor": 5
}
