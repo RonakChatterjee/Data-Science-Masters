{
 "cells": [
  {
   "cell_type": "code",
   "execution_count": null,
   "id": "1b29a9ef-9bd4-4f89-942a-a22e0970e1a5",
   "metadata": {},
   "outputs": [],
   "source": [
    "#Q1\n",
    "\"\"\"\n",
    "Q1. Explain Class and Object with respect to Object-Oriented Programming. Give a suitable example.\n",
    "\"\"\""
   ]
  },
  {
   "cell_type": "code",
   "execution_count": null,
   "id": "7239c7ee-d2a2-4192-8415-7ac4d6af5005",
   "metadata": {},
   "outputs": [],
   "source": [
    "#Ans1:\n",
    "\"\"\"\n",
    "Class: Class is a blueprint of real world object. It contains the necessary data and properties of that object.\n",
    "Object: It is a real world entity.\n",
    "\n",
    "Example is shown below\n",
    "\"\"\""
   ]
  },
  {
   "cell_type": "code",
   "execution_count": 14,
   "id": "be1fa897-aa3b-4518-a2f1-a8f6bcc7d61d",
   "metadata": {},
   "outputs": [],
   "source": [
    "class Student():\n",
    "    \n",
    "    def __init__(self,name,roll):\n",
    "        self.name = name\n",
    "        self.roll = roll\n",
    "        \n",
    "student1 = Student('Ronak',21)"
   ]
  },
  {
   "cell_type": "code",
   "execution_count": 4,
   "id": "01cfedfb-6f5c-421e-8908-518b207c0686",
   "metadata": {},
   "outputs": [
    {
     "data": {
      "text/plain": [
       "'Ronak'"
      ]
     },
     "execution_count": 4,
     "metadata": {},
     "output_type": "execute_result"
    }
   ],
   "source": [
    "student1.name"
   ]
  },
  {
   "cell_type": "code",
   "execution_count": 6,
   "id": "504a795c-9029-4db6-9099-d6ee402e3f2f",
   "metadata": {},
   "outputs": [
    {
     "data": {
      "text/plain": [
       "21"
      ]
     },
     "execution_count": 6,
     "metadata": {},
     "output_type": "execute_result"
    }
   ],
   "source": [
    "student1.roll"
   ]
  },
  {
   "cell_type": "code",
   "execution_count": null,
   "id": "21276ca8-07ad-415c-91e6-31d793ecea1d",
   "metadata": {},
   "outputs": [],
   "source": [
    "\"\"\"\n",
    "Here Student class is the blueprint of object student1 storing it's name and roll number\n",
    "\"\"\""
   ]
  },
  {
   "cell_type": "code",
   "execution_count": null,
   "id": "f3fcc0d4-2ac9-46f1-903d-b8f7dc232029",
   "metadata": {},
   "outputs": [],
   "source": [
    "#Q2\n",
    "\"\"\"\n",
    "Q2. Name the four pillars of OOPs.\n",
    "\"\"\""
   ]
  },
  {
   "cell_type": "code",
   "execution_count": null,
   "id": "e315bef2-7afe-4546-9263-62e0b3a80b41",
   "metadata": {},
   "outputs": [],
   "source": [
    "\"\"\"\n",
    "Ans2: The four pillar of OOPS are:\n",
    "1. Polymorphism\n",
    "2. Encapsulation\n",
    "3. Abstraction\n",
    "4. Inheritance\n",
    "\"\"\""
   ]
  },
  {
   "cell_type": "code",
   "execution_count": null,
   "id": "b91e11ec-6777-493d-a960-00c57a7ce360",
   "metadata": {},
   "outputs": [],
   "source": [
    "#Q3\n",
    "\"\"\"\n",
    "Q3. Explain why the __init__() function is used. Give a suitable example.\n",
    "\"\"\""
   ]
  },
  {
   "cell_type": "code",
   "execution_count": null,
   "id": "ddb3f9df-1b84-4bd4-95de-073acad207ca",
   "metadata": {},
   "outputs": [],
   "source": [
    "\"\"\"\n",
    "Ans3:\n",
    "__init__() --> It is a constructor which helps to take data in a class for a particular object\n",
    "\n",
    "The example is mentioned below\n",
    "\"\"\""
   ]
  },
  {
   "cell_type": "code",
   "execution_count": 16,
   "id": "e8d309b6-f03d-4736-bc5c-12871c09ea48",
   "metadata": {},
   "outputs": [],
   "source": [
    "class Course:\n",
    "    \n",
    "    def __init__(self, course_name, course_price):\n",
    "        self.course_name = course_name\n",
    "        self.course_price = course_price\n",
    "        \n",
    "course1 = Course('Data Science Masters', 3500)"
   ]
  },
  {
   "cell_type": "code",
   "execution_count": 17,
   "id": "89fb860b-d9c7-47a4-9cf5-54a0eb7948dd",
   "metadata": {},
   "outputs": [
    {
     "data": {
      "text/plain": [
       "'Data Science Masters'"
      ]
     },
     "execution_count": 17,
     "metadata": {},
     "output_type": "execute_result"
    }
   ],
   "source": [
    "course1.course_name"
   ]
  },
  {
   "cell_type": "code",
   "execution_count": 18,
   "id": "b6c6bad2-7a33-48b7-a97e-13999b998382",
   "metadata": {},
   "outputs": [
    {
     "data": {
      "text/plain": [
       "3500"
      ]
     },
     "execution_count": 18,
     "metadata": {},
     "output_type": "execute_result"
    }
   ],
   "source": [
    "course1.course_price"
   ]
  },
  {
   "cell_type": "code",
   "execution_count": null,
   "id": "1c8341b1-1b81-45cf-8d91-9a2c232afb84",
   "metadata": {},
   "outputs": [],
   "source": [
    "#Q4.\n",
    "\"\"\"\n",
    "Q4. Why self is used in OOPs?\n",
    "\"\"\""
   ]
  },
  {
   "cell_type": "code",
   "execution_count": null,
   "id": "0a23376f-cbbd-4e17-b4e0-5df91f436675",
   "metadata": {},
   "outputs": [],
   "source": [
    "\"\"\"\n",
    "Ans4: self acts here as a pointer/reference so that class can bind the methods and attributes to a particular object.\n",
    "\"\"\""
   ]
  },
  {
   "cell_type": "code",
   "execution_count": null,
   "id": "84410251-0b4f-4d41-9e50-772954476d54",
   "metadata": {},
   "outputs": [],
   "source": [
    "#Q5.\n",
    "\"\"\"\n",
    "Q5. What is inheritance? Give an example for each type of inheritance.\n",
    "\"\"\""
   ]
  },
  {
   "cell_type": "code",
   "execution_count": null,
   "id": "a0d136c5-6f50-4e1b-82a4-27f0183c11c4",
   "metadata": {},
   "outputs": [],
   "source": [
    "\"\"\"Ans 5:\n",
    "When a class derives from another class. The child class will inherit all the public and protected properties and methods from the parent class. \n",
    "In addition, it can have its own properties and methods,this is called as inheritance.\n",
    "\n",
    "Types of Inheritance are:-\n",
    "\n",
    "1. Single Inheritance:\n",
    "Single inheritance enables a derived class to inherit properties from a single parent class, thus enabling code reusability and the addition \n",
    "of new features to existing code.\n",
    "\n",
    "Example:\n",
    "class Parent:\n",
    "    def func1(self):\n",
    "        print(\"This function is in parent class.\")\n",
    " \n",
    "class Child(Parent):\n",
    "    def func2(self):\n",
    "        print(\"This function is in child class.\")\n",
    " \n",
    "object = Child()\n",
    "object.func1()\n",
    "object.func2()\n",
    "Output:\n",
    "This function is in parent class.\n",
    "This function is in child class.\n",
    "\n",
    "2.Multiple Inheritance:\n",
    "When a class can be derived from more than one base class this type of inheritance is called multiple inheritances. In multiple inheritances,\n",
    "all the features of the base classes are inherited into the derived class.\n",
    "\n",
    "Example:\n",
    "class Mother:\n",
    "    mothername = \"\"\n",
    " \n",
    "    def mother(self):\n",
    "        print(self.mothername)\n",
    " \n",
    " \n",
    "class Father:\n",
    "    fathername = \"\"\n",
    " \n",
    "    def father(self):\n",
    "        print(self.fathername)\n",
    " \n",
    " \n",
    "class Son(Mother, Father):\n",
    "    def parents(self):\n",
    "        print(\"Father name is :\", self.fathername)\n",
    "        print(\"Mother :\", self.mothername)\n",
    "\n",
    "s1 = Son()\n",
    "s1.fathername = \"Mommy\"\n",
    "s1.mothername = \"Daddy\"\n",
    "s1.parents()\n",
    "Output:\n",
    "Father name is : Mommy\n",
    "Mother name is : Daddy\n",
    "\n",
    "3.Multilevel Inheritance :\n",
    "In multilevel inheritance, features of the base class and the derived class are further inherited into the new derived class. This is similar \n",
    "to a relationship representing a child and a grandfather.\n",
    "\n",
    "Example:\n",
    "class Grandfather:\n",
    " \n",
    "    def __init__(self, grandfathername):\n",
    "        self.grandfathername = grandfathername\n",
    " \n",
    " \n",
    "class Father(Grandfather):\n",
    "    def __init__(self, fathername, grandfathername):\n",
    "        self.fathername = fathername\n",
    "        Grandfather.__init__(self, grandfathername)\n",
    "\n",
    "class Son(Father):\n",
    "    def __init__(self, sonname, fathername, grandfathername):\n",
    "        self.sonname = sonname\n",
    "        Father.__init__(self, fathername, grandfathername)\n",
    " \n",
    "    def print_name(self):\n",
    "        print('Grandfather name :', self.grandfathername)\n",
    "        print(\"Father name :\", self.fathername)\n",
    "        print(\"Son name :\", self.sonname)\n",
    "\n",
    "s1 = Son('Prince', 'Rampal', 'Lal mani')\n",
    "print(s1.grandfathername)\n",
    "s1.print_name()\n",
    "Output:\n",
    "George\n",
    "Grandfather name : George\n",
    "Father name : Philip\n",
    "Son name : Charles\n",
    "\n",
    "4.Hierarchical Inheritance:\n",
    "When more than one derived class are created from a single base this type of inheritance is called hierarchical inheritance. In this program,\n",
    "we have a parent (base) class and two child (derived) classes.\n",
    "\n",
    "Example:\n",
    "class Parent:\n",
    "    def func1(self):\n",
    "        print(\"This function is in parent class.\")\n",
    "\n",
    "class Child1(Parent):\n",
    "    def func2(self):\n",
    "        print(\"This function is in child 1.\")\n",
    "      \n",
    "class Child2(Parent):\n",
    "    def func3(self):\n",
    "        print(\"This function is in child 2.\")\n",
    " \n",
    "object1 = Child1()\n",
    "object2 = Child2()\n",
    "object1.func1()\n",
    "object1.func2()\n",
    "object2.func1()\n",
    "object2.func3()\n",
    "\n",
    "Output:\n",
    "This function is in parent class.\n",
    "This function is in child 1.\n",
    "This function is in parent class.\n",
    "This function is in child 2.\n",
    "\n",
    "\"\"\""
   ]
  }
 ],
 "metadata": {
  "kernelspec": {
   "display_name": "Python 3 (ipykernel)",
   "language": "python",
   "name": "python3"
  },
  "language_info": {
   "codemirror_mode": {
    "name": "ipython",
    "version": 3
   },
   "file_extension": ".py",
   "mimetype": "text/x-python",
   "name": "python",
   "nbconvert_exporter": "python",
   "pygments_lexer": "ipython3",
   "version": "3.10.8"
  }
 },
 "nbformat": 4,
 "nbformat_minor": 5
}
