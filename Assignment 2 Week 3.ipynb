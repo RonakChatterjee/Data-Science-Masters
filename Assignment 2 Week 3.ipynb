{
 "cells": [
  {
   "cell_type": "code",
   "execution_count": null,
   "id": "91d71f5c-70b5-4259-a968-4d86e31bbac5",
   "metadata": {},
   "outputs": [],
   "source": [
    "\"\"\"\n",
    "1. Create a python program to sort the given list of tuples based on integer value using a \n",
    "lambda function. \n",
    "\n",
    "\n",
    "[('Sachin Tendulkar', 34357), ('Ricky Ponting', 27483), ('Jack Kallis', 25534), ('Virat Kohli', 24936)]\n",
    "\"\"\""
   ]
  },
  {
   "cell_type": "code",
   "execution_count": null,
   "id": "6b7552d3-6881-44cf-8e5f-48d1870b7245",
   "metadata": {},
   "outputs": [],
   "source": [
    "#Answer1:"
   ]
  },
  {
   "cell_type": "code",
   "execution_count": 3,
   "id": "0920f5a2-9632-46a9-ad25-97aba8584d7f",
   "metadata": {},
   "outputs": [
    {
     "name": "stdout",
     "output_type": "stream",
     "text": [
      "[('Virat Kohli', 24936), ('Jack Kallis', 25534), ('Ricky Ponting', 27483), ('Sachin Tendulkar', 34357)]\n"
     ]
    }
   ],
   "source": [
    "my_list = [('Sachin Tendulkar', 34357), ('Ricky Ponting', 27483), ('Jack Kallis', 25534), ('Virat Kohli', 24936)]\n",
    "my_list.sort(key = lambda x : x[1])\n",
    "print(my_list)"
   ]
  },
  {
   "cell_type": "code",
   "execution_count": 4,
   "id": "f83be20e-508b-4ba5-b3c4-b677017e3480",
   "metadata": {},
   "outputs": [
    {
     "name": "stdout",
     "output_type": "stream",
     "text": [
      "[('Sachin Tendulkar', 34357), ('Ricky Ponting', 27483), ('Jack Kallis', 25534), ('Virat Kohli', 24936)]\n"
     ]
    }
   ],
   "source": [
    "# For descending order\n",
    "my_list = [('Sachin Tendulkar', 34357), ('Ricky Ponting', 27483), ('Jack Kallis', 25534), ('Virat Kohli', 24936)]\n",
    "my_list.sort(key = lambda x : x[1], reverse = True)\n",
    "print(my_list)"
   ]
  },
  {
   "cell_type": "code",
   "execution_count": null,
   "id": "f2815058-2dc5-483e-8342-9ebf1280b55c",
   "metadata": {},
   "outputs": [],
   "source": [
    "#Alternate Solution"
   ]
  },
  {
   "cell_type": "code",
   "execution_count": 5,
   "id": "76a61b8f-0421-4472-be0a-4d441c688c0f",
   "metadata": {},
   "outputs": [
    {
     "name": "stdout",
     "output_type": "stream",
     "text": [
      "[('Virat Kohli', 24936), ('Jack Kallis', 25534), ('Ricky Ponting', 27483), ('Sachin Tendulkar', 34357)]\n"
     ]
    }
   ],
   "source": [
    "my_list1 = [('Sachin Tendulkar', 34357), ('Ricky Ponting', 27483), ('Jack Kallis', 25534), ('Virat Kohli', 24936)]\n",
    "sort_lst = sorted(my_list1, key = lambda x: x[1])\n",
    "print(sort_lst)"
   ]
  },
  {
   "cell_type": "code",
   "execution_count": null,
   "id": "c1421bf0-52fd-4913-b3bf-0edb8f61bde8",
   "metadata": {},
   "outputs": [],
   "source": [
    "\"\"\"\n",
    "Q2. Write a Python Program to find the squares of all the numbers in the given list of integers using \n",
    "lambda and map functions.\n",
    "\n",
    "\n",
    "[1, 2, 3, 4, 5, 6, 7, 8, 9, 10]\n",
    "\"\"\""
   ]
  },
  {
   "cell_type": "code",
   "execution_count": null,
   "id": "1c3f922e-022a-4a79-a536-15e93a1fbd49",
   "metadata": {},
   "outputs": [],
   "source": [
    "#Answer 2:"
   ]
  },
  {
   "cell_type": "code",
   "execution_count": 7,
   "id": "7309fe6e-4982-4062-9f82-8115c5193598",
   "metadata": {},
   "outputs": [
    {
     "name": "stdout",
     "output_type": "stream",
     "text": [
      "[1, 4, 9, 16, 25, 36, 49, 64, 81, 100]\n"
     ]
    }
   ],
   "source": [
    "lst_num = [1, 2, 3, 4, 5, 6, 7, 8, 9, 10]\n",
    "sq_list = list(map(lambda x : x**2 , lst_num))\n",
    "print(sq_list)"
   ]
  },
  {
   "cell_type": "code",
   "execution_count": null,
   "id": "6736d2c7-eb13-4be8-bf18-d22bd2abf412",
   "metadata": {},
   "outputs": [],
   "source": [
    "\"\"\"\n",
    "Q3. Write a python program to convert the given list of integers into a tuple of strings. Use map and \n",
    "lambda functions\n",
    "\n",
    "\n",
    "Given String: [1, 2, 3, 4, 5, 6, 7, 8, 9, 10]\n",
    "\n",
    "Expected output: ('1', '2', '3', '4', '5', '6', '7', '8', '9', '10')\n",
    "\"\"\""
   ]
  },
  {
   "cell_type": "code",
   "execution_count": null,
   "id": "50f286de-1c03-4917-abce-73aee8fe4ebc",
   "metadata": {},
   "outputs": [],
   "source": [
    "#Answer 3:"
   ]
  },
  {
   "cell_type": "code",
   "execution_count": 8,
   "id": "5cd4e927-7753-4b39-be66-9f01b33d2bda",
   "metadata": {},
   "outputs": [
    {
     "name": "stdout",
     "output_type": "stream",
     "text": [
      "('1', '2', '3', '4', '5', '6', '7', '8', '9', '10')\n"
     ]
    }
   ],
   "source": [
    "lst1 = [1, 2, 3, 4, 5, 6, 7, 8, 9, 10]\n",
    "tup1 = tuple(map(lambda x : str(x) , lst1))\n",
    "print(tup1)"
   ]
  },
  {
   "cell_type": "code",
   "execution_count": null,
   "id": "5eb595d6-5877-4411-9842-81b7935889c8",
   "metadata": {},
   "outputs": [],
   "source": [
    "\"\"\"\n",
    "Q4.  Write a python program using reduce function to compute the product of a list containing numbers \n",
    "from 1 to 25.\n",
    "\"\"\""
   ]
  },
  {
   "cell_type": "code",
   "execution_count": 12,
   "id": "7b4848bf-b789-4c71-99b3-a3d6e2136e42",
   "metadata": {},
   "outputs": [
    {
     "name": "stdout",
     "output_type": "stream",
     "text": [
      "15511210043330985984000000\n"
     ]
    }
   ],
   "source": [
    "from functools import reduce\n",
    "lst_num = list(range(1,26))\n",
    "prod_lst = reduce(lambda x,y: x*y , lst_num)\n",
    "print(prod_lst)"
   ]
  },
  {
   "cell_type": "code",
   "execution_count": 13,
   "id": "756566c0-3437-4490-ac1c-3c4428f38e80",
   "metadata": {},
   "outputs": [
    {
     "name": "stdout",
     "output_type": "stream",
     "text": [
      "15511210043330985984000000\n"
     ]
    }
   ],
   "source": [
    "#Checking solution\n",
    "# prod = 1\n",
    "# for i in range(1,26):\n",
    "#     prod = prod*i\n",
    "\n",
    "# print(prod)"
   ]
  },
  {
   "cell_type": "code",
   "execution_count": null,
   "id": "75322dd0-20b5-4379-bb95-f6c7967e90f7",
   "metadata": {},
   "outputs": [],
   "source": [
    "\"\"\"\n",
    "Q5. Write a python program to filter the numbers in a given list that are divisible by 2 and 3 using the \n",
    "filter function.\n",
    "\n",
    "\n",
    "[2, 3, 6, 9, 27, 60, 90, 120, 55, 46]\n",
    "\"\"\""
   ]
  },
  {
   "cell_type": "code",
   "execution_count": null,
   "id": "835a88b2-9831-4638-8847-6040db27a982",
   "metadata": {},
   "outputs": [],
   "source": [
    "#Answer 5:"
   ]
  },
  {
   "cell_type": "code",
   "execution_count": 14,
   "id": "9ee07552-4638-4d53-a1fc-2402eb4c9187",
   "metadata": {},
   "outputs": [
    {
     "name": "stdout",
     "output_type": "stream",
     "text": [
      "[6, 60, 90, 120]\n"
     ]
    }
   ],
   "source": [
    "my_list = [2, 3, 6, 9, 27, 60, 90, 120, 55, 46]\n",
    "filter_list = list(filter(lambda x : x%2 == 0 and x%3 == 0 , my_list))\n",
    "print(filter_list)"
   ]
  },
  {
   "cell_type": "code",
   "execution_count": null,
   "id": "07723c52-c4c1-4cb8-859c-b8fc0feeec95",
   "metadata": {},
   "outputs": [],
   "source": [
    "\"\"\"\n",
    "Q6. Write a python program to find palindromes in the given list of strings using lambda and filter \n",
    "function.\n",
    "\n",
    "\n",
    "['python', 'php', 'aba', 'radar', 'level']\n",
    "\"\"\""
   ]
  },
  {
   "cell_type": "code",
   "execution_count": null,
   "id": "5233f1f1-8ba8-4b86-adbc-d52ab467acb7",
   "metadata": {},
   "outputs": [],
   "source": [
    "#Answer 6:"
   ]
  },
  {
   "cell_type": "code",
   "execution_count": 15,
   "id": "f1a2e7af-7651-4580-bc61-578369fa7d6e",
   "metadata": {},
   "outputs": [
    {
     "name": "stdout",
     "output_type": "stream",
     "text": [
      "['php', 'aba', 'radar', 'level']\n"
     ]
    }
   ],
   "source": [
    "lst = ['python', 'php', 'aba', 'radar', 'level']\n",
    "filter_lst = list(filter(lambda x : x == x[::-1], lst))\n",
    "print(filter_lst)"
   ]
  }
 ],
 "metadata": {
  "kernelspec": {
   "display_name": "Python 3 (ipykernel)",
   "language": "python",
   "name": "python3"
  },
  "language_info": {
   "codemirror_mode": {
    "name": "ipython",
    "version": 3
   },
   "file_extension": ".py",
   "mimetype": "text/x-python",
   "name": "python",
   "nbconvert_exporter": "python",
   "pygments_lexer": "ipython3",
   "version": "3.10.8"
  }
 },
 "nbformat": 4,
 "nbformat_minor": 5
}
